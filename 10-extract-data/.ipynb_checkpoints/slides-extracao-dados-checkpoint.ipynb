{
 "cells": [
  {
   "cell_type": "markdown",
   "metadata": {
    "slideshow": {
     "slide_type": "slide"
    }
   },
   "source": [
    "# Aula 10 - Extração de dados de fontes remotas para visualização e análise\n",
    "\n",
    "<center>\n",
    "<img src=\"./images/extracting-insights-from-data.jpg\" alt=\"drawing\" width=\"700px\"></center>"
   ]
  },
  {
   "cell_type": "markdown",
   "metadata": {
    "slideshow": {
     "slide_type": "slide"
    }
   },
   "source": [
    "**Intrutora:** Patrícia Pampanelli (@patriciapampanelli no Slack)\n",
    "\n",
    "**Experiência:**\n",
    "- Cientista da Computação (UFJF)\n",
    "- Mestre em Modelagem Computacional (UFJF)\n",
    "- Doutora em Processamento de Imagens e Visão Computacional (PUC-Rio)\n",
    "- Sênior Data Scientist - Grupo ZAP\n"
   ]
  },
  {
   "cell_type": "markdown",
   "metadata": {
    "slideshow": {
     "slide_type": "slide"
    }
   },
   "source": [
    "**Interesses:**\n",
    "- Carros Autônomos <img src=\"./images/car.png\" alt=\"drawing\" width=\"80px\"> \n",
    "- Visão Computacional <img src=\"./images/eye.png\" alt=\"drawing\" width=\"80px\">\n",
    "- Processamento de Linguagem Natural <img src=\"./images/text.png\" alt=\"drawing\" width=\"80px\">\n",
    "- Intelligent Video Analytics <img src=\"./images/camera.jpg\" alt=\"drawing\" width=\"80px\">"
   ]
  },
  {
   "cell_type": "markdown",
   "metadata": {
    "slideshow": {
     "slide_type": "slide"
    }
   },
   "source": [
    "# Até agora... CSV\n",
    "\n",
    "<img src=\"./images/receive_data.png\" alt=\"drawing\" width=\"400px\">"
   ]
  },
  {
   "cell_type": "markdown",
   "metadata": {
    "slideshow": {
     "slide_type": "subslide"
    }
   },
   "source": [
    "# E se não temos um CSV?! Como extrair?? Soluções?\n",
    "\n",
    "<p align=\"center\">\n",
    "<img src=\"./images/interrogation.jpg\" alt=\"drawing\" width=\"400px\">\n",
    "</p>"
   ]
  },
  {
   "cell_type": "markdown",
   "metadata": {
    "slideshow": {
     "slide_type": "subslide"
    }
   },
   "source": [
    "# Soluções: Banco de Dados e API (Application Programming Interface)\n",
    "\n",
    "<table>\n",
    "<tr>\n",
    "<td> <img src=\"./images/database.png\" width=\"300\" height=\"300\" /></td>  \n",
    "<td> <img src=\"./images/api.png\" width=\"300\" height=\"300\" /> </td> \n",
    "</tr>\n",
    "</table>"
   ]
  },
  {
   "cell_type": "markdown",
   "metadata": {
    "slideshow": {
     "slide_type": "subslide"
    }
   },
   "source": [
    "# O que é uma API?\n",
    "\n",
    "<center>\n",
    "<video controls src=\"whats-is-an-api.mp4\" size=10/></center>\n",
    "Link: https://www.youtube.com/watch?v=s7wmiS2mSXY&t=46s"
   ]
  },
  {
   "cell_type": "markdown",
   "metadata": {
    "slideshow": {
     "slide_type": "subslide"
    }
   },
   "source": [
    "# Dificuldades para se trabalhar com APIs\n",
    "\n",
    "<img src=\"./images/difficulties.png\" width=\"300\" height=\"300\" />\n",
    "\n",
    "- Boas práticas ao se construir APIs são fundamentais!\n",
    "\n",
    "- Dificuldades podem aparecer:\n",
    "    - pouca documentação\n",
    "    - mudança nas interfaces\n",
    "    - dificuldade de processamento dos dados\n",
    "    - falta de padronização no formato dos dados"
   ]
  },
  {
   "cell_type": "markdown",
   "metadata": {
    "slideshow": {
     "slide_type": "slide"
    }
   },
   "source": [
    "# Como são formadas as APIs REST\n",
    "\n",
    "Podemos dizer que uma API é como se fosse uma página da web só que para computadores. Só eles conseguirem acessar, ler e interagir da maneira adequada com as APIs.\n",
    "\n",
    "Como Data Scientists, vocês utilizarão APIs tanto internas (fornecidas pelas próprias empresas em que vocês trabalham) quanto externas.\n",
    "\n",
    "APIs são uma das principais formas que um Data Scientist utiliza para obter os dados que devem ser analisados.\n",
    "\n",
    "<center>\n",
    "<img src=\"./images/data.gif\" alt=\"drawing\" width=\"600px\"></center>"
   ]
  },
  {
   "cell_type": "markdown",
   "metadata": {
    "slideshow": {
     "slide_type": "slide"
    }
   },
   "source": [
    "Como exemplo, ao acessarmos a API da Jsonplaceholder https://jsonplaceholder.typicode.com/posts/1, vemos o retorno abaixo, ao invés de uma página comum:\n",
    "\n",
    "```python\n",
    "{\n",
    "  \"userId\": 1,\n",
    "  \"id\": 1,\n",
    "  \"title\": \"sunt aut facere repellat provident occaecati excepturi optio reprehenderit\",\n",
    "  \"body\": \"quia et suscipit\\nsuscipit recusandae consequuntur expedita et cum\\nreprehenderit molestiae ut ut quas totam\\nnostrum rerum est autem sunt rem eveniet architecto\"\n",
    "}\n",
    "```\n",
    "\n",
    "Esse padrão de resposta é o que chamamos de JSON (*JavaScript Object Notation - Notação de Objetos JavaScript*), e este é o tipo de resposta mais comum entre as APIs.\n",
    "\n",
    "Ele foi feito para que máquinas entendam seus dados e os utilizem como quiser."
   ]
  },
  {
   "cell_type": "markdown",
   "metadata": {
    "slideshow": {
     "slide_type": "slide"
    }
   },
   "source": [
    "# Como funciona o protocolo HTTP\n",
    "\n",
    "A internet trafega através do protocolo **HTTP (*Hypertext Transfer Protocol*)**. O protocolo HTTP foi criado por **Tim Berners-Lee**, o criador da web, enquanto ele trabalhava na CERN em 1989 (sua equipe e ele também foram responsáveis pelo HTML).\n",
    "\n",
    "O HTTP possui duas entidades básicas: a **Request (pedido)** e a **Response (resposta)**\n",
    "\n",
    "Sempre que entramos em uma página, enviamos uma request para o servidor do site e esperamos uma response com o HTML da página."
   ]
  },
  {
   "cell_type": "markdown",
   "metadata": {
    "slideshow": {
     "slide_type": "slide"
    }
   },
   "source": [
    "Sempre que enviamos um ***Request (pedido)*** devemos especificar um método. A tabela abaixo cita os métodos mais comuns e explica brevemente o objetivo de cada um:\n",
    "\n",
    "| Método |        Objetivo       |\n",
    "|:------:|:---------------------:|\n",
    "| GET    | Obter informações     |\n",
    "| POST   | Salvar informações    |\n",
    "| PUT    | Atualizar informações |\n",
    "| DELETE | Deletar informações   |\n",
    "\n",
    "Todos eles são comumente utilizados por APIs.\n",
    "\n",
    "O método ***GET*** é o que seu navegador usa para baixar o HTML da página.\n",
    "\n",
    "O metódo ***POST*** também é muito utilizado sempre que você envia algum formulário em um site.\n",
    "\n",
    "Além do método, as requisições também possuem um **header**:\n",
    "\n",
    "O **Header (cabeçalho)** tem a função de dizer para o servidor diversos dados sobre quem fez a solicitação. Dessa forma, o servidor consegue até permitir que você veja mais informações dependendo do seu nível de acesso."
   ]
  },
  {
   "cell_type": "markdown",
   "metadata": {
    "slideshow": {
     "slide_type": "slide"
    }
   },
   "source": [
    "Todos as respostas possuem, além do conteúdo da resposta, um código de status.\n",
    "\n",
    "Os códigos de status (status code) seguem um padrão.\n",
    "\n",
    "Os mais comuns são:\n",
    "\n",
    "| Código |                                    Significado                                    |\n",
    "|:------:|:---------------------------------------------------------------------------------:|\n",
    "| 200    | Ok                                                                                |\n",
    "| 3XX    | O servidor vai te redirecionar para outra URL                                     |\n",
    "| 4XX    | O recurso não foi encontrado, não está mais disponível, etc                       |\n",
    "| 5XX    | Algum problema aconteceu no servidor e ele não conseguiu processar a sua request  |"
   ]
  },
  {
   "cell_type": "markdown",
   "metadata": {
    "slideshow": {
     "slide_type": "slide"
    }
   },
   "source": [
    "Outra característica das APIs REST é a **divisão dos recursos**. Por exemplo:\n",
    "\n",
    "https://jsonplaceholder.typicode.com/users/1\n",
    "\n",
    "Ao abrirmos esta URL estamos fazendo um GET para obtermos informações do usuário (/users) com código 1 (/1). Podemos trocar o código do usuário para buscar outros usuários.\n",
    "\n",
    "Também podemos pedir todos os usuários digitando:\n",
    "\n",
    "https://jsonplaceholder.typicode.com/users\n"
   ]
  },
  {
   "cell_type": "markdown",
   "metadata": {
    "slideshow": {
     "slide_type": "slide"
    }
   },
   "source": [
    "Também é muito comum o uso de parâmetros na URL para passarmos **filtros para a API**. Por exemplo:\n",
    "\n",
    "https://jsonplaceholder.typicode.com/comments?postId=1\n",
    "\n",
    "Perceba o **\"?postId=1\"** ao final da URL.\n",
    "\n",
    "Sempre que precisamos passar parâmetros, começamos com um ponto de interrogação (?) e depois utilizamos o & para parâmetros futuros. Por exemplo:\n",
    "\n",
    "https://jsonplaceholder.typicode.com/comments?postId=1&id=3"
   ]
  },
  {
   "cell_type": "markdown",
   "metadata": {
    "slideshow": {
     "slide_type": "slide"
    }
   },
   "source": [
    "# Como funciona o pacote Requests\n",
    "\n",
    "Como vimos anteriormente, o pacote requests do Python é utilizado para nos comunicarmos com URLs.\n",
    "\n",
    "Podemos realizar GET, POST, PUT, DELETE e quaisquer outros métodos HTTP com ele."
   ]
  },
  {
   "cell_type": "code",
   "execution_count": 1,
   "metadata": {
    "slideshow": {
     "slide_type": "subslide"
    }
   },
   "outputs": [
    {
     "name": "stdout",
     "output_type": "stream",
     "text": [
      "Leanne Graham (Sincere@april.biz) - hildegard.org\n",
      "Ervin Howell (Shanna@melissa.tv) - anastasia.net\n",
      "Clementine Bauch (Nathan@yesenia.net) - ramiro.info\n",
      "Patricia Lebsack (Julianne.OConner@kory.org) - kale.biz\n",
      "Chelsey Dietrich (Lucio_Hettinger@annie.ca) - demarco.info\n",
      "Mrs. Dennis Schulist (Karley_Dach@jasper.info) - ola.org\n",
      "Kurtis Weissnat (Telly.Hoeger@billy.biz) - elvis.io\n",
      "Nicholas Runolfsdottir V (Sherwood@rosamond.me) - jacynthe.com\n",
      "Glenna Reichert (Chaim_McDermott@dana.io) - conrad.com\n",
      "Clementina DuBuque (Rey.Padberg@karina.biz) - ambrose.net\n"
     ]
    }
   ],
   "source": [
    "# Veja no exemplo abaixo como podemos fazer isso:\n",
    "\n",
    "import requests\n",
    "\n",
    "api = requests.get('https://jsonplaceholder.typicode.com/users')\n",
    "\n",
    "json = api.json()\n",
    "\n",
    "for user in json:\n",
    "    print('{0} ({1}) - {2}'.format(user['name'], user['email'], user['website']))"
   ]
  },
  {
   "cell_type": "code",
   "execution_count": 2,
   "metadata": {},
   "outputs": [
    {
     "data": {
      "text/plain": [
       "[{'id': 1,\n",
       "  'name': 'Leanne Graham',\n",
       "  'username': 'Bret',\n",
       "  'email': 'Sincere@april.biz',\n",
       "  'address': {'street': 'Kulas Light',\n",
       "   'suite': 'Apt. 556',\n",
       "   'city': 'Gwenborough',\n",
       "   'zipcode': '92998-3874',\n",
       "   'geo': {'lat': '-37.3159', 'lng': '81.1496'}},\n",
       "  'phone': '1-770-736-8031 x56442',\n",
       "  'website': 'hildegard.org',\n",
       "  'company': {'name': 'Romaguera-Crona',\n",
       "   'catchPhrase': 'Multi-layered client-server neural-net',\n",
       "   'bs': 'harness real-time e-markets'}},\n",
       " {'id': 2,\n",
       "  'name': 'Ervin Howell',\n",
       "  'username': 'Antonette',\n",
       "  'email': 'Shanna@melissa.tv',\n",
       "  'address': {'street': 'Victor Plains',\n",
       "   'suite': 'Suite 879',\n",
       "   'city': 'Wisokyburgh',\n",
       "   'zipcode': '90566-7771',\n",
       "   'geo': {'lat': '-43.9509', 'lng': '-34.4618'}},\n",
       "  'phone': '010-692-6593 x09125',\n",
       "  'website': 'anastasia.net',\n",
       "  'company': {'name': 'Deckow-Crist',\n",
       "   'catchPhrase': 'Proactive didactic contingency',\n",
       "   'bs': 'synergize scalable supply-chains'}},\n",
       " {'id': 3,\n",
       "  'name': 'Clementine Bauch',\n",
       "  'username': 'Samantha',\n",
       "  'email': 'Nathan@yesenia.net',\n",
       "  'address': {'street': 'Douglas Extension',\n",
       "   'suite': 'Suite 847',\n",
       "   'city': 'McKenziehaven',\n",
       "   'zipcode': '59590-4157',\n",
       "   'geo': {'lat': '-68.6102', 'lng': '-47.0653'}},\n",
       "  'phone': '1-463-123-4447',\n",
       "  'website': 'ramiro.info',\n",
       "  'company': {'name': 'Romaguera-Jacobson',\n",
       "   'catchPhrase': 'Face to face bifurcated interface',\n",
       "   'bs': 'e-enable strategic applications'}},\n",
       " {'id': 4,\n",
       "  'name': 'Patricia Lebsack',\n",
       "  'username': 'Karianne',\n",
       "  'email': 'Julianne.OConner@kory.org',\n",
       "  'address': {'street': 'Hoeger Mall',\n",
       "   'suite': 'Apt. 692',\n",
       "   'city': 'South Elvis',\n",
       "   'zipcode': '53919-4257',\n",
       "   'geo': {'lat': '29.4572', 'lng': '-164.2990'}},\n",
       "  'phone': '493-170-9623 x156',\n",
       "  'website': 'kale.biz',\n",
       "  'company': {'name': 'Robel-Corkery',\n",
       "   'catchPhrase': 'Multi-tiered zero tolerance productivity',\n",
       "   'bs': 'transition cutting-edge web services'}},\n",
       " {'id': 5,\n",
       "  'name': 'Chelsey Dietrich',\n",
       "  'username': 'Kamren',\n",
       "  'email': 'Lucio_Hettinger@annie.ca',\n",
       "  'address': {'street': 'Skiles Walks',\n",
       "   'suite': 'Suite 351',\n",
       "   'city': 'Roscoeview',\n",
       "   'zipcode': '33263',\n",
       "   'geo': {'lat': '-31.8129', 'lng': '62.5342'}},\n",
       "  'phone': '(254)954-1289',\n",
       "  'website': 'demarco.info',\n",
       "  'company': {'name': 'Keebler LLC',\n",
       "   'catchPhrase': 'User-centric fault-tolerant solution',\n",
       "   'bs': 'revolutionize end-to-end systems'}},\n",
       " {'id': 6,\n",
       "  'name': 'Mrs. Dennis Schulist',\n",
       "  'username': 'Leopoldo_Corkery',\n",
       "  'email': 'Karley_Dach@jasper.info',\n",
       "  'address': {'street': 'Norberto Crossing',\n",
       "   'suite': 'Apt. 950',\n",
       "   'city': 'South Christy',\n",
       "   'zipcode': '23505-1337',\n",
       "   'geo': {'lat': '-71.4197', 'lng': '71.7478'}},\n",
       "  'phone': '1-477-935-8478 x6430',\n",
       "  'website': 'ola.org',\n",
       "  'company': {'name': 'Considine-Lockman',\n",
       "   'catchPhrase': 'Synchronised bottom-line interface',\n",
       "   'bs': 'e-enable innovative applications'}},\n",
       " {'id': 7,\n",
       "  'name': 'Kurtis Weissnat',\n",
       "  'username': 'Elwyn.Skiles',\n",
       "  'email': 'Telly.Hoeger@billy.biz',\n",
       "  'address': {'street': 'Rex Trail',\n",
       "   'suite': 'Suite 280',\n",
       "   'city': 'Howemouth',\n",
       "   'zipcode': '58804-1099',\n",
       "   'geo': {'lat': '24.8918', 'lng': '21.8984'}},\n",
       "  'phone': '210.067.6132',\n",
       "  'website': 'elvis.io',\n",
       "  'company': {'name': 'Johns Group',\n",
       "   'catchPhrase': 'Configurable multimedia task-force',\n",
       "   'bs': 'generate enterprise e-tailers'}},\n",
       " {'id': 8,\n",
       "  'name': 'Nicholas Runolfsdottir V',\n",
       "  'username': 'Maxime_Nienow',\n",
       "  'email': 'Sherwood@rosamond.me',\n",
       "  'address': {'street': 'Ellsworth Summit',\n",
       "   'suite': 'Suite 729',\n",
       "   'city': 'Aliyaview',\n",
       "   'zipcode': '45169',\n",
       "   'geo': {'lat': '-14.3990', 'lng': '-120.7677'}},\n",
       "  'phone': '586.493.6943 x140',\n",
       "  'website': 'jacynthe.com',\n",
       "  'company': {'name': 'Abernathy Group',\n",
       "   'catchPhrase': 'Implemented secondary concept',\n",
       "   'bs': 'e-enable extensible e-tailers'}},\n",
       " {'id': 9,\n",
       "  'name': 'Glenna Reichert',\n",
       "  'username': 'Delphine',\n",
       "  'email': 'Chaim_McDermott@dana.io',\n",
       "  'address': {'street': 'Dayna Park',\n",
       "   'suite': 'Suite 449',\n",
       "   'city': 'Bartholomebury',\n",
       "   'zipcode': '76495-3109',\n",
       "   'geo': {'lat': '24.6463', 'lng': '-168.8889'}},\n",
       "  'phone': '(775)976-6794 x41206',\n",
       "  'website': 'conrad.com',\n",
       "  'company': {'name': 'Yost and Sons',\n",
       "   'catchPhrase': 'Switchable contextually-based project',\n",
       "   'bs': 'aggregate real-time technologies'}},\n",
       " {'id': 10,\n",
       "  'name': 'Clementina DuBuque',\n",
       "  'username': 'Moriah.Stanton',\n",
       "  'email': 'Rey.Padberg@karina.biz',\n",
       "  'address': {'street': 'Kattie Turnpike',\n",
       "   'suite': 'Suite 198',\n",
       "   'city': 'Lebsackbury',\n",
       "   'zipcode': '31428-2261',\n",
       "   'geo': {'lat': '-38.2386', 'lng': '57.2232'}},\n",
       "  'phone': '024-648-3804',\n",
       "  'website': 'ambrose.net',\n",
       "  'company': {'name': 'Hoeger LLC',\n",
       "   'catchPhrase': 'Centralized empowering task-force',\n",
       "   'bs': 'target end-to-end models'}}]"
      ]
     },
     "execution_count": 2,
     "metadata": {},
     "output_type": "execute_result"
    }
   ],
   "source": [
    "json"
   ]
  },
  {
   "cell_type": "markdown",
   "metadata": {
    "slideshow": {
     "slide_type": "slide"
    }
   },
   "source": [
    "# Exercício - Extraindo Dados do CoinMarketCap via API\n",
    "\n",
    "Vamos usar o pacote requests para o acessar a API do CoinMarketCap.\n",
    "\n",
    "As instruções da API estão disponíveis em: https://coinmarketcap.com/api/documentation/v1/\n",
    "\n",
    "Deveremos extrair os seguintes dados:\n",
    "\n",
    "- Nome da moeda\n",
    "- Preço atual CONVERTIDO EM REAIS\n",
    "- O valor de mercado total\n",
    "- O valor atual em circulação\n",
    "- Percentual de mudança nas últimas 24 horas\n",
    "- Também deveremos limitar para que a API traga apenas 5 moedas para trabalharmos\n",
    "\n",
    "*Tempo: 10 minutos*"
   ]
  },
  {
   "cell_type": "code",
   "execution_count": 13,
   "metadata": {},
   "outputs": [],
   "source": [
    "import requests"
   ]
  },
  {
   "cell_type": "code",
   "execution_count": 14,
   "metadata": {},
   "outputs": [],
   "source": [
    "api = requests.get('https://api.coinmarketcap.com/v1/ticker/?convert=BRL&limit=10')"
   ]
  },
  {
   "cell_type": "code",
   "execution_count": 15,
   "metadata": {},
   "outputs": [
    {
     "data": {
      "text/plain": [
       "[{'id': 'bitcoin',\n",
       "  'name': 'Bitcoin',\n",
       "  'symbol': 'BTC',\n",
       "  'rank': '1',\n",
       "  'price_usd': '6488.63951208',\n",
       "  'price_btc': '1.0',\n",
       "  '24h_volume_usd': '3371557736.82',\n",
       "  'market_cap_usd': '112511789275',\n",
       "  'available_supply': '17339812.0',\n",
       "  'total_supply': '17339812.0',\n",
       "  'max_supply': '21000000.0',\n",
       "  'percent_change_1h': '-0.08',\n",
       "  'percent_change_24h': '0.28',\n",
       "  'percent_change_7d': '-0.83',\n",
       "  'last_updated': '1540422512',\n",
       "  'price_brl': '24219.4893542',\n",
       "  '24h_volume_brl': '12584673036.9',\n",
       "  'market_cap_brl': '419961392137'},\n",
       " {'id': 'ethereum',\n",
       "  'name': 'Ethereum',\n",
       "  'symbol': 'ETH',\n",
       "  'rank': '2',\n",
       "  'price_usd': '203.663004689',\n",
       "  'price_btc': '0.03156518',\n",
       "  '24h_volume_usd': '1085828892.91',\n",
       "  'market_cap_usd': '20932012651.0',\n",
       "  'available_supply': '102777687.0',\n",
       "  'total_supply': '102777687.0',\n",
       "  'max_supply': None,\n",
       "  'percent_change_1h': '-0.24',\n",
       "  'percent_change_24h': '-0.27',\n",
       "  'percent_change_7d': '-1.75',\n",
       "  'last_updated': '1540422505',\n",
       "  'price_brl': '760.192327639',\n",
       "  '24h_volume_brl': '4052963839.85',\n",
       "  'market_cap_brl': '78130809489.0'},\n",
       " {'id': 'ripple',\n",
       "  'name': 'XRP',\n",
       "  'symbol': 'XRP',\n",
       "  'rank': '3',\n",
       "  'price_usd': '0.4572275893',\n",
       "  'price_btc': '0.00007084',\n",
       "  '24h_volume_usd': '293761743.05',\n",
       "  'market_cap_usd': '18288021954.0',\n",
       "  'available_supply': '39997634397.0',\n",
       "  'total_supply': '99991817275.0',\n",
       "  'max_supply': '100000000000',\n",
       "  'percent_change_1h': '-0.63',\n",
       "  'percent_change_24h': '-0.97',\n",
       "  'percent_change_7d': '-2.45',\n",
       "  'last_updated': '1540422543',\n",
       "  'price_brl': '1.7066472427',\n",
       "  '24h_volume_brl': '1096494788.35',\n",
       "  'market_cap_brl': '68261852457.0'},\n",
       " {'id': 'bitcoin-cash',\n",
       "  'name': 'Bitcoin Cash',\n",
       "  'symbol': 'BCH',\n",
       "  'rank': '4',\n",
       "  'price_usd': '441.183943124',\n",
       "  'price_btc': '0.0683779',\n",
       "  '24h_volume_usd': '247303407.867',\n",
       "  'market_cap_usd': '7685644881.0',\n",
       "  'available_supply': '17420500.0',\n",
       "  'total_supply': '17420500.0',\n",
       "  'max_supply': '21000000.0',\n",
       "  'percent_change_1h': '-0.23',\n",
       "  'percent_change_24h': '-0.15',\n",
       "  'percent_change_7d': '-1.78',\n",
       "  'last_updated': '1540422502',\n",
       "  'price_brl': '1646.76274492',\n",
       "  '24h_volume_brl': '923084452.902',\n",
       "  'market_cap_brl': '28687430398.0'},\n",
       " {'id': 'eos',\n",
       "  'name': 'EOS',\n",
       "  'symbol': 'EOS',\n",
       "  'rank': '5',\n",
       "  'price_usd': '5.3720706435',\n",
       "  'price_btc': '0.0008326',\n",
       "  '24h_volume_usd': '303671310.374',\n",
       "  'market_cap_usd': '4868412792.0',\n",
       "  'available_supply': '906245118.0',\n",
       "  'total_supply': '1006245120.0',\n",
       "  'max_supply': None,\n",
       "  'percent_change_1h': '-0.27',\n",
       "  'percent_change_24h': '-0.71',\n",
       "  'percent_change_7d': '-0.66',\n",
       "  'last_updated': '1540422514',\n",
       "  'price_brl': '20.0517855118',\n",
       "  '24h_volume_brl': '1133483229.43',\n",
       "  'market_cap_brl': '18171832719.0'},\n",
       " {'id': 'stellar',\n",
       "  'name': 'Stellar',\n",
       "  'symbol': 'XLM',\n",
       "  'rank': '6',\n",
       "  'price_usd': '0.238027654',\n",
       "  'price_btc': '0.00003688',\n",
       "  '24h_volume_usd': '39271484.3482',\n",
       "  'market_cap_usd': '4497475001.0',\n",
       "  'available_supply': '18894758343.0',\n",
       "  'total_supply': '104403430212',\n",
       "  'max_supply': None,\n",
       "  'percent_change_1h': '-0.13',\n",
       "  'percent_change_24h': '-1.46',\n",
       "  'percent_change_7d': '-1.38',\n",
       "  'last_updated': '1540422559',\n",
       "  'price_brl': '0.8884617832',\n",
       "  '24h_volume_brl': '146584703.206',\n",
       "  'market_cap_brl': '16787270692.0'},\n",
       " {'id': 'litecoin',\n",
       "  'name': 'Litecoin',\n",
       "  'symbol': 'LTC',\n",
       "  'rank': '7',\n",
       "  'price_usd': '52.3806818391',\n",
       "  'price_btc': '0.00811562',\n",
       "  '24h_volume_usd': '289851691.788',\n",
       "  'market_cap_usd': '3083548692.0',\n",
       "  'available_supply': '58868052.0',\n",
       "  'total_supply': '58868052.0',\n",
       "  'max_supply': '84000000.0',\n",
       "  'percent_change_1h': '-0.07',\n",
       "  'percent_change_24h': '-0.25',\n",
       "  'percent_change_7d': '-2.31',\n",
       "  'last_updated': '1540422548',\n",
       "  'price_brl': '195.516080652',\n",
       "  '24h_volume_brl': '1081900134.92',\n",
       "  'market_cap_brl': '11509650763.0'},\n",
       " {'id': 'tether',\n",
       "  'name': 'Tether',\n",
       "  'symbol': 'USDT',\n",
       "  'rank': '8',\n",
       "  'price_usd': '0.9872686433',\n",
       "  'price_btc': '0.00015296',\n",
       "  '24h_volume_usd': '1745693856.55',\n",
       "  'market_cap_usd': '2000622638.0',\n",
       "  'available_supply': '2026421736.0',\n",
       "  'total_supply': '2580109502.0',\n",
       "  'max_supply': None,\n",
       "  'percent_change_1h': '0.05',\n",
       "  'percent_change_24h': '0.09',\n",
       "  'percent_change_7d': '1.65',\n",
       "  'last_updated': '1540422569',\n",
       "  'price_brl': '3.6850779508',\n",
       "  '24h_volume_brl': '6515975143.27',\n",
       "  'market_cap_brl': '7467522057.0'},\n",
       " {'id': 'cardano',\n",
       "  'name': 'Cardano',\n",
       "  'symbol': 'ADA',\n",
       "  'rank': '9',\n",
       "  'price_usd': '0.0745314601',\n",
       "  'price_btc': '0.00001155',\n",
       "  '24h_volume_usd': '13921516.1174',\n",
       "  'market_cap_usd': '1932382424.0',\n",
       "  'available_supply': '25927070538.0',\n",
       "  'total_supply': '31112483745.0',\n",
       "  'max_supply': '45000000000.0',\n",
       "  'percent_change_1h': '-0.01',\n",
       "  'percent_change_24h': '-0.07',\n",
       "  'percent_change_7d': '-3.82',\n",
       "  'last_updated': '1540422510',\n",
       "  'price_brl': '0.2781960535',\n",
       "  '24h_volume_brl': '51963437.1383',\n",
       "  'market_cap_brl': '7212808702.0'},\n",
       " {'id': 'monero',\n",
       "  'name': 'Monero',\n",
       "  'symbol': 'XMR',\n",
       "  'rank': '10',\n",
       "  'price_usd': '106.648720532',\n",
       "  'price_btc': '0.01652365',\n",
       "  '24h_volume_usd': '11901559.0398',\n",
       "  'market_cap_usd': '1761304907.0',\n",
       "  'available_supply': '16515012.0',\n",
       "  'total_supply': '16515012.0',\n",
       "  'max_supply': None,\n",
       "  'percent_change_1h': '-0.21',\n",
       "  'percent_change_24h': '-1.67',\n",
       "  'percent_change_7d': '1.03',\n",
       "  'last_updated': '1540422547',\n",
       "  'price_brl': '398.076907609',\n",
       "  '24h_volume_brl': '44423747.3705',\n",
       "  'market_cap_brl': '6574244936.0'}]"
      ]
     },
     "execution_count": 15,
     "metadata": {},
     "output_type": "execute_result"
    }
   ],
   "source": [
    "json = api.json()\n",
    "json"
   ]
  },
  {
   "cell_type": "code",
   "execution_count": null,
   "metadata": {},
   "outputs": [],
   "source": []
  },
  {
   "cell_type": "code",
   "execution_count": 20,
   "metadata": {},
   "outputs": [
    {
     "ename": "TypeError",
     "evalue": "string indices must be integers",
     "output_type": "error",
     "traceback": [
      "\u001b[0;31m---------------------------------------------------------------------------\u001b[0m",
      "\u001b[0;31mTypeError\u001b[0m                                 Traceback (most recent call last)",
      "\u001b[0;32m<ipython-input-20-a613c20ac7ca>\u001b[0m in \u001b[0;36m<module>\u001b[0;34m()\u001b[0m\n\u001b[1;32m      1\u001b[0m \u001b[0;32mfor\u001b[0m \u001b[0mcoin\u001b[0m \u001b[0;32min\u001b[0m \u001b[0mjson\u001b[0m\u001b[0;34m:\u001b[0m\u001b[0;34m\u001b[0m\u001b[0m\n\u001b[0;32m----> 2\u001b[0;31m     \u001b[0mname\u001b[0m \u001b[0;34m=\u001b[0m \u001b[0mcoin\u001b[0m\u001b[0;34m[\u001b[0m\u001b[0;34m'name'\u001b[0m\u001b[0;34m]\u001b[0m\u001b[0;34m\u001b[0m\u001b[0m\n\u001b[0m\u001b[1;32m      3\u001b[0m     \u001b[0mprice\u001b[0m \u001b[0;34m=\u001b[0m \u001b[0mcoin\u001b[0m\u001b[0;34m[\u001b[0m\u001b[0;34m'price_brl'\u001b[0m\u001b[0;34m]\u001b[0m\u001b[0;34m\u001b[0m\u001b[0m\n\u001b[1;32m      4\u001b[0m     \u001b[0mmarket\u001b[0m \u001b[0;34m=\u001b[0m \u001b[0mcoin\u001b[0m\u001b[0;34m[\u001b[0m\u001b[0;34m'market_cap_brl'\u001b[0m\u001b[0;34m]\u001b[0m\u001b[0;34m\u001b[0m\u001b[0m\n\u001b[1;32m      5\u001b[0m     \u001b[0mavailable\u001b[0m \u001b[0;34m=\u001b[0m \u001b[0mcoin\u001b[0m\u001b[0;34m[\u001b[0m\u001b[0;34m'available_supply'\u001b[0m\u001b[0;34m]\u001b[0m\u001b[0;34m\u001b[0m\u001b[0m\n",
      "\u001b[0;31mTypeError\u001b[0m: string indices must be integers"
     ]
    }
   ],
   "source": [
    "for coin in json:\n",
    "    name = coin['name']\n",
    "    price = coin['price_brl']\n",
    "    market = coin['market_cap_brl']\n",
    "    available = coin['available_supply']\n",
    "    percent = coin['percent_change_24h']\n",
    "    print('{0}: {1} ({2} / 24h)'.format(name, price, percent))\n",
    "    print('Em circulação: {0}'.format(available))\n",
    "    print('Valor de mercado: {0}'.format(market))\n",
    "    print('------------------------------------')"
   ]
  },
  {
   "cell_type": "code",
   "execution_count": 21,
   "metadata": {
    "slideshow": {
     "slide_type": "subslide"
    }
   },
   "outputs": [
    {
     "ename": "MissingSchema",
     "evalue": "Invalid URL 'API': No schema supplied. Perhaps you meant http://API?",
     "output_type": "error",
     "traceback": [
      "\u001b[0;31m---------------------------------------------------------------------------\u001b[0m",
      "\u001b[0;31mMissingSchema\u001b[0m                             Traceback (most recent call last)",
      "\u001b[0;32m<ipython-input-21-f474ea1ca395>\u001b[0m in \u001b[0;36m<module>\u001b[0;34m()\u001b[0m\n\u001b[1;32m      1\u001b[0m \u001b[0;32mimport\u001b[0m \u001b[0mrequests\u001b[0m\u001b[0;34m\u001b[0m\u001b[0m\n\u001b[1;32m      2\u001b[0m \u001b[0;34m\u001b[0m\u001b[0m\n\u001b[0;32m----> 3\u001b[0;31m \u001b[0mapi\u001b[0m \u001b[0;34m=\u001b[0m \u001b[0mrequests\u001b[0m\u001b[0;34m.\u001b[0m\u001b[0mget\u001b[0m\u001b[0;34m(\u001b[0m\u001b[0;34m'API'\u001b[0m\u001b[0;34m)\u001b[0m\u001b[0;34m\u001b[0m\u001b[0m\n\u001b[0m\u001b[1;32m      4\u001b[0m \u001b[0;34m\u001b[0m\u001b[0m\n\u001b[1;32m      5\u001b[0m \u001b[0mjson\u001b[0m \u001b[0;34m=\u001b[0m \u001b[0mapi\u001b[0m\u001b[0;34m.\u001b[0m\u001b[0mjson\u001b[0m\u001b[0;34m(\u001b[0m\u001b[0;34m)\u001b[0m\u001b[0;34m\u001b[0m\u001b[0m\n",
      "\u001b[0;32m~/anaconda3/lib/python3.7/site-packages/requests/api.py\u001b[0m in \u001b[0;36mget\u001b[0;34m(url, params, **kwargs)\u001b[0m\n\u001b[1;32m     70\u001b[0m \u001b[0;34m\u001b[0m\u001b[0m\n\u001b[1;32m     71\u001b[0m     \u001b[0mkwargs\u001b[0m\u001b[0;34m.\u001b[0m\u001b[0msetdefault\u001b[0m\u001b[0;34m(\u001b[0m\u001b[0;34m'allow_redirects'\u001b[0m\u001b[0;34m,\u001b[0m \u001b[0;32mTrue\u001b[0m\u001b[0;34m)\u001b[0m\u001b[0;34m\u001b[0m\u001b[0m\n\u001b[0;32m---> 72\u001b[0;31m     \u001b[0;32mreturn\u001b[0m \u001b[0mrequest\u001b[0m\u001b[0;34m(\u001b[0m\u001b[0;34m'get'\u001b[0m\u001b[0;34m,\u001b[0m \u001b[0murl\u001b[0m\u001b[0;34m,\u001b[0m \u001b[0mparams\u001b[0m\u001b[0;34m=\u001b[0m\u001b[0mparams\u001b[0m\u001b[0;34m,\u001b[0m \u001b[0;34m**\u001b[0m\u001b[0mkwargs\u001b[0m\u001b[0;34m)\u001b[0m\u001b[0;34m\u001b[0m\u001b[0m\n\u001b[0m\u001b[1;32m     73\u001b[0m \u001b[0;34m\u001b[0m\u001b[0m\n\u001b[1;32m     74\u001b[0m \u001b[0;34m\u001b[0m\u001b[0m\n",
      "\u001b[0;32m~/anaconda3/lib/python3.7/site-packages/requests/api.py\u001b[0m in \u001b[0;36mrequest\u001b[0;34m(method, url, **kwargs)\u001b[0m\n\u001b[1;32m     56\u001b[0m     \u001b[0;31m# cases, and look like a memory leak in others.\u001b[0m\u001b[0;34m\u001b[0m\u001b[0;34m\u001b[0m\u001b[0m\n\u001b[1;32m     57\u001b[0m     \u001b[0;32mwith\u001b[0m \u001b[0msessions\u001b[0m\u001b[0;34m.\u001b[0m\u001b[0mSession\u001b[0m\u001b[0;34m(\u001b[0m\u001b[0;34m)\u001b[0m \u001b[0;32mas\u001b[0m \u001b[0msession\u001b[0m\u001b[0;34m:\u001b[0m\u001b[0;34m\u001b[0m\u001b[0m\n\u001b[0;32m---> 58\u001b[0;31m         \u001b[0;32mreturn\u001b[0m \u001b[0msession\u001b[0m\u001b[0;34m.\u001b[0m\u001b[0mrequest\u001b[0m\u001b[0;34m(\u001b[0m\u001b[0mmethod\u001b[0m\u001b[0;34m=\u001b[0m\u001b[0mmethod\u001b[0m\u001b[0;34m,\u001b[0m \u001b[0murl\u001b[0m\u001b[0;34m=\u001b[0m\u001b[0murl\u001b[0m\u001b[0;34m,\u001b[0m \u001b[0;34m**\u001b[0m\u001b[0mkwargs\u001b[0m\u001b[0;34m)\u001b[0m\u001b[0;34m\u001b[0m\u001b[0m\n\u001b[0m\u001b[1;32m     59\u001b[0m \u001b[0;34m\u001b[0m\u001b[0m\n\u001b[1;32m     60\u001b[0m \u001b[0;34m\u001b[0m\u001b[0m\n",
      "\u001b[0;32m~/anaconda3/lib/python3.7/site-packages/requests/sessions.py\u001b[0m in \u001b[0;36mrequest\u001b[0;34m(self, method, url, params, data, headers, cookies, files, auth, timeout, allow_redirects, proxies, hooks, stream, verify, cert, json)\u001b[0m\n\u001b[1;32m    496\u001b[0m             \u001b[0mhooks\u001b[0m\u001b[0;34m=\u001b[0m\u001b[0mhooks\u001b[0m\u001b[0;34m,\u001b[0m\u001b[0;34m\u001b[0m\u001b[0m\n\u001b[1;32m    497\u001b[0m         )\n\u001b[0;32m--> 498\u001b[0;31m         \u001b[0mprep\u001b[0m \u001b[0;34m=\u001b[0m \u001b[0mself\u001b[0m\u001b[0;34m.\u001b[0m\u001b[0mprepare_request\u001b[0m\u001b[0;34m(\u001b[0m\u001b[0mreq\u001b[0m\u001b[0;34m)\u001b[0m\u001b[0;34m\u001b[0m\u001b[0m\n\u001b[0m\u001b[1;32m    499\u001b[0m \u001b[0;34m\u001b[0m\u001b[0m\n\u001b[1;32m    500\u001b[0m         \u001b[0mproxies\u001b[0m \u001b[0;34m=\u001b[0m \u001b[0mproxies\u001b[0m \u001b[0;32mor\u001b[0m \u001b[0;34m{\u001b[0m\u001b[0;34m}\u001b[0m\u001b[0;34m\u001b[0m\u001b[0m\n",
      "\u001b[0;32m~/anaconda3/lib/python3.7/site-packages/requests/sessions.py\u001b[0m in \u001b[0;36mprepare_request\u001b[0;34m(self, request)\u001b[0m\n\u001b[1;32m    439\u001b[0m             \u001b[0mauth\u001b[0m\u001b[0;34m=\u001b[0m\u001b[0mmerge_setting\u001b[0m\u001b[0;34m(\u001b[0m\u001b[0mauth\u001b[0m\u001b[0;34m,\u001b[0m \u001b[0mself\u001b[0m\u001b[0;34m.\u001b[0m\u001b[0mauth\u001b[0m\u001b[0;34m)\u001b[0m\u001b[0;34m,\u001b[0m\u001b[0;34m\u001b[0m\u001b[0m\n\u001b[1;32m    440\u001b[0m             \u001b[0mcookies\u001b[0m\u001b[0;34m=\u001b[0m\u001b[0mmerged_cookies\u001b[0m\u001b[0;34m,\u001b[0m\u001b[0;34m\u001b[0m\u001b[0m\n\u001b[0;32m--> 441\u001b[0;31m             \u001b[0mhooks\u001b[0m\u001b[0;34m=\u001b[0m\u001b[0mmerge_hooks\u001b[0m\u001b[0;34m(\u001b[0m\u001b[0mrequest\u001b[0m\u001b[0;34m.\u001b[0m\u001b[0mhooks\u001b[0m\u001b[0;34m,\u001b[0m \u001b[0mself\u001b[0m\u001b[0;34m.\u001b[0m\u001b[0mhooks\u001b[0m\u001b[0;34m)\u001b[0m\u001b[0;34m,\u001b[0m\u001b[0;34m\u001b[0m\u001b[0m\n\u001b[0m\u001b[1;32m    442\u001b[0m         )\n\u001b[1;32m    443\u001b[0m         \u001b[0;32mreturn\u001b[0m \u001b[0mp\u001b[0m\u001b[0;34m\u001b[0m\u001b[0m\n",
      "\u001b[0;32m~/anaconda3/lib/python3.7/site-packages/requests/models.py\u001b[0m in \u001b[0;36mprepare\u001b[0;34m(self, method, url, headers, files, data, params, auth, cookies, hooks, json)\u001b[0m\n\u001b[1;32m    307\u001b[0m \u001b[0;34m\u001b[0m\u001b[0m\n\u001b[1;32m    308\u001b[0m         \u001b[0mself\u001b[0m\u001b[0;34m.\u001b[0m\u001b[0mprepare_method\u001b[0m\u001b[0;34m(\u001b[0m\u001b[0mmethod\u001b[0m\u001b[0;34m)\u001b[0m\u001b[0;34m\u001b[0m\u001b[0m\n\u001b[0;32m--> 309\u001b[0;31m         \u001b[0mself\u001b[0m\u001b[0;34m.\u001b[0m\u001b[0mprepare_url\u001b[0m\u001b[0;34m(\u001b[0m\u001b[0murl\u001b[0m\u001b[0;34m,\u001b[0m \u001b[0mparams\u001b[0m\u001b[0;34m)\u001b[0m\u001b[0;34m\u001b[0m\u001b[0m\n\u001b[0m\u001b[1;32m    310\u001b[0m         \u001b[0mself\u001b[0m\u001b[0;34m.\u001b[0m\u001b[0mprepare_headers\u001b[0m\u001b[0;34m(\u001b[0m\u001b[0mheaders\u001b[0m\u001b[0;34m)\u001b[0m\u001b[0;34m\u001b[0m\u001b[0m\n\u001b[1;32m    311\u001b[0m         \u001b[0mself\u001b[0m\u001b[0;34m.\u001b[0m\u001b[0mprepare_cookies\u001b[0m\u001b[0;34m(\u001b[0m\u001b[0mcookies\u001b[0m\u001b[0;34m)\u001b[0m\u001b[0;34m\u001b[0m\u001b[0m\n",
      "\u001b[0;32m~/anaconda3/lib/python3.7/site-packages/requests/models.py\u001b[0m in \u001b[0;36mprepare_url\u001b[0;34m(self, url, params)\u001b[0m\n\u001b[1;32m    381\u001b[0m             \u001b[0merror\u001b[0m \u001b[0;34m=\u001b[0m \u001b[0merror\u001b[0m\u001b[0;34m.\u001b[0m\u001b[0mformat\u001b[0m\u001b[0;34m(\u001b[0m\u001b[0mto_native_string\u001b[0m\u001b[0;34m(\u001b[0m\u001b[0murl\u001b[0m\u001b[0;34m,\u001b[0m \u001b[0;34m'utf8'\u001b[0m\u001b[0;34m)\u001b[0m\u001b[0;34m)\u001b[0m\u001b[0;34m\u001b[0m\u001b[0m\n\u001b[1;32m    382\u001b[0m \u001b[0;34m\u001b[0m\u001b[0m\n\u001b[0;32m--> 383\u001b[0;31m             \u001b[0;32mraise\u001b[0m \u001b[0mMissingSchema\u001b[0m\u001b[0;34m(\u001b[0m\u001b[0merror\u001b[0m\u001b[0;34m)\u001b[0m\u001b[0;34m\u001b[0m\u001b[0m\n\u001b[0m\u001b[1;32m    384\u001b[0m \u001b[0;34m\u001b[0m\u001b[0m\n\u001b[1;32m    385\u001b[0m         \u001b[0;32mif\u001b[0m \u001b[0;32mnot\u001b[0m \u001b[0mhost\u001b[0m\u001b[0;34m:\u001b[0m\u001b[0;34m\u001b[0m\u001b[0m\n",
      "\u001b[0;31mMissingSchema\u001b[0m: Invalid URL 'API': No schema supplied. Perhaps you meant http://API?"
     ]
    }
   ],
   "source": [
    "import requests\n",
    "\n",
    "api = requests.get('API')\n",
    "\n",
    "json = api.json()\n",
    "\n",
    "for key in json['data']:\n",
    "\n",
    "    moeda = json['data'][key]\n",
    "    \n",
    "    nome = 'moed'\n",
    "    preco = '$222'\n",
    "    valor_mercado = '$555' \n",
    "    em_circulacao = '46465'\n",
    "    percentual_dia = '1.56%'\n",
    "    print('{0}: {1} ({2} / 24h)'.format(nome, preco, percentual_dia))\n",
    "    print('Em circulação: {0}'.format(em_circulacao))\n",
    "    print('Valor de mercado: {0}'.format(valor_mercado))\n",
    "    print('-------------')"
   ]
  },
  {
   "cell_type": "markdown",
   "metadata": {
    "slideshow": {
     "slide_type": "slide"
    }
   },
   "source": [
    "# Como utilizar APIs com autenticação\n",
    "\n",
    "É muito comum encontrarmos APIs que necessitam de autenticação. Isto é, algum identificador que diz para ela quem está requisitando aquela informação.\n",
    "\n",
    "Para realizarmos autenticação em APIs REST nós normalmente utilizamos um Header e um Token de acesso.\n",
    "\n",
    "Porém, algumas APIs também utilizam parâmetros para realizar a autenticação.\n",
    "\n",
    "Abaixo vamos ver como acessar a API da NASA (https://api.nasa.gov/api.html#authentication) utilizando um token.\n",
    "\n",
    "*Aviso para leitores do futuro: se essa key não funcionar, é só entrar no site da NASA e gerar uma nova digitando o seu e-mail.*"
   ]
  },
  {
   "cell_type": "code",
   "execution_count": 22,
   "metadata": {
    "scrolled": true,
    "slideshow": {
     "slide_type": "subslide"
    }
   },
   "outputs": [
    {
     "name": "stdout",
     "output_type": "stream",
     "text": [
      "2018-10-24\n",
      "What's happening in the sky? Unusual lights appeared last week to hover above Whitefish Bay on the eastern edge of Lake Superior between the USA and Canada. Unsure of the cause, the Michigan-based astrophotographer switched camera lenses -- from fisheye to telephoto -- and soon realized he was seeing light pillars: vertical lines of light over a ground source that reflect from falling ice crystals.  As the ground temperature was above freezing, the flat crystals likely melted as they approached the ground, creating a lower end to the vertical light pillars.  The red ground lights originated from wind turbines on Ile Parisienne, a Canadian Island visible across the bay.\n"
     ]
    }
   ],
   "source": [
    "import  requests\n",
    "\n",
    "key = {'api_key': 'w7kB3neCQ3nKhTJ8RbX4tgDrWIhiSJl3EtOpcskT'}\n",
    "\n",
    "api = requests.get('https://api.nasa.gov/planetary/apod', params=key)\n",
    "\n",
    "json = api.json()\n",
    "\n",
    "print(json['date'])\n",
    "print(json['explanation'])"
   ]
  },
  {
   "cell_type": "markdown",
   "metadata": {
    "slideshow": {
     "slide_type": "subslide"
    }
   },
   "source": [
    "# Nós podemos inclusive visualizar a imagem do dia na NASA!!!\n",
    "\n",
    "<center>\n",
    "<img src=\"./images/uau.jpg\" alt=\"drawing\" width=\"400px\"></center>"
   ]
  },
  {
   "cell_type": "code",
   "execution_count": 23,
   "metadata": {
    "slideshow": {
     "slide_type": "subslide"
    }
   },
   "outputs": [
    {
     "data": {
      "image/png": "[encoded data removed]",
      "text/plain": [
       "<Figure size 432x288 with 1 Axes>"
      ]
     },
     "metadata": {
      "needs_background": "light"
     },
     "output_type": "display_data"
    }
   ],
   "source": [
    "#!pip3 install scikit-image\n",
    "from skimage import io\n",
    "import matplotlib.pyplot as plt\n",
    "import  requests\n",
    "\n",
    "key = {'api_key': 'w7kB3neCQ3nKhTJ8RbX4tgDrWIhiSJl3EtOpcskT'}\n",
    "\n",
    "api = requests.get('https://api.nasa.gov/planetary/apod', params=key)\n",
    "\n",
    "json = api.json()\n",
    "\n",
    "image = io.imread(json['url'])\n",
    "plt.imshow(image)\n",
    "plt.show()"
   ]
  },
  {
   "cell_type": "markdown",
   "metadata": {
    "slideshow": {
     "slide_type": "slide"
    }
   },
   "source": [
    "# Escrita e leitura de arquivos em Python\n",
    "\n",
    "Em Python, assim como em outras linguagens de programação, podemos manipular arquivos que estão em nosso disco.\n",
    "\n",
    "Para isso, utilizamos o open para nos trazer um objeto de arquivo.\n",
    "\n",
    "O open precisa saber o nome do arquivo para conseguir ler seu conteúdo:\n",
    "\n",
    "```python\n",
    "open(\"nome_do_arquivo\")\n",
    "```\n",
    "\n",
    "No entanto, existe um segundo argumento que podemos passar para dizer qual o modo que queremos trabalhar com esse arquivo.\n",
    "\n",
    "Abaixo podemos ver exemplos de códigos com os modos mais comuns:\n",
    "\n",
    "```python\n",
    "open('nome_do_arquivo', 'r')  #Apenas leitura - padrão quando o modo é omitido\n",
    "\n",
    "open('nome_do_arquivo', 'r+') #Leitura e escrita\n",
    "\n",
    "open('nome_do_arquivo', 'w')  #Apenas escrita, apaga tudo que tem no arquivo antes de escrever novamente\n",
    "\n",
    "open('nome_do_arquivo', 'a')  #\"Append\", adiciona o que você quiser ao final do arquivo, sem apagar nada\n",
    "```"
   ]
  },
  {
   "cell_type": "markdown",
   "metadata": {
    "slideshow": {
     "slide_type": "slide"
    }
   },
   "source": [
    "Também existe um argumento para passarmos em qual encoding gostaríamos de escrever.\n",
    "\n",
    "```python\n",
    "open('nome_do_arquivo', 'w', encoding='utf-8')\n",
    "```"
   ]
  },
  {
   "cell_type": "markdown",
   "metadata": {
    "slideshow": {
     "slide_type": "slide"
    }
   },
   "source": [
    "Você pode conferir todos os parâmetros do método open aqui: https://docs.python.org/3/library/functions.html#open\n",
    "\n",
    "Todo o processo de escrita e leitura de arquivos deve ser feita com muito cuidado. Como são operações mais lentas, você pode acabar travando seu computador se fizer um loop errado enquanto escreve um arquivo.\n",
    "\n",
    "Por isso, é muito importante se lembrar de SEMPRE fechar o arquivo após o uso dele no Python.\n",
    "\n",
    "Vamos ver um exemplo:\n",
    "\n",
    "```python\n",
    "f = open('arquivo_teste.txt', 'w')\n",
    "\n",
    "f.write('Alô? Alguém me escuta?')\n",
    "\n",
    "f.close()\n",
    "```\n"
   ]
  },
  {
   "cell_type": "markdown",
   "metadata": {
    "slideshow": {
     "slide_type": "slide"
    }
   },
   "source": [
    "# Porque o Context Manager (with) é necessário\n",
    "\n",
    "Em Python, podemos pedir ajuda de um Context Manager para automaticamente fechar o arquivo após o uso.\n",
    "\n",
    "Isso é a recomendação das boas práticas e evita que seu código tenha bugs.\n",
    "\n",
    "Para utilizarmos essa funcionalidade, basta utilizar a palavra reservada with\n",
    "\n",
    "Vamos ver um exemplo:\n",
    "\n",
    "```python\n",
    "with open(('arquivo_teste.txt''arquivo , 'r') as f:\n",
    "    print(f.readline())\n",
    "\n",
    "print('\\n\\nSerá que o arquivo está fechado? {0}'.format(f.closed))\n",
    "```\n"
   ]
  },
  {
   "cell_type": "markdown",
   "metadata": {
    "slideshow": {
     "slide_type": "slide"
    }
   },
   "source": [
    "# O que é um arquivo CSV (*Comma-separated values*)\n",
    "\n",
    "Arquivos CSV são apenas uma coleção de dados separados por um caractere especial (normalmente , ou ;).\n",
    "\n",
    "Eles são muito importantes para fazer movimentações de dados de um lugar para o outro.\n",
    "\n",
    "Todos os softwares de planilha do mercado aceitam arquivos CSV.\n",
    "\n",
    "Alguns cuidados que devemos seguir ao criar um arquivo CSV:\n",
    "\n",
    "- Sempre terminar as linhas com **\\n**\n",
    "- Sempre utilizar o encoding como **utf-8**\n",
    "- Utilizar caracteres que não influenciam no dado (ex.: vírgulas para separar dados númericos que também usam vírgulas)\n",
    "\n",
    "Vamos ver um exemplo de como podemos criar um arquivo CSV em Python a partir do scraping da API do Jsonplaceholder."
   ]
  },
  {
   "cell_type": "code",
   "execution_count": 24,
   "metadata": {
    "slideshow": {
     "slide_type": "subslide"
    }
   },
   "outputs": [
    {
     "name": "stdout",
     "output_type": "stream",
     "text": [
      "Leanne Graham;Sincere@april.biz;hildegard.org\n",
      "\n",
      "Ervin Howell;Shanna@melissa.tv;anastasia.net\n",
      "\n",
      "Clementine Bauch;Nathan@yesenia.net;ramiro.info\n",
      "\n",
      "Patricia Lebsack;Julianne.OConner@kory.org;kale.biz\n",
      "\n",
      "Chelsey Dietrich;Lucio_Hettinger@annie.ca;demarco.info\n",
      "\n",
      "Mrs. Dennis Schulist;Karley_Dach@jasper.info;ola.org\n",
      "\n",
      "Kurtis Weissnat;Telly.Hoeger@billy.biz;elvis.io\n",
      "\n",
      "Nicholas Runolfsdottir V;Sherwood@rosamond.me;jacynthe.com\n",
      "\n",
      "Glenna Reichert;Chaim_McDermott@dana.io;conrad.com\n",
      "\n",
      "Clementina DuBuque;Rey.Padberg@karina.biz;ambrose.net\n",
      "\n"
     ]
    }
   ],
   "source": [
    "import requests\n",
    "\n",
    "api = requests.get('https://jsonplaceholder.typicode.com/users')\n",
    "\n",
    "json = api.json()\n",
    "\n",
    "with open('lista_de_usuarios.csv', 'w', encoding='utf-8') as f:\n",
    "    for user in json:\n",
    "        f.write('{0};{1};{2}\\n'.format(user['name'], user['email'], user['website']))\n",
    "\n",
    "        \n",
    "# Vamos ler nosso arquivo\n",
    "with open('lista_de_usuarios.csv', 'r') as r:\n",
    "    for line in r:\n",
    "        print(line)"
   ]
  },
  {
   "cell_type": "markdown",
   "metadata": {
    "slideshow": {
     "slide_type": "slide"
    }
   },
   "source": [
    "# Exercício - CSV com os dados do CoinMarketCap\n",
    "\n",
    "Vamos usar o pacote requests para o acessar a API do CoinMarketCap e em seguida gravar o retorno em um CSV.\n",
    "\n",
    "As instruções da API estão disponíveis em: https://coinmarketcap.com/api/documentation/v1/\n",
    "\n",
    "Deveremos extrair os seguintes dados:\n",
    "\n",
    "- Nome da moeda\n",
    "- Preço atual CONVERTIDO EM REAIS\n",
    "- O valor de mercado total\n",
    "- O valor atual em circulação\n",
    "- Percentual de mudança nas últimas 24 horas\n",
    "- Não precisaremos limitar a quantidade de moedas para esse exercício\n",
    "\n",
    "*Tempo: 10 minutos*"
   ]
  },
  {
   "cell_type": "code",
   "execution_count": 28,
   "metadata": {
    "slideshow": {
     "slide_type": "subslide"
    }
   },
   "outputs": [
    {
     "name": "stdout",
     "output_type": "stream",
     "text": [
      "Bitcoin; 24248.0994269; 0.39; 17339900.0; 420459619253\n",
      "\n",
      "Ethereum; 760.995421527; -0.15; 102778224.0; 78213757920.0\n",
      "\n",
      "XRP; 1.7020721643; -1.2; 39997634397.0; 68078860146.0\n",
      "\n",
      "Bitcoin Cash; 1650.97124582; 0.08; 17420525.0; 28760785862.0\n",
      "\n",
      "EOS; 20.0738785088; -0.64; 906245118.0; 18191854390.0\n",
      "\n",
      "Stellar; 0.8874284732; -1.68; 18894758343.0; 16767746549.0\n",
      "\n",
      "Litecoin; 195.770398871; -0.12; 58868302.0; 11524670924.0\n",
      "\n",
      "Tether; 3.688523329; 0.22; 2026421736.0; 7474503846.0\n",
      "\n",
      "Cardano; 0.2776869795; -0.29; 25927070538.0; 7199609905.0\n",
      "\n",
      "Monero; 398.75472934; -1.49; 16515071.0; 6585462677.0\n",
      "\n"
     ]
    }
   ],
   "source": [
    "import requests\n",
    "\n",
    "api = requests.get('https://api.coinmarketcap.com/v1/ticker/?convert=BRL&limit=10')\n",
    "\n",
    "json = api.json()\n",
    "\n",
    "# TODO - Abrir arquivo \n",
    "with open('cintia.csv', 'w', encoding='utf-8') as f:\n",
    "    for coin in json:\n",
    "        name = coin['name']\n",
    "        price = coin['price_brl']\n",
    "        market = coin['market_cap_brl']\n",
    "        available = coin['available_supply']\n",
    "        percent = coin['percent_change_24h']\n",
    "        f.write('{0}; {1}; {2}; {3}; {4}\\n'.format(name, price, percent, available, market))\n",
    "# TODO - Escrever em padrão CSV\n",
    "with open('cintia.csv', 'r') as r:\n",
    "    for line in r:\n",
    "        print(line)\n",
    "# TODO - Ler novamento o arquivo salvo e imprimir"
   ]
  },
  {
   "cell_type": "markdown",
   "metadata": {
    "slideshow": {
     "slide_type": "slide"
    }
   },
   "source": [
    "# Nós temos os dados! E agora?\n",
    "\n",
    "<center>\n",
    "<img src=\"./images/what.jpg\" alt=\"drawing\" width=\"800px\"></center>\n"
   ]
  },
  {
   "cell_type": "markdown",
   "metadata": {
    "slideshow": {
     "slide_type": "slide"
    }
   },
   "source": [
    "# Recapitulando...\n",
    "\n",
    "- Aula 7 - Análise de Dados Estruturados\n",
    "- Aula 9 - Visualização de dados para tomada de decisão\n",
    "\n",
    "<center>\n",
    "<img src=\"./images/pandas.gif\" alt=\"drawing\" width=\"500px\"></center>"
   ]
  },
  {
   "cell_type": "markdown",
   "metadata": {
    "slideshow": {
     "slide_type": "slide"
    }
   },
   "source": [
    "# Criando um Pandas Dataframe"
   ]
  },
  {
   "cell_type": "code",
   "execution_count": 29,
   "metadata": {
    "scrolled": true,
    "slideshow": {
     "slide_type": "subslide"
    }
   },
   "outputs": [
    {
     "data": {
      "text/html": [
       "<div>\n",
       "<style scoped>\n",
       "    .dataframe tbody tr th:only-of-type {\n",
       "        vertical-align: middle;\n",
       "    }\n",
       "\n",
       "    .dataframe tbody tr th {\n",
       "        vertical-align: top;\n",
       "    }\n",
       "\n",
       "    .dataframe thead th {\n",
       "        text-align: right;\n",
       "    }\n",
       "</style>\n",
       "<table border=\"1\" class=\"dataframe\">\n",
       "  <thead>\n",
       "    <tr style=\"text-align: right;\">\n",
       "      <th></th>\n",
       "      <th>24h_volume_brl</th>\n",
       "      <th>24h_volume_usd</th>\n",
       "      <th>available_supply</th>\n",
       "      <th>id</th>\n",
       "      <th>last_updated</th>\n",
       "      <th>market_cap_brl</th>\n",
       "      <th>market_cap_usd</th>\n",
       "      <th>max_supply</th>\n",
       "      <th>name</th>\n",
       "      <th>percent_change_1h</th>\n",
       "      <th>percent_change_24h</th>\n",
       "      <th>percent_change_7d</th>\n",
       "      <th>price_brl</th>\n",
       "      <th>price_btc</th>\n",
       "      <th>price_usd</th>\n",
       "      <th>rank</th>\n",
       "      <th>symbol</th>\n",
       "      <th>total_supply</th>\n",
       "    </tr>\n",
       "  </thead>\n",
       "  <tbody>\n",
       "    <tr>\n",
       "      <th>0</th>\n",
       "      <td>12786978837.4</td>\n",
       "      <td>3426210901.73</td>\n",
       "      <td>17339912.0</td>\n",
       "      <td>bitcoin</td>\n",
       "      <td>1540425575</td>\n",
       "      <td>420445694976</td>\n",
       "      <td>112656448566</td>\n",
       "      <td>21000000.0</td>\n",
       "      <td>Bitcoin</td>\n",
       "      <td>0.11</td>\n",
       "      <td>0.38</td>\n",
       "      <td>-0.71</td>\n",
       "      <td>24247.2796273</td>\n",
       "      <td>1.0</td>\n",
       "      <td>6496.94465383</td>\n",
       "      <td>1</td>\n",
       "      <td>BTC</td>\n",
       "      <td>17339912.0</td>\n",
       "    </tr>\n",
       "    <tr>\n",
       "      <th>1</th>\n",
       "      <td>4112426120.87</td>\n",
       "      <td>1101905257.45</td>\n",
       "      <td>102778501.0</td>\n",
       "      <td>ethereum</td>\n",
       "      <td>1540425585</td>\n",
       "      <td>78214176618.0</td>\n",
       "      <td>20957121147.0</td>\n",
       "      <td>None</td>\n",
       "      <td>Ethereum</td>\n",
       "      <td>0.11</td>\n",
       "      <td>-0.14</td>\n",
       "      <td>-1.63</td>\n",
       "      <td>760.99744342</td>\n",
       "      <td>0.03146614</td>\n",
       "      <td>203.905689529</td>\n",
       "      <td>2</td>\n",
       "      <td>ETH</td>\n",
       "      <td>102778501.0</td>\n",
       "    </tr>\n",
       "    <tr>\n",
       "      <th>2</th>\n",
       "      <td>1101290116.97</td>\n",
       "      <td>295085512.592</td>\n",
       "      <td>39997634397.0</td>\n",
       "      <td>ripple</td>\n",
       "      <td>1540425550</td>\n",
       "      <td>68240907288.0</td>\n",
       "      <td>18284830488.0</td>\n",
       "      <td>100000000000</td>\n",
       "      <td>XRP</td>\n",
       "      <td>-0.15</td>\n",
       "      <td>-0.96</td>\n",
       "      <td>-2.5</td>\n",
       "      <td>1.7061235825</td>\n",
       "      <td>0.00007055</td>\n",
       "      <td>0.457147798</td>\n",
       "      <td>3</td>\n",
       "      <td>XRP</td>\n",
       "      <td>99991817275.0</td>\n",
       "    </tr>\n",
       "    <tr>\n",
       "      <th>3</th>\n",
       "      <td>930469658.185</td>\n",
       "      <td>249314973.235</td>\n",
       "      <td>17420550.0</td>\n",
       "      <td>bitcoin-cash</td>\n",
       "      <td>1540425571</td>\n",
       "      <td>28760516211.0</td>\n",
       "      <td>7706245192.0</td>\n",
       "      <td>21000000.0</td>\n",
       "      <td>Bitcoin Cash</td>\n",
       "      <td>0.2</td>\n",
       "      <td>0.04</td>\n",
       "      <td>-1.57</td>\n",
       "      <td>1650.95339764</td>\n",
       "      <td>0.06826454</td>\n",
       "      <td>442.365206133</td>\n",
       "      <td>4</td>\n",
       "      <td>BCH</td>\n",
       "      <td>17420550.0</td>\n",
       "    </tr>\n",
       "    <tr>\n",
       "      <th>4</th>\n",
       "      <td>1164844505.93</td>\n",
       "      <td>312114612.513</td>\n",
       "      <td>906245118.0</td>\n",
       "      <td>eos</td>\n",
       "      <td>1540425571</td>\n",
       "      <td>18198515029.0</td>\n",
       "      <td>4876206599.0</td>\n",
       "      <td>None</td>\n",
       "      <td>EOS</td>\n",
       "      <td>0.03</td>\n",
       "      <td>-0.61</td>\n",
       "      <td>-0.53</td>\n",
       "      <td>20.0812282194</td>\n",
       "      <td>0.00083033</td>\n",
       "      <td>5.3806707527</td>\n",
       "      <td>5</td>\n",
       "      <td>EOS</td>\n",
       "      <td>1006245120.0</td>\n",
       "    </tr>\n",
       "  </tbody>\n",
       "</table>\n",
       "</div>"
      ],
      "text/plain": [
       "  24h_volume_brl 24h_volume_usd available_supply            id last_updated  \\\n",
       "0  12786978837.4  3426210901.73       17339912.0       bitcoin   1540425575   \n",
       "1  4112426120.87  1101905257.45      102778501.0      ethereum   1540425585   \n",
       "2  1101290116.97  295085512.592    39997634397.0        ripple   1540425550   \n",
       "3  930469658.185  249314973.235       17420550.0  bitcoin-cash   1540425571   \n",
       "4  1164844505.93  312114612.513      906245118.0           eos   1540425571   \n",
       "\n",
       "  market_cap_brl market_cap_usd    max_supply          name percent_change_1h  \\\n",
       "0   420445694976   112656448566    21000000.0       Bitcoin              0.11   \n",
       "1  78214176618.0  20957121147.0          None      Ethereum              0.11   \n",
       "2  68240907288.0  18284830488.0  100000000000           XRP             -0.15   \n",
       "3  28760516211.0   7706245192.0    21000000.0  Bitcoin Cash               0.2   \n",
       "4  18198515029.0   4876206599.0          None           EOS              0.03   \n",
       "\n",
       "  percent_change_24h percent_change_7d      price_brl   price_btc  \\\n",
       "0               0.38             -0.71  24247.2796273         1.0   \n",
       "1              -0.14             -1.63   760.99744342  0.03146614   \n",
       "2              -0.96              -2.5   1.7061235825  0.00007055   \n",
       "3               0.04             -1.57  1650.95339764  0.06826454   \n",
       "4              -0.61             -0.53  20.0812282194  0.00083033   \n",
       "\n",
       "       price_usd rank symbol   total_supply  \n",
       "0  6496.94465383    1    BTC     17339912.0  \n",
       "1  203.905689529    2    ETH    102778501.0  \n",
       "2    0.457147798    3    XRP  99991817275.0  \n",
       "3  442.365206133    4    BCH     17420550.0  \n",
       "4   5.3806707527    5    EOS   1006245120.0  "
      ]
     },
     "execution_count": 29,
     "metadata": {},
     "output_type": "execute_result"
    }
   ],
   "source": [
    "%matplotlib inline\n",
    "\n",
    "import pandas as pd\n",
    "import requests\n",
    "\n",
    "# Obtendo os dados a partir da API\n",
    "api = requests.get('https://api.coinmarketcap.com/v1/ticker/?convert=BRL')\n",
    "json = api.json()\n",
    "\n",
    "# Criando um pandas Dataframe\n",
    "df = pd.DataFrame.from_records(json)\n",
    "df.head()"
   ]
  },
  {
   "cell_type": "markdown",
   "metadata": {
    "slideshow": {
     "slide_type": "slide"
    }
   },
   "source": [
    "# Descrição do Dataframe"
   ]
  },
  {
   "cell_type": "code",
   "execution_count": 30,
   "metadata": {},
   "outputs": [
    {
     "name": "stdout",
     "output_type": "stream",
     "text": [
      "<class 'pandas.core.frame.DataFrame'>\n",
      "RangeIndex: 100 entries, 0 to 99\n",
      "Data columns (total 18 columns):\n",
      "24h_volume_brl        100 non-null object\n",
      "24h_volume_usd        100 non-null object\n",
      "available_supply      100 non-null object\n",
      "id                    100 non-null object\n",
      "last_updated          100 non-null object\n",
      "market_cap_brl        100 non-null object\n",
      "market_cap_usd        100 non-null object\n",
      "max_supply            29 non-null object\n",
      "name                  100 non-null object\n",
      "percent_change_1h     100 non-null object\n",
      "percent_change_24h    100 non-null object\n",
      "percent_change_7d     100 non-null object\n",
      "price_brl             100 non-null object\n",
      "price_btc             100 non-null object\n",
      "price_usd             100 non-null object\n",
      "rank                  100 non-null object\n",
      "symbol                100 non-null object\n",
      "total_supply          100 non-null object\n",
      "dtypes: object(18)\n",
      "memory usage: 14.1+ KB\n"
     ]
    }
   ],
   "source": [
    "df.info()"
   ]
  },
  {
   "cell_type": "markdown",
   "metadata": {
    "slideshow": {
     "slide_type": "slide"
    }
   },
   "source": [
    "# Quais os tipos dos dados?\n",
    "\n"
   ]
  },
  {
   "cell_type": "code",
   "execution_count": 31,
   "metadata": {
    "slideshow": {
     "slide_type": "subslide"
    }
   },
   "outputs": [
    {
     "data": {
      "text/plain": [
       "24h_volume_brl        object\n",
       "24h_volume_usd        object\n",
       "available_supply      object\n",
       "id                    object\n",
       "last_updated          object\n",
       "market_cap_brl        object\n",
       "market_cap_usd        object\n",
       "max_supply            object\n",
       "name                  object\n",
       "percent_change_1h     object\n",
       "percent_change_24h    object\n",
       "percent_change_7d     object\n",
       "price_brl             object\n",
       "price_btc             object\n",
       "price_usd             object\n",
       "rank                  object\n",
       "symbol                object\n",
       "total_supply          object\n",
       "dtype: object"
      ]
     },
     "execution_count": 31,
     "metadata": {},
     "output_type": "execute_result"
    }
   ],
   "source": [
    "df.dtypes"
   ]
  },
  {
   "cell_type": "markdown",
   "metadata": {
    "slideshow": {
     "slide_type": "slide"
    }
   },
   "source": [
    "# Exercício\n",
    "\n",
    "Objetivos: \n",
    "- Vamos alterar o tipos das colunas para float: 'percent_change_1h', 'percent_change_24h', 'percent_change_7d' ([Função *astype*](https://pandas.pydata.org/pandas-docs/stable/generated/pandas.DataFrame.astype.html))\n",
    "- Visualizar rapidamente com boxplot os dados das colunas acima [Plots utilizando pandas](https://pandas.pydata.org/pandas-docs/stable/generated/pandas.DataFrame.plot.html)\n",
    "- O que podemos observar sobre os dados de porcentagem de variação por hora, dia e semana de cada criptomoeda?\n",
    "\n",
    "*Tempo: 20 minutos*"
   ]
  },
  {
   "cell_type": "code",
   "execution_count": 40,
   "metadata": {
    "slideshow": {
     "slide_type": "subslide"
    }
   },
   "outputs": [
    {
     "name": "stderr",
     "output_type": "stream",
     "text": [
      "/home/cintia/anaconda3/lib/python3.7/site-packages/ipykernel_launcher.py:10: FutureWarning: convert_objects is deprecated.  To re-infer data dtypes for object columns, use DataFrame.infer_objects()\n",
      "For all other conversions use the data-type specific converters pd.to_datetime, pd.to_timedelta and pd.to_numeric.\n",
      "  # Remove the CWD from sys.path while we load stuff.\n"
     ]
    },
    {
     "data": {
      "text/html": [
       "<div>\n",
       "<style scoped>\n",
       "    .dataframe tbody tr th:only-of-type {\n",
       "        vertical-align: middle;\n",
       "    }\n",
       "\n",
       "    .dataframe tbody tr th {\n",
       "        vertical-align: top;\n",
       "    }\n",
       "\n",
       "    .dataframe thead th {\n",
       "        text-align: right;\n",
       "    }\n",
       "</style>\n",
       "<table border=\"1\" class=\"dataframe\">\n",
       "  <thead>\n",
       "    <tr style=\"text-align: right;\">\n",
       "      <th></th>\n",
       "      <th>24h_volume_brl</th>\n",
       "      <th>24h_volume_usd</th>\n",
       "      <th>available_supply</th>\n",
       "      <th>id</th>\n",
       "      <th>last_updated</th>\n",
       "      <th>market_cap_brl</th>\n",
       "      <th>market_cap_usd</th>\n",
       "      <th>max_supply</th>\n",
       "      <th>name</th>\n",
       "      <th>percent_change_1h</th>\n",
       "      <th>percent_change_24h</th>\n",
       "      <th>percent_change_7d</th>\n",
       "      <th>price_brl</th>\n",
       "      <th>price_btc</th>\n",
       "      <th>price_usd</th>\n",
       "      <th>rank</th>\n",
       "      <th>symbol</th>\n",
       "      <th>total_supply</th>\n",
       "    </tr>\n",
       "  </thead>\n",
       "  <tbody>\n",
       "    <tr>\n",
       "      <th>0</th>\n",
       "      <td>1.281757e+10</td>\n",
       "      <td>3.433843e+09</td>\n",
       "      <td>1.733991e+07</td>\n",
       "      <td>bitcoin</td>\n",
       "      <td>1540426357</td>\n",
       "      <td>4.200883e+11</td>\n",
       "      <td>1.125422e+11</td>\n",
       "      <td>2.100000e+07</td>\n",
       "      <td>Bitcoin</td>\n",
       "      <td>0.04</td>\n",
       "      <td>0.27</td>\n",
       "      <td>-0.81</td>\n",
       "      <td>24226.668183</td>\n",
       "      <td>1.000000</td>\n",
       "      <td>6490.355870</td>\n",
       "      <td>1</td>\n",
       "      <td>BTC</td>\n",
       "      <td>1.733991e+07</td>\n",
       "    </tr>\n",
       "    <tr>\n",
       "      <th>1</th>\n",
       "      <td>4.107752e+09</td>\n",
       "      <td>1.100472e+09</td>\n",
       "      <td>1.027785e+08</td>\n",
       "      <td>ethereum</td>\n",
       "      <td>1540426344</td>\n",
       "      <td>7.813387e+10</td>\n",
       "      <td>2.093217e+10</td>\n",
       "      <td>NaN</td>\n",
       "      <td>Ethereum</td>\n",
       "      <td>-0.01</td>\n",
       "      <td>-0.27</td>\n",
       "      <td>-1.75</td>\n",
       "      <td>760.216119</td>\n",
       "      <td>0.031473</td>\n",
       "      <td>203.662886</td>\n",
       "      <td>2</td>\n",
       "      <td>ETH</td>\n",
       "      <td>1.027785e+08</td>\n",
       "    </tr>\n",
       "    <tr>\n",
       "      <th>2</th>\n",
       "      <td>1.097225e+09</td>\n",
       "      <td>2.939480e+08</td>\n",
       "      <td>3.999763e+10</td>\n",
       "      <td>ripple</td>\n",
       "      <td>1540426383</td>\n",
       "      <td>6.808581e+10</td>\n",
       "      <td>1.824028e+10</td>\n",
       "      <td>1.000000e+11</td>\n",
       "      <td>XRP</td>\n",
       "      <td>-0.10</td>\n",
       "      <td>-1.23</td>\n",
       "      <td>-2.74</td>\n",
       "      <td>1.702246</td>\n",
       "      <td>0.000070</td>\n",
       "      <td>0.456034</td>\n",
       "      <td>3</td>\n",
       "      <td>XRP</td>\n",
       "      <td>9.999182e+10</td>\n",
       "    </tr>\n",
       "    <tr>\n",
       "      <th>3</th>\n",
       "      <td>9.374432e+08</td>\n",
       "      <td>2.511422e+08</td>\n",
       "      <td>1.742055e+07</td>\n",
       "      <td>bitcoin-cash</td>\n",
       "      <td>1540426353</td>\n",
       "      <td>2.871937e+10</td>\n",
       "      <td>7.693956e+09</td>\n",
       "      <td>2.100000e+07</td>\n",
       "      <td>Bitcoin Cash</td>\n",
       "      <td>0.04</td>\n",
       "      <td>-0.15</td>\n",
       "      <td>-1.74</td>\n",
       "      <td>1648.591431</td>\n",
       "      <td>0.068252</td>\n",
       "      <td>441.659785</td>\n",
       "      <td>4</td>\n",
       "      <td>BCH</td>\n",
       "      <td>1.742055e+07</td>\n",
       "    </tr>\n",
       "    <tr>\n",
       "      <th>4</th>\n",
       "      <td>1.159134e+09</td>\n",
       "      <td>3.105336e+08</td>\n",
       "      <td>9.062451e+08</td>\n",
       "      <td>eos</td>\n",
       "      <td>1540426353</td>\n",
       "      <td>1.818799e+10</td>\n",
       "      <td>4.872586e+09</td>\n",
       "      <td>NaN</td>\n",
       "      <td>EOS</td>\n",
       "      <td>-0.02</td>\n",
       "      <td>-0.69</td>\n",
       "      <td>-0.60</td>\n",
       "      <td>20.069614</td>\n",
       "      <td>0.000831</td>\n",
       "      <td>5.376676</td>\n",
       "      <td>5</td>\n",
       "      <td>EOS</td>\n",
       "      <td>1.006245e+09</td>\n",
       "    </tr>\n",
       "  </tbody>\n",
       "</table>\n",
       "</div>"
      ],
      "text/plain": [
       "   24h_volume_brl  24h_volume_usd  available_supply            id  \\\n",
       "0    1.281757e+10    3.433843e+09      1.733991e+07       bitcoin   \n",
       "1    4.107752e+09    1.100472e+09      1.027785e+08      ethereum   \n",
       "2    1.097225e+09    2.939480e+08      3.999763e+10        ripple   \n",
       "3    9.374432e+08    2.511422e+08      1.742055e+07  bitcoin-cash   \n",
       "4    1.159134e+09    3.105336e+08      9.062451e+08           eos   \n",
       "\n",
       "   last_updated  market_cap_brl  market_cap_usd    max_supply          name  \\\n",
       "0    1540426357    4.200883e+11    1.125422e+11  2.100000e+07       Bitcoin   \n",
       "1    1540426344    7.813387e+10    2.093217e+10           NaN      Ethereum   \n",
       "2    1540426383    6.808581e+10    1.824028e+10  1.000000e+11           XRP   \n",
       "3    1540426353    2.871937e+10    7.693956e+09  2.100000e+07  Bitcoin Cash   \n",
       "4    1540426353    1.818799e+10    4.872586e+09           NaN           EOS   \n",
       "\n",
       "   percent_change_1h  percent_change_24h  percent_change_7d     price_brl  \\\n",
       "0               0.04                0.27              -0.81  24226.668183   \n",
       "1              -0.01               -0.27              -1.75    760.216119   \n",
       "2              -0.10               -1.23              -2.74      1.702246   \n",
       "3               0.04               -0.15              -1.74   1648.591431   \n",
       "4              -0.02               -0.69              -0.60     20.069614   \n",
       "\n",
       "   price_btc    price_usd  rank symbol  total_supply  \n",
       "0   1.000000  6490.355870     1    BTC  1.733991e+07  \n",
       "1   0.031473   203.662886     2    ETH  1.027785e+08  \n",
       "2   0.000070     0.456034     3    XRP  9.999182e+10  \n",
       "3   0.068252   441.659785     4    BCH  1.742055e+07  \n",
       "4   0.000831     5.376676     5    EOS  1.006245e+09  "
      ]
     },
     "execution_count": 40,
     "metadata": {},
     "output_type": "execute_result"
    }
   ],
   "source": [
    "import pandas as pd\n",
    "import requests\n",
    "\n",
    "# Obtendo os dados a partir da API\n",
    "api = requests.get('https://api.coinmarketcap.com/v1/ticker/?convert=BRL')\n",
    "json = api.json()\n",
    "\n",
    "# Criando um pandas Dataframe\n",
    "df = pd.DataFrame.from_records(json)\n",
    "\n",
    "# Convertendo os tipos para float\n",
    "df = df.convert_objects(convert_numeric=True)\n",
    "df.head()\n",
    "\n",
    "# Plots - Experimente diversos plots e interprete os resultados"
   ]
  },
  {
   "cell_type": "markdown",
   "metadata": {
    "slideshow": {
     "slide_type": "slide"
    }
   },
   "source": [
    "# Exercício\n",
    "\n",
    "Objetivos:\n",
    "\n",
    "- Plotar um gráfico de barras com os preço em bitcoin das 20 primeiras criptomoedas do dataset utilizando o pacote seaborn\n",
    "- Plotar o gráfico horizontal\n",
    "\n",
    "*Tempo: 10 minutos*"
   ]
  },
  {
   "cell_type": "code",
   "execution_count": null,
   "metadata": {},
   "outputs": [],
   "source": [
    "import pandas as pd\n",
    "import requests\n",
    "import seaborn as sns\n",
    "\n",
    "# Obtendo os dados a partir da API\n",
    "api = requests.get('https://api.coinmarketcap.com/v1/ticker/?convert=BRL')\n",
    "json = api.json()\n",
    "\n",
    "# Criando um pandas Dataframe\n",
    "df = pd.DataFrame.from_records(json)\n",
    "\n",
    "# Convertendo para o tipo float\n",
    "\n",
    "# Plot horizontal\n"
   ]
  },
  {
   "cell_type": "markdown",
   "metadata": {
    "slideshow": {
     "slide_type": "slide"
    }
   },
   "source": [
    "# Outras APIs para estudo\n",
    "\n",
    "- https://api.nasa.gov/api.html\n",
    "- https://jobs.github.com/api\n",
    "- http://quotesondesign.com/wp-json/posts?filter[orderby]=rand&filter[posts_per_page]=25\n",
    "- https://carbon-intensity.github.io/api-definitions/\n",
    "- http://www.recipepuppy.com/about/api/\n",
    "- https://app.swaggerhub.com/apis/Bandsintown/PublicAPI/3.0.0"
   ]
  },
  {
   "cell_type": "markdown",
   "metadata": {
    "scrolled": true,
    "slideshow": {
     "slide_type": "slide"
    }
   },
   "source": [
    "# Dúvidas?\n",
    "\n",
    "<center>\n",
    "<img src=\"https://unmeritedlove.files.wordpress.com/2013/11/doubt.jpg?w=334&h=209\" alt=\"drawing\" width=\"500px\"></center>"
   ]
  },
  {
   "cell_type": "code",
   "execution_count": null,
   "metadata": {},
   "outputs": [],
   "source": []
  }
 ],
 "metadata": {
  "celltoolbar": "Slideshow",
  "kernelspec": {
   "display_name": "Python 3",
   "language": "python",
   "name": "python3"
  },
  "language_info": {
   "codemirror_mode": {
    "name": "ipython",
    "version": 3
   },
   "file_extension": ".py",
   "mimetype": "text/x-python",
   "name": "python",
   "nbconvert_exporter": "python",
   "pygments_lexer": "ipython3",
   "version": "3.7.0"
  }
 },
 "nbformat": 4,
 "nbformat_minor": 2
}
