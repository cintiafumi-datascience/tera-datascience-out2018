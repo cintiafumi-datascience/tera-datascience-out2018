{
 "cells": [
  {
   "cell_type": "markdown",
   "metadata": {},
   "source": [
    "# Aula \\#5 - Desafio em Grupo & Checkpoint \\#1 - Desafio: funções\n",
    "\n",
    "Esse primeiro desafio tem como objetivo testar suas habilidades em criar funções. A ideia de usar funções em programação é encapsular pedaços de programa para que eles sejam reutilizáveis.\n",
    "\n",
    "Em Python, para criar uma função, é necessário especificar:\n",
    "\n",
    "* o nome da função\n",
    "* os parâmetros ou argumentos da função\n",
    "* o corpo da função\n",
    "\n",
    "Veja esse [exemplo](http://swcarpentry.github.io/python-novice-inflammation/06-func/index.html):\n",
    "\n",
    "<img src=\"data/define_example.jpeg\" alt=\"drawing\" width=\"900\"/>\n",
    "\n",
    "Note que o nome da função especifica o que a função deve fazer: converter uma quantidade de graus expressa em Fahrenheit para Celsius. Em geral, é recomendado escolher nomes que sejam claros em relação à utilidade daquela função. Isso pode facilitar (muito!) a leitura do código posteriormente.\n",
    "\n",
    "Essa função recebe como parâmetro um número (`temp`, temperatura) e calcula a conversão dela para Celsius usando a fórmula:\n",
    "\n",
    "$$\n",
    "C = (F-32)\\frac{5}{9}\n",
    "$$\n",
    "em que $C$ é a temperatura em graus Celsius e $F$, a temperatura em Fahrenheit.\n",
    "\n",
    "Além disso, note que a palavra reservada `def` é o que indica que estamos criando uma função. Ao aplicar a função, esperamos que algo seja retornado e, por isso, é usada a palavra reservada `return`."
   ]
  },
  {
   "cell_type": "markdown",
   "metadata": {},
   "source": [
    "Vamos definir uma primeira função:"
   ]
  },
  {
   "cell_type": "code",
   "execution_count": 1,
   "metadata": {},
   "outputs": [],
   "source": [
    "def plus_one(x):\n",
    "    return x + 1"
   ]
  },
  {
   "cell_type": "markdown",
   "metadata": {},
   "source": [
    "Você é capaz de dizer o que ela faz? Sim? Não?\n",
    "\n",
    "Vamos aplicá-la a diferentes argumentos:"
   ]
  },
  {
   "cell_type": "code",
   "execution_count": 2,
   "metadata": {},
   "outputs": [
    {
     "data": {
      "text/plain": [
       "1"
      ]
     },
     "execution_count": 2,
     "metadata": {},
     "output_type": "execute_result"
    }
   ],
   "source": [
    "plus_one(0)"
   ]
  },
  {
   "cell_type": "code",
   "execution_count": 3,
   "metadata": {},
   "outputs": [
    {
     "data": {
      "text/plain": [
       "2"
      ]
     },
     "execution_count": 3,
     "metadata": {},
     "output_type": "execute_result"
    }
   ],
   "source": [
    "plus_one(1)"
   ]
  },
  {
   "cell_type": "markdown",
   "metadata": {},
   "source": [
    "Note que, diferente de outras linguagens, Python não requere especificação do tipo dos argumentos e variáveis. Assim, a função não está restrita a aplicação em números inteiros. Podemos usar também, números reais, como, por exemplo:"
   ]
  },
  {
   "cell_type": "code",
   "execution_count": 4,
   "metadata": {},
   "outputs": [
    {
     "data": {
      "text/plain": [
       "2.1"
      ]
     },
     "execution_count": 4,
     "metadata": {},
     "output_type": "execute_result"
    }
   ],
   "source": [
    "plus_one(1.1)"
   ]
  },
  {
   "cell_type": "markdown",
   "metadata": {},
   "source": [
    "Entretanto, não é possível aplicar nossa função `plus_one` a qualquer tipo de argumento! Veja o que acontece quando usamos um argumento do tipo `string` (aspas simples ou duplas indicam que um objeto é uma `string` ):"
   ]
  },
  {
   "cell_type": "code",
   "execution_count": 5,
   "metadata": {},
   "outputs": [
    {
     "ename": "TypeError",
     "evalue": "must be str, not int",
     "output_type": "error",
     "traceback": [
      "\u001b[0;31m---------------------------------------------------------------------------\u001b[0m",
      "\u001b[0;31mTypeError\u001b[0m                                 Traceback (most recent call last)",
      "\u001b[0;32m<ipython-input-5-df185068656c>\u001b[0m in \u001b[0;36m<module>\u001b[0;34m()\u001b[0m\n\u001b[0;32m----> 1\u001b[0;31m \u001b[0mplus_one\u001b[0m\u001b[0;34m(\u001b[0m\u001b[0;34m'1'\u001b[0m\u001b[0;34m)\u001b[0m\u001b[0;34m\u001b[0m\u001b[0m\n\u001b[0m",
      "\u001b[0;32m<ipython-input-1-4a2fc73d7fee>\u001b[0m in \u001b[0;36mplus_one\u001b[0;34m(x)\u001b[0m\n\u001b[1;32m      1\u001b[0m \u001b[0;32mdef\u001b[0m \u001b[0mplus_one\u001b[0m\u001b[0;34m(\u001b[0m\u001b[0mx\u001b[0m\u001b[0;34m)\u001b[0m\u001b[0;34m:\u001b[0m\u001b[0;34m\u001b[0m\u001b[0m\n\u001b[0;32m----> 2\u001b[0;31m     \u001b[0;32mreturn\u001b[0m \u001b[0mx\u001b[0m \u001b[0;34m+\u001b[0m \u001b[0;36m1\u001b[0m\u001b[0;34m\u001b[0m\u001b[0m\n\u001b[0m",
      "\u001b[0;31mTypeError\u001b[0m: must be str, not int"
     ]
    }
   ],
   "source": [
    "plus_one('1')"
   ]
  },
  {
   "cell_type": "markdown",
   "metadata": {},
   "source": [
    "A aplicação de `plus_one` gera um erro de tipo (`TypeError`). Notamos que, internamente, o Python está inferindo o tipo dos objetos que passamos à função."
   ]
  },
  {
   "cell_type": "markdown",
   "metadata": {},
   "source": [
    "**Pergunta**: é possível executar o código abaixo?\n",
    "\n",
    "```\n",
    "plus_one(plus_one(1))\n",
    "```\n",
    "\n",
    "O que você acha que vai acontecer?\n",
    "\n",
    "Crie uma célula abaixo dessa (você pode apertar a tecla `Esc` e depois clicar a tecla `b` para criar a célula abaixo) e cole e execute o código (`Shift + Enter`) para saber a resposta"
   ]
  },
  {
   "cell_type": "markdown",
   "metadata": {},
   "source": [
    "## Desafio: que função é essa?"
   ]
  },
  {
   "cell_type": "markdown",
   "metadata": {},
   "source": [
    "|entrada | saída|\n",
    "|--------|------|\n",
    "|   1    |  3   |\n",
    "|   4    |  9   |\n",
    "|   5    |  11  |"
   ]
  },
  {
   "cell_type": "markdown",
   "metadata": {},
   "source": [
    "Complete a função abaixo, removendo os `####` e escrevendo o que deve ser feito com o argumento para obtermos a saída que esperamos:"
   ]
  },
  {
   "cell_type": "code",
   "execution_count": 6,
   "metadata": {},
   "outputs": [],
   "source": [
    "def f(x):\n",
    "    return x * 2 + 1"
   ]
  },
  {
   "cell_type": "markdown",
   "metadata": {},
   "source": [
    "Se a função for escrita corretamente, as três células seguintes devem exibir `True` ao serem executadas:"
   ]
  },
  {
   "cell_type": "code",
   "execution_count": 7,
   "metadata": {},
   "outputs": [
    {
     "data": {
      "text/plain": [
       "True"
      ]
     },
     "execution_count": 7,
     "metadata": {},
     "output_type": "execute_result"
    }
   ],
   "source": [
    "f(1) == 3"
   ]
  },
  {
   "cell_type": "code",
   "execution_count": 8,
   "metadata": {},
   "outputs": [
    {
     "data": {
      "text/plain": [
       "True"
      ]
     },
     "execution_count": 8,
     "metadata": {},
     "output_type": "execute_result"
    }
   ],
   "source": [
    "f(4) == 9"
   ]
  },
  {
   "cell_type": "code",
   "execution_count": 9,
   "metadata": {},
   "outputs": [
    {
     "data": {
      "text/plain": [
       "True"
      ]
     },
     "execution_count": 9,
     "metadata": {},
     "output_type": "execute_result"
    }
   ],
   "source": [
    "f(5) == 11"
   ]
  },
  {
   "cell_type": "markdown",
   "metadata": {},
   "source": [
    "## Desafio: crie uma função que recebe um número e retorna outro número\n",
    "\n",
    "**Contexto**: vamos jogar um jogo com as funções criadas\n",
    "\n",
    "* para cada função, cada grupo (exceto o que criou a função) irá dar um número de entrada\n",
    "\n",
    "* o grupo que criou a função deve dizer qual é a saída para cada entrada\n",
    "\n",
    "* o objetivo é descobrir qual é a função\n",
    "\n",
    "* pontuação:\n",
    "    - 0 pontos: se nenhum dos grupos acertar a função\n",
    "    - 1 ponto: se todos os grupos acertarem a função\n",
    "    - 2 pontos: se pelo menos um dos grupos acertarem a função e pelo menos um dos grupos errarem a função"
   ]
  },
  {
   "cell_type": "code",
   "execution_count": 3,
   "metadata": {},
   "outputs": [],
   "source": [
    "### crie sua função aqui\n",
    "def bestNumber(num):\n",
    "    return 13\n",
    "\n"
   ]
  },
  {
   "cell_type": "markdown",
   "metadata": {},
   "source": [
    "## Desafio: qual o retorno dessa função?"
   ]
  },
  {
   "cell_type": "code",
   "execution_count": null,
   "metadata": {},
   "outputs": [],
   "source": [
    "def print_hello(name):\n",
    "    print('Hello {name}'.format(name=name))"
   ]
  },
  {
   "cell_type": "code",
   "execution_count": null,
   "metadata": {},
   "outputs": [],
   "source": []
  }
 ],
 "metadata": {
  "kernelspec": {
   "display_name": "Python 3",
   "language": "python",
   "name": "python3"
  },
  "language_info": {
   "codemirror_mode": {
    "name": "ipython",
    "version": 3
   },
   "file_extension": ".py",
   "mimetype": "text/x-python",
   "name": "python",
   "nbconvert_exporter": "python",
   "pygments_lexer": "ipython3",
   "version": "3.7.0"
  }
 },
 "nbformat": 4,
 "nbformat_minor": 2
}
