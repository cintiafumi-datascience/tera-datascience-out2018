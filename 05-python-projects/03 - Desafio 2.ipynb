{
 "cells": [
  {
   "cell_type": "markdown",
   "metadata": {},
   "source": [
    "# Aula \\#5 - Desafio em Grupo & Checkpoint \\#1 - Desafio: estruturas de fluxo e controle de fluxo\n",
    "\n",
    "Nesse desafio, o objetivo é usar algumas estruturas de dados comuns em Python conjuntamente com o que já vimos sobre estruturas de fluxo.\n",
    "\n",
    "Que estruturas são essas?\n",
    "\n",
    "* strings (sequência de caracteres ordenada imutável)\n",
    "\n",
    "* listas (sequência de objetos ordenada)\n",
    "\n",
    "* tuplas (sequência de objetos ordenada imutável)\n",
    "\n",
    "* conjuntos (sequência de objetos)\n",
    "\n",
    "* dicionários (sequência de itens, em que cada item é composto de uma chave e um valor)"
   ]
  },
  {
   "cell_type": "code",
   "execution_count": null,
   "metadata": {},
   "outputs": [],
   "source": [
    "from utils.hints import give_me_a_hint"
   ]
  },
  {
   "cell_type": "markdown",
   "metadata": {},
   "source": [
    "## Imutabilidade"
   ]
  },
  {
   "cell_type": "markdown",
   "metadata": {},
   "source": [
    "** strings **"
   ]
  },
  {
   "cell_type": "code",
   "execution_count": 2,
   "metadata": {},
   "outputs": [],
   "source": [
    "my_name = 'cinthia'"
   ]
  },
  {
   "cell_type": "markdown",
   "metadata": {},
   "source": [
    "Ah, eu esqueci de colocar a letra maiúscula! Vamos tentar mudar só o primeiro caractere"
   ]
  },
  {
   "cell_type": "code",
   "execution_count": 3,
   "metadata": {},
   "outputs": [
    {
     "ename": "TypeError",
     "evalue": "'str' object does not support item assignment",
     "output_type": "error",
     "traceback": [
      "\u001b[0;31m---------------------------------------------------------------------------\u001b[0m",
      "\u001b[0;31mTypeError\u001b[0m                                 Traceback (most recent call last)",
      "\u001b[0;32m<ipython-input-3-b11bab2ea601>\u001b[0m in \u001b[0;36m<module>\u001b[0;34m()\u001b[0m\n\u001b[0;32m----> 1\u001b[0;31m \u001b[0mmy_name\u001b[0m\u001b[0;34m[\u001b[0m\u001b[0;36m0\u001b[0m\u001b[0;34m]\u001b[0m \u001b[0;34m=\u001b[0m \u001b[0;34m'C'\u001b[0m\u001b[0;34m\u001b[0m\u001b[0m\n\u001b[0m",
      "\u001b[0;31mTypeError\u001b[0m: 'str' object does not support item assignment"
     ]
    }
   ],
   "source": [
    "my_name[0] = 'C'"
   ]
  },
  {
   "cell_type": "markdown",
   "metadata": {},
   "source": [
    "Como resolver o problema? Redefinindo a variável `my_name`"
   ]
  },
  {
   "cell_type": "code",
   "execution_count": 4,
   "metadata": {},
   "outputs": [
    {
     "data": {
      "text/plain": [
       "'Cinthia'"
      ]
     },
     "execution_count": 4,
     "metadata": {},
     "output_type": "execute_result"
    }
   ],
   "source": [
    "my_name = 'Cinthia'\n",
    "my_name"
   ]
  },
  {
   "cell_type": "markdown",
   "metadata": {},
   "source": [
    "** tupla **"
   ]
  },
  {
   "cell_type": "code",
   "execution_count": 2,
   "metadata": {},
   "outputs": [],
   "source": [
    "itens_a_comprar = ('bichinho de pelúcia', 'laranja', 'granola', 'iogurte', 'aveia')"
   ]
  },
  {
   "cell_type": "code",
   "execution_count": 3,
   "metadata": {},
   "outputs": [
    {
     "name": "stdout",
     "output_type": "stream",
     "text": [
      "Tipo: <class 'tuple'>\n"
     ]
    }
   ],
   "source": [
    "print('Tipo: {0}'.format(type(itens_a_comprar)))"
   ]
  },
  {
   "cell_type": "markdown",
   "metadata": {},
   "source": [
    "Retornando o último item (índice `-1`)"
   ]
  },
  {
   "cell_type": "code",
   "execution_count": 5,
   "metadata": {},
   "outputs": [
    {
     "data": {
      "text/plain": [
       "\"<class 'tuple'>\""
      ]
     },
     "execution_count": 5,
     "metadata": {},
     "output_type": "execute_result"
    }
   ],
   "source": [
    "itens_a_comprar[-1]"
   ]
  },
  {
   "cell_type": "code",
   "execution_count": 8,
   "metadata": {},
   "outputs": [
    {
     "ename": "TypeError",
     "evalue": "'tuple' object does not support item assignment",
     "output_type": "error",
     "traceback": [
      "\u001b[0;31m---------------------------------------------------------------------------\u001b[0m",
      "\u001b[0;31mTypeError\u001b[0m                                 Traceback (most recent call last)",
      "\u001b[0;32m<ipython-input-8-55ae2bd496b6>\u001b[0m in \u001b[0;36m<module>\u001b[0;34m()\u001b[0m\n\u001b[0;32m----> 1\u001b[0;31m \u001b[0mitens_a_comprar\u001b[0m\u001b[0;34m[\u001b[0m\u001b[0;34m-\u001b[0m\u001b[0;36m1\u001b[0m\u001b[0;34m]\u001b[0m \u001b[0;34m=\u001b[0m \u001b[0;34m'chá mate'\u001b[0m\u001b[0;34m\u001b[0m\u001b[0m\n\u001b[0m",
      "\u001b[0;31mTypeError\u001b[0m: 'tuple' object does not support item assignment"
     ]
    }
   ],
   "source": [
    "itens_a_comprar[-1] = 'chá mate'"
   ]
  },
  {
   "cell_type": "markdown",
   "metadata": {},
   "source": [
    "Note que com um objeto do tipo `list` é possível fazer a operação, sem problemas"
   ]
  },
  {
   "cell_type": "code",
   "execution_count": 9,
   "metadata": {},
   "outputs": [
    {
     "data": {
      "text/plain": [
       "['bichinho de pelúcia', 'laranja', 'granola', 'iogurte', 'chá mate']"
      ]
     },
     "execution_count": 9,
     "metadata": {},
     "output_type": "execute_result"
    }
   ],
   "source": [
    "lista_de_itens_a_comprar = ['bichinho de pelúcia', 'laranja', 'granola', 'iogurte', 'aveia']\n",
    "lista_de_itens_a_comprar[-1] = 'chá mate'\n",
    "lista_de_itens_a_comprar"
   ]
  },
  {
   "cell_type": "markdown",
   "metadata": {},
   "source": [
    "Será que é por isso que dizemos `lista de compras`, e não `tupla de compras`?\n",
    "\n",
    "<img src=\"data/pun.gif\" width=\"200\"/>"
   ]
  },
  {
   "cell_type": "markdown",
   "metadata": {},
   "source": [
    "\\* Também existe um tipo em Python para conjuntos imutáveis, que são os [frozensets](http://thomas-cokelaer.info/tutorials/python/frozensets.html), mas aqui vamos concentrar nos conjuntos do tipo `set`."
   ]
  },
  {
   "cell_type": "markdown",
   "metadata": {},
   "source": [
    "## Exemplo prático"
   ]
  },
  {
   "cell_type": "markdown",
   "metadata": {},
   "source": [
    "Vamos definir uma função que coloca a primeira letra de uma string em letra maiúscula"
   ]
  },
  {
   "cell_type": "code",
   "execution_count": null,
   "metadata": {},
   "outputs": [],
   "source": [
    "def capitalize_string(term):\n",
    "    if term[0] == 'a':\n",
    "        new_term = 'A' + term[1:]\n",
    "    elif term[0] == 'b':\n",
    "        new_term = 'B' + term[1:]\n",
    "    elif term[0] == 'c':\n",
    "        new_term = 'C' + term[1:]\n",
    "    elif term[0] == 'd':\n",
    "        new_term = 'D' + term[1:]\n",
    "    elif term[0] == 'e':\n",
    "        new_term = 'E' + term[1:]\n",
    "    elif term[0] == 'f':\n",
    "        new_term = 'F' + term[1:]\n",
    "    elif term[0] == 'g':\n",
    "        new_term = 'G' + term[1:]\n",
    "    elif term[0] == 'h':\n",
    "        new_term = 'H' + term[1:]\n",
    "    elif term[0] == 'i':\n",
    "        new_term = 'I' + term[1:]\n",
    "    elif term[0] == 'j':\n",
    "        new_term = 'J' + term[1:]\n",
    "    elif term[0] == 'k':\n",
    "        new_term = 'K' + term[1:]\n",
    "    elif term[0] == 'l':\n",
    "        new_term = 'L' + term[1:]\n",
    "    elif term[0] == 'm':\n",
    "        new_term = 'M' + term[1:]\n",
    "    elif term[0] == 'n':\n",
    "        new_term = 'N' + term[1:]\n",
    "    elif term[0] == 'o':\n",
    "        new_term = 'O' + term[1:]\n",
    "    elif term[0] == 'p':\n",
    "        new_term = 'P' + term[1:]\n",
    "    elif term[0] == 'q':\n",
    "        new_term = 'Q' + term[1:]\n",
    "    elif term[0] == 'r':\n",
    "        new_term = 'R' + term[1:]\n",
    "    elif term[0] == 's':\n",
    "        new_term = 'S' + term[1:]\n",
    "    elif term[0] == 't':\n",
    "        new_term = 'T' + term[1:]\n",
    "    elif term[0] == 'u':\n",
    "        new_term = 'U' + term[1:]\n",
    "    elif term[0] == 'v':\n",
    "        new_term = 'V' + term[1:]\n",
    "    elif term[0] == 'w':\n",
    "        new_term = 'W' + term[1:]\n",
    "    elif term[0] == 'x':\n",
    "        new_term = 'X' + term[1:]\n",
    "    elif term[0] == 'y':\n",
    "        new_term = 'Y' + term[1:]\n",
    "    elif term[0] == 'z':\n",
    "        new_term = 'Z' + term[1:]\n",
    "    else:\n",
    "        new_term = term\n",
    "    return new_term"
   ]
  },
  {
   "cell_type": "markdown",
   "metadata": {},
   "source": [
    "Teste a função rodando a célula abaixo. O resultado deve ser `True`"
   ]
  },
  {
   "cell_type": "code",
   "execution_count": null,
   "metadata": {},
   "outputs": [],
   "source": [
    "capitalize_string('que tal formatar umas strings?') == 'Que tal formatar umas strings?'"
   ]
  },
  {
   "cell_type": "markdown",
   "metadata": {},
   "source": [
    "Parece que a função funcionou!\n",
    "\n",
    "Mas ela parece um pouco comprida e _repetitiva_. Será que conseguimos reescrevê-la usando um `for` sobre a lista de letras do alfabeto?\n",
    "\n",
    "Além disso, escrever todas as letras do alfabeto foi um pouco tedioso... Gostaria de evitar ter que escrever \"na mão\" essa lista.\n",
    "\n",
    "Será que o Python já tem essa lista lá dentro? Podemos procurar (dando um `google` ou `ducking it`):\n",
    "\n",
    "<img src=\"data/search_for_alphabet.jpeg\" alt=\"drawing\" width=\"500\"/>"
   ]
  },
  {
   "cell_type": "markdown",
   "metadata": {},
   "source": [
    "Primeiro, vamos fazer o import dessa lib chamada `string`"
   ]
  },
  {
   "cell_type": "code",
   "execution_count": null,
   "metadata": {},
   "outputs": [],
   "source": [
    "import string"
   ]
  },
  {
   "cell_type": "code",
   "execution_count": null,
   "metadata": {},
   "outputs": [],
   "source": [
    "string.ascii_lowercase"
   ]
  },
  {
   "cell_type": "markdown",
   "metadata": {},
   "source": [
    "Existiria um `ascii_uppercase`? Vamos testar...\n",
    "(na verdade, no jupyter, vocês têm acesso a autocomplete da api do módulo. Basta apertar `Tab` - depois do ponto)"
   ]
  },
  {
   "cell_type": "code",
   "execution_count": null,
   "metadata": {},
   "outputs": [],
   "source": [
    "string.ascii_uppercase"
   ]
  },
  {
   "cell_type": "markdown",
   "metadata": {},
   "source": [
    "Agora já podemos reescrever nossa função:"
   ]
  },
  {
   "cell_type": "code",
   "execution_count": null,
   "metadata": {},
   "outputs": [],
   "source": [
    "def capitalize_string_v2(term):\n",
    "    new_term = term\n",
    "    for i, ch in enumerate(string.ascii_lowercase):\n",
    "        if term[0] == ch:\n",
    "            new_term = string.ascii_uppercase[i] + term[1:]\n",
    "    return new_term"
   ]
  },
  {
   "cell_type": "markdown",
   "metadata": {},
   "source": [
    "Note que aqui usamos a função `enumerate`, que recebe com um argumento um objeto iterável e retorna tuplas contendo o índice (começando do zero) e o elemento do objeto iterável.\n",
    "\n",
    "Como no caso da função que fizemos antes, podemos testar `capitalize_string_v2` com nosso exemplo e checar se ela realmente funciona."
   ]
  },
  {
   "cell_type": "code",
   "execution_count": null,
   "metadata": {},
   "outputs": [],
   "source": [
    "capitalize_string_v2('que tal formatar umas strings?') == 'Que tal formatar umas strings?'"
   ]
  },
  {
   "cell_type": "markdown",
   "metadata": {},
   "source": [
    "Também existe um método que transforma uma letra em letra maiúscula. Ele se chama [upper](http://www.tutorialspoint.com/python/string_upper.htm). Clique no link para ler um pouco sobre ela. Que tal construir uma função `capitalize_string_v3` usando-a?"
   ]
  },
  {
   "cell_type": "code",
   "execution_count": 27,
   "metadata": {},
   "outputs": [],
   "source": [
    "def capitalize_string_v3(term):\n",
    "    return term[0].upper() + term[1:]"
   ]
  },
  {
   "cell_type": "code",
   "execution_count": 28,
   "metadata": {},
   "outputs": [
    {
     "data": {
      "text/plain": [
       "True"
      ]
     },
     "execution_count": 28,
     "metadata": {},
     "output_type": "execute_result"
    }
   ],
   "source": [
    "capitalize_string_v3('que tal formatar umas strings?') == 'Que tal formatar umas strings?'"
   ]
  },
  {
   "cell_type": "markdown",
   "metadata": {},
   "source": [
    "Foi fácil?\n",
    "\n",
    "Que tal agora ler um pouco sobre o método [capitalize](http://www.tutorialspoint.com/python/string_capitalize.htm)?"
   ]
  },
  {
   "cell_type": "markdown",
   "metadata": {},
   "source": [
    "Modifique a célula abaixo para que `capitalized_string` contenha a string que estamos usando para teste com a inicial maiúscula (use o método `capitalize`)"
   ]
  },
  {
   "cell_type": "code",
   "execution_count": null,
   "metadata": {},
   "outputs": [],
   "source": [
    "capitalized_string = 'que tal formatar umas strings?'"
   ]
  },
  {
   "cell_type": "markdown",
   "metadata": {},
   "source": [
    "Ao rodar a célula abaixo, o resultado deve ser `True`"
   ]
  },
  {
   "cell_type": "code",
   "execution_count": null,
   "metadata": {},
   "outputs": [],
   "source": [
    "capitalized_string == 'Que tal formatar umas strings?'"
   ]
  },
  {
   "cell_type": "markdown",
   "metadata": {},
   "source": [
    "## Desafio: \"limpeza\" de dados\n",
    "\n",
    "A vida de _data scientist_ muitas vezes envolve trabalhar com datasets que estão mal formatados (\"sujos\"). Normalmente, um dos primeiros passos antes de qualquer análise ou de criar um modelo é limpar os dados.\n",
    "\n",
    "Imagine que temos um arquivo com as buscas \n",
    "\n",
    "Imagine que você recebeu um texto com letras maiúsculas e minúsculas misturadas. Queremos que esse texto esteja em letra minúscula para facilitar certos processamentos a serem feitos depois. Você pode ajudar nessa tarefa?\n",
    "\n",
    "Obs.: sobre formatação de strings, leia mais no [link](https://www.digitalocean.com/community/tutorials/how-to-use-string-formatters-in-python-3)."
   ]
  },
  {
   "cell_type": "code",
   "execution_count": null,
   "metadata": {},
   "outputs": [],
   "source": [
    "mensagem = \"\"\"\n",
    "[FREELA DESIGN REMOTO]\n",
    "Oi, meninas! Tudo bem?\n",
    "\n",
    "Estou precisando de uma designer para um freela de redes sociais. Criação de posts para Facebook, Instagram, LinkedIn e Instagram em formatos diversos. Até 20 posts por mês.\n",
    "\n",
    "Quem tiver interesse, por favor, coloca o e-mail e o link do portfólio aqui nos comentários. Entrarei em contato com mais informações.\n",
    "\n",
    "Obrigada!\n",
    "\"\"\""
   ]
  },
  {
   "cell_type": "markdown",
   "metadata": {},
   "source": [
    "** Descomente (apagando o símbolo `#`) e rode a célula abaixo SOMENTE se quiser uma dica **"
   ]
  },
  {
   "cell_type": "code",
   "execution_count": null,
   "metadata": {},
   "outputs": [],
   "source": [
    "#give_me_a_hint('limpeza_mensagem')"
   ]
  },
  {
   "cell_type": "markdown",
   "metadata": {},
   "source": [
    "Formate `mensagem` para que ela fique em letras minúsculas e a coloque na variável `mensagem_letra_minuscula`"
   ]
  },
  {
   "cell_type": "code",
   "execution_count": null,
   "metadata": {},
   "outputs": [],
   "source": [
    "mensagem_letra_minuscula = ###"
   ]
  },
  {
   "cell_type": "markdown",
   "metadata": {},
   "source": [
    "Ao rodar a célula abaixo, o resultado deve ser `True`"
   ]
  },
  {
   "cell_type": "code",
   "execution_count": null,
   "metadata": {},
   "outputs": [],
   "source": [
    "mensagem_letra_minuscula == '\\n[freela design - remoto]\\noi, meninas! tudo bem?\\n\\nestou precisando de uma designer para um freela de redes sociais. criação de posts para facebook, instagram, linkedin e instagram em formatos diversos. até 20 posts/mês.\\n\\nquem tiver interesse, por favor, coloca o e-mail e o link do portfólio aqui nos comentários. entrarei em contato com mais informações :)\\n\\nobrigada!\\n'"
   ]
  },
  {
   "cell_type": "markdown",
   "metadata": {},
   "source": [
    "Agora que temos o texto em letra minúscula, vamos tentar calcular o número de palavras no texto de `mensagem_letra_minuscula`?\n",
    "\n",
    "Atenção: não é necessário se preocupar com os caracteres especiais, por enquanto."
   ]
  },
  {
   "cell_type": "markdown",
   "metadata": {},
   "source": [
    "Se você ainda não tem uma ideia do que fazer, e quiser uma dica, descomente e execute a célula abaixo. Do contrário, siga em frente!"
   ]
  },
  {
   "cell_type": "code",
   "execution_count": null,
   "metadata": {},
   "outputs": [],
   "source": [
    "#give_me_a_hint('limpeza_mensagem_count_words')"
   ]
  },
  {
   "cell_type": "code",
   "execution_count": null,
   "metadata": {},
   "outputs": [],
   "source": [
    "###"
   ]
  },
  {
   "cell_type": "markdown",
   "metadata": {},
   "source": [
    "Quantas e quais palavras você encontrou?"
   ]
  },
  {
   "cell_type": "code",
   "execution_count": null,
   "metadata": {},
   "outputs": [],
   "source": [
    "###"
   ]
  },
  {
   "cell_type": "code",
   "execution_count": null,
   "metadata": {},
   "outputs": [],
   "source": []
  },
  {
   "cell_type": "markdown",
   "metadata": {},
   "source": [
    "Esse resultado mudaria, se quiséssemos saber a quantidade de palavras ÚNICAS? Como você adaptaria o algoritmo que descobriu para encontrar esse número?"
   ]
  },
  {
   "cell_type": "code",
   "execution_count": null,
   "metadata": {},
   "outputs": [],
   "source": [
    "###"
   ]
  },
  {
   "cell_type": "code",
   "execution_count": null,
   "metadata": {},
   "outputs": [],
   "source": []
  },
  {
   "cell_type": "code",
   "execution_count": null,
   "metadata": {},
   "outputs": [],
   "source": []
  }
 ],
 "metadata": {
  "kernelspec": {
   "display_name": "Python 3",
   "language": "python",
   "name": "python3"
  },
  "language_info": {
   "codemirror_mode": {
    "name": "ipython",
    "version": 3
   },
   "file_extension": ".py",
   "mimetype": "text/x-python",
   "name": "python",
   "nbconvert_exporter": "python",
   "pygments_lexer": "ipython3",
   "version": "3.7.0"
  }
 },
 "nbformat": 4,
 "nbformat_minor": 2
}
