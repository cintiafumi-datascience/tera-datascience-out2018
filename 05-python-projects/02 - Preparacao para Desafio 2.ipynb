{
 "cells": [
  {
   "cell_type": "markdown",
   "metadata": {},
   "source": [
    "# Aula \\#5 - Desafio em Grupo & Checkpoint \\#1 - Preparação para Desafio 2\n",
    "\n",
    "Aqui, vamos falar das ferramentas de controle de fluxo, que são essenciais para a maior parte das tarefas, por sua função (justamente) de orientar o fluxo do programa.\n",
    "\n",
    "Essas são algumas das principais ferramentas em Python:\n",
    "\n",
    "* `if` e `else`: como pode ser deduzido a partir do significado, essas duas ferramentas são usadas para indicar uma condição para que um trecho do código seja executado\n",
    "\n",
    "* `while`: especifica a repetição de um trecho de código enquanto um expressão seja verdadeira\n",
    "\n",
    "* `for`: itera sobre elementos de um objeto\n",
    "\n",
    "* `range`: gera um objeto contendo uma sequência de progressão aritmética"
   ]
  },
  {
   "cell_type": "markdown",
   "metadata": {},
   "source": [
    "## Exemplos de uso"
   ]
  },
  {
   "cell_type": "markdown",
   "metadata": {},
   "source": [
    "**Uma simples função que dá bons conselhos dado o clima do dia**"
   ]
  },
  {
   "cell_type": "code",
   "execution_count": 1,
   "metadata": {},
   "outputs": [],
   "source": [
    "def give_advice(weather):\n",
    "    if weather == 'sunny':\n",
    "        advice = 'Leve uma sombrinha'\n",
    "    else:\n",
    "        advice = 'Leve um guarda-chuva'\n",
    "    return advice"
   ]
  },
  {
   "cell_type": "code",
   "execution_count": 2,
   "metadata": {},
   "outputs": [
    {
     "data": {
      "text/plain": [
       "'Leve uma sombrinha'"
      ]
     },
     "execution_count": 2,
     "metadata": {},
     "output_type": "execute_result"
    }
   ],
   "source": [
    "give_advice('sunny')"
   ]
  },
  {
   "cell_type": "code",
   "execution_count": 3,
   "metadata": {},
   "outputs": [
    {
     "data": {
      "text/plain": [
       "'Leve um guarda-chuva'"
      ]
     },
     "execution_count": 3,
     "metadata": {},
     "output_type": "execute_result"
    }
   ],
   "source": [
    "give_advice('rainy')"
   ]
  },
  {
   "cell_type": "markdown",
   "metadata": {},
   "source": [
    "Note que a função não quebra mesmo passando um número como argumento"
   ]
  },
  {
   "cell_type": "code",
   "execution_count": 4,
   "metadata": {},
   "outputs": [
    {
     "data": {
      "text/plain": [
       "'Leve um guarda-chuva'"
      ]
     },
     "execution_count": 4,
     "metadata": {},
     "output_type": "execute_result"
    }
   ],
   "source": [
    "give_advice(1)"
   ]
  },
  {
   "cell_type": "markdown",
   "metadata": {},
   "source": [
    "Esse comportamento é um pouco estranho.\n",
    "\n",
    "Que tal substituirmos o `else` por um `elif`?"
   ]
  },
  {
   "cell_type": "code",
   "execution_count": 6,
   "metadata": {},
   "outputs": [],
   "source": [
    "def give_advice(weather):\n",
    "    if weather == 'sunny':\n",
    "        advice = 'Leve uma sombrinha'\n",
    "    elif weather == 'cloudy' or weather == 'rainy':\n",
    "        advice = 'Leve um guarda-chuva'\n",
    "    else:\n",
    "        advice = 'Desculpe. Não sei como te ajudar'\n",
    "    return advice"
   ]
  },
  {
   "cell_type": "code",
   "execution_count": 7,
   "metadata": {},
   "outputs": [
    {
     "data": {
      "text/plain": [
       "'Desculpe. Não sei como te ajudar'"
      ]
     },
     "execution_count": 7,
     "metadata": {},
     "output_type": "execute_result"
    }
   ],
   "source": [
    "give_advice(1)"
   ]
  },
  {
   "cell_type": "markdown",
   "metadata": {},
   "source": [
    "**Agora vamos a uma função que usa o `while` para imprimir um countdown **"
   ]
  },
  {
   "cell_type": "code",
   "execution_count": 5,
   "metadata": {},
   "outputs": [],
   "source": [
    "def print_countdown(countdown_num):\n",
    "    while countdown_num > 0:\n",
    "        print(countdown_num)\n",
    "        countdown_num = countdown_num - 1\n",
    "    print('Ta-da!')"
   ]
  },
  {
   "cell_type": "code",
   "execution_count": 6,
   "metadata": {},
   "outputs": [
    {
     "name": "stdout",
     "output_type": "stream",
     "text": [
      "3\n",
      "2\n",
      "1\n",
      "Ta-da!\n"
     ]
    }
   ],
   "source": [
    "print_countdown(3)"
   ]
  },
  {
   "cell_type": "markdown",
   "metadata": {},
   "source": [
    "**É possível escrever a mesma função usando o `for` e o `range`**"
   ]
  },
  {
   "cell_type": "code",
   "execution_count": 20,
   "metadata": {},
   "outputs": [],
   "source": [
    "def print_countdown_using_for(countdown_num):\n",
    "    for num in range(countdown_num, 0, -1):\n",
    "        print(num)\n",
    "    print('Ta-da!')"
   ]
  },
  {
   "cell_type": "code",
   "execution_count": 21,
   "metadata": {},
   "outputs": [
    {
     "name": "stdout",
     "output_type": "stream",
     "text": [
      "3\n",
      "2\n",
      "1\n",
      "Ta-da!\n"
     ]
    }
   ],
   "source": [
    "print_countdown_using_for(3)"
   ]
  },
  {
   "cell_type": "markdown",
   "metadata": {},
   "source": [
    "## Mini desafio: que tal fazer uma função \"count_up\"?\n",
    "\n",
    "Ao invés de imprimir os números na ordem decrescente, vamos os imprimir na ordem crescente.\n",
    "\n",
    "Você é livre para escrevê-la como melhor preferir! Mas não se esqueça do `Ta-da!` ao fim da contagem :)"
   ]
  },
  {
   "cell_type": "code",
   "execution_count": 14,
   "metadata": {},
   "outputs": [],
   "source": [
    "def print_countup(countup_num):\n",
    "    for num in range(1, countup_num + 1):\n",
    "        print(num)\n",
    "    print('Ta-da!')"
   ]
  },
  {
   "cell_type": "markdown",
   "metadata": {},
   "source": [
    "A execução abaixo deve imprimir:\n",
    "\n",
    "```\n",
    "1\n",
    "2\n",
    "3\n",
    "Ta-da!\n",
    "```"
   ]
  },
  {
   "cell_type": "code",
   "execution_count": 13,
   "metadata": {},
   "outputs": [
    {
     "name": "stdout",
     "output_type": "stream",
     "text": [
      "1\n",
      "2\n",
      "3\n",
      "Ta-da!\n"
     ]
    }
   ],
   "source": [
    "print_countup(3)"
   ]
  },
  {
   "cell_type": "code",
   "execution_count": null,
   "metadata": {},
   "outputs": [],
   "source": []
  }
 ],
 "metadata": {
  "kernelspec": {
   "display_name": "Python 3",
   "language": "python",
   "name": "python3"
  },
  "language_info": {
   "codemirror_mode": {
    "name": "ipython",
    "version": 3
   },
   "file_extension": ".py",
   "mimetype": "text/x-python",
   "name": "python",
   "nbconvert_exporter": "python",
   "pygments_lexer": "ipython3",
   "version": "3.7.0"
  }
 },
 "nbformat": 4,
 "nbformat_minor": 2
}
