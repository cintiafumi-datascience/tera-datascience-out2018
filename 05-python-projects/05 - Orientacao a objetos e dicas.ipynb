{
 "cells": [
  {
   "cell_type": "markdown",
   "metadata": {},
   "source": [
    "# # Aula \\#5 - Desafio em Grupo & Checkpoint \\#1 - Orientação a objetos e dicas"
   ]
  },
  {
   "cell_type": "code",
   "execution_count": null,
   "metadata": {},
   "outputs": [],
   "source": [
    "import numpy as np\n",
    "import pandas as pd\n",
    "\n",
    "from utils.hints import Helper"
   ]
  },
  {
   "cell_type": "markdown",
   "metadata": {},
   "source": [
    "Ao longo dos desafios, você foi usando dicas? Não?\n",
    "\n",
    "Vamos ver como foi seu uso?"
   ]
  },
  {
   "cell_type": "code",
   "execution_count": null,
   "metadata": {},
   "outputs": [],
   "source": [
    "helper = Helper()\n",
    "helper.get_usage()"
   ]
  },
  {
   "cell_type": "markdown",
   "metadata": {},
   "source": [
    "## Exercício\n",
    "\n",
    "A versão atual da classe `Helper` somente mostra o número absoluto de exercícios para os quais foram pedidas dicas. Que tal incluir também quanto isso representa do total de dicas? Poderia ser algo como:\n",
    "\n",
    "* `Você usou dicas em 2 exercícios. Isso representa 25% dos exercícios.`\n",
    "\n",
    "Note que a quantidade de exercícios com dicas é a quantidade de arquivos de extensão `.pkl` na pasta `utils/.data`."
   ]
  },
  {
   "cell_type": "markdown",
   "metadata": {},
   "source": [
    "Carregue o código de `utils/hints.py` para que possamos modificar o código do método `get_usage` da classe `Helper` aqui."
   ]
  },
  {
   "cell_type": "code",
   "execution_count": null,
   "metadata": {},
   "outputs": [],
   "source": [
    "%load utils/hints.py"
   ]
  },
  {
   "cell_type": "markdown",
   "metadata": {},
   "source": [
    "Quando terminar, execute novamente e veja se funcionou :)"
   ]
  },
  {
   "cell_type": "code",
   "execution_count": null,
   "metadata": {},
   "outputs": [],
   "source": [
    "helper = Helper()\n",
    "helper.get_usage()"
   ]
  },
  {
   "cell_type": "markdown",
   "metadata": {},
   "source": [
    "Crie um gerador de dataframes aleatórios. A ideia é criar uma classe `RandomDataFrameGenerator` que em sua inicialização deverá receber um dicionário em que a chave é o tipo dos elementos (em string) e o valor é uma lista com os nomes da coluna daquele tipo.\n",
    "\n",
    "Para nosso uso, somente será necessário aceitar três tipos apenas: `'int'`, `'float'` e `'str'`. Caso o tipo não pertença a nenhuma dessas categorias, deve-se exibir uma mensagem na inicialização, avisando ao usuário que coluna(s) não será(ão) criada(s) por não pertencer aos tipos aceitos.\n",
    "\n",
    "Lembre-se de criar também o método `get_df` que retornará o dataframe criado. O método `get_df` deverá receber como parâmetro `n`, que será o tamanho do dataframe."
   ]
  },
  {
   "cell_type": "code",
   "execution_count": null,
   "metadata": {},
   "outputs": [],
   "source": [
    "class RandomDataFrameGenerator(object):\n",
    "    def __init__(self, type2colname):\n",
    "        ###\n",
    "    \n",
    "    def get_df(self, n):\n",
    "        ###"
   ]
  },
  {
   "cell_type": "code",
   "execution_count": null,
   "metadata": {},
   "outputs": [],
   "source": [
    "df_generator = RandomDataFrameGenerator({'str': ['col_str1', 'col_str2'], 'int': ['col_int'], 'float': ['col_float'], 'bla': ['col_bla']})"
   ]
  },
  {
   "cell_type": "markdown",
   "metadata": {},
   "source": [
    "**Testes de sanidade**"
   ]
  },
  {
   "cell_type": "markdown",
   "metadata": {},
   "source": [
    "Imprima os tipos e veja se faz sentido:\n",
    "\n",
    "* as colunas que são de `string` devem ter dtype `object`\n",
    "* as colunas que são de `int` devem ter dtype `int64`\n",
    "* as colunas que são de `float` devem ter dtype `float64`"
   ]
  },
  {
   "cell_type": "code",
   "execution_count": null,
   "metadata": {},
   "outputs": [],
   "source": [
    "df_generator.get_df(3).dtypes"
   ]
  },
  {
   "cell_type": "code",
   "execution_count": null,
   "metadata": {},
   "outputs": [],
   "source": [
    "len(df_generator.get_df(3)) == 3"
   ]
  },
  {
   "cell_type": "code",
   "execution_count": null,
   "metadata": {},
   "outputs": [],
   "source": [
    "len(df_generator.get_df(0)) == 0"
   ]
  },
  {
   "cell_type": "markdown",
   "metadata": {},
   "source": [
    "## Dicas gerais"
   ]
  },
  {
   "cell_type": "markdown",
   "metadata": {},
   "source": [
    "### tqdm"
   ]
  },
  {
   "cell_type": "code",
   "execution_count": null,
   "metadata": {},
   "outputs": [],
   "source": [
    "from tqdm import tqdm_notebook"
   ]
  },
  {
   "cell_type": "code",
   "execution_count": null,
   "metadata": {},
   "outputs": [],
   "source": [
    "very_big_list = np.random.random(1000000)"
   ]
  },
  {
   "cell_type": "code",
   "execution_count": null,
   "metadata": {},
   "outputs": [],
   "source": [
    "%%time\n",
    "double_very_big_list = []\n",
    "for elem in tqdm_notebook(very_big_list):\n",
    "    double_very_big_list.append(2*elem)"
   ]
  },
  {
   "cell_type": "markdown",
   "metadata": {},
   "source": [
    "### list/dict comprehensions\n",
    "\n"
   ]
  },
  {
   "cell_type": "markdown",
   "metadata": {},
   "source": [
    "Veja que podemos também calcular `double_very_big_list` usando uma `list comprehension`:"
   ]
  },
  {
   "cell_type": "code",
   "execution_count": null,
   "metadata": {},
   "outputs": [],
   "source": [
    "%%time\n",
    "double_very_big_list = [2*elem for elem in tqdm_notebook(very_big_list)]"
   ]
  },
  {
   "cell_type": "markdown",
   "metadata": {},
   "source": [
    "**Obs.:** Apesar de facilitar a escrita do código, as `list comprehensions` ou `dict comprehensions` devem ser usadas com moderação, afinal, queremos escrever um código que seja fácil para um humano ler."
   ]
  },
  {
   "cell_type": "markdown",
   "metadata": {},
   "source": [
    "### numpy"
   ]
  },
  {
   "cell_type": "code",
   "execution_count": null,
   "metadata": {},
   "outputs": [],
   "source": [
    "%%time\n",
    "np_double_very_big_list = 2*very_big_list"
   ]
  },
  {
   "cell_type": "markdown",
   "metadata": {},
   "source": [
    "Conferindo se era tudo igual mesmo..."
   ]
  },
  {
   "cell_type": "code",
   "execution_count": null,
   "metadata": {},
   "outputs": [],
   "source": [
    "np.all(double_very_big_list == np_double_very_big_list)"
   ]
  },
  {
   "cell_type": "markdown",
   "metadata": {},
   "source": [
    "### pandas"
   ]
  },
  {
   "cell_type": "markdown",
   "metadata": {},
   "source": [
    "**Leitura**\n",
    "\n",
    "Usar `nrows` para checar que tipo de colunas existe no dataframe, se há ou não header, etc."
   ]
  },
  {
   "cell_type": "code",
   "execution_count": null,
   "metadata": {},
   "outputs": [],
   "source": [
    "%%time\n",
    "df = pd.read_csv('data/datasets/winemag-data-130k-v2.csv', nrows=10)"
   ]
  },
  {
   "cell_type": "code",
   "execution_count": null,
   "metadata": {},
   "outputs": [],
   "source": [
    "df.head(n=1)"
   ]
  },
  {
   "cell_type": "markdown",
   "metadata": {},
   "source": [
    "Sem esse parâmetro, o dataset demora muito mais para carregar..."
   ]
  },
  {
   "cell_type": "code",
   "execution_count": null,
   "metadata": {},
   "outputs": [],
   "source": [
    "%%time\n",
    "df = pd.read_csv('data/datasets/winemag-data-130k-v2.csv')"
   ]
  },
  {
   "cell_type": "markdown",
   "metadata": {},
   "source": [
    "Para ler arquivos muito grandes, o ideal é usar `chunksize` para ler o dataset aos poucos.\n",
    "\n",
    "Ao usar o `chunksize`, ao invés de receber como retorno um objeto `pandas.DataFrame`, o que é retornado é um iterador de dataframes. Para reconstruir o dataframe total, basta percorrer esse iterador e ir concatenando cada pequeno dataframe."
   ]
  },
  {
   "cell_type": "code",
   "execution_count": null,
   "metadata": {},
   "outputs": [],
   "source": [
    "%%time\n",
    "df = pd.DataFrame()\n",
    "chunks = pd.read_csv('data/datasets/winemag-data-130k-v2.csv', chunksize=10000)\n",
    "for little_df in tqdm_notebook(chunks):\n",
    "    df = pd.concat([df, little_df])"
   ]
  },
  {
   "cell_type": "markdown",
   "metadata": {},
   "source": [
    "**apply**"
   ]
  },
  {
   "cell_type": "markdown",
   "metadata": {},
   "source": [
    "Uma das ferramentas bastante usadas para transformar colunas é o `apply`. Uma situação comum é querer usar o `apply` com uma função que precisa de outros parâmetros além das colunas do dataframe."
   ]
  },
  {
   "cell_type": "code",
   "execution_count": null,
   "metadata": {},
   "outputs": [],
   "source": [
    "example_df = df_generator.get_df(4)"
   ]
  },
  {
   "cell_type": "markdown",
   "metadata": {},
   "source": [
    "Imagine que queremos aplicar a seguinte função à coluna `col_str2` para construir uma coluna `col_str3`."
   ]
  },
  {
   "cell_type": "code",
   "execution_count": null,
   "metadata": {},
   "outputs": [],
   "source": [
    "def format_str(text, fmt='**{}**'):\n",
    "    return fmt.format(text)"
   ]
  },
  {
   "cell_type": "code",
   "execution_count": null,
   "metadata": {},
   "outputs": [],
   "source": [
    "example_df['col_str3'] = example_df['col_str2'].apply(format_str, args=['##{}##'])"
   ]
  },
  {
   "cell_type": "code",
   "execution_count": null,
   "metadata": {},
   "outputs": [],
   "source": [
    "example_df[['col_str2', 'col_str3']]"
   ]
  },
  {
   "cell_type": "code",
   "execution_count": null,
   "metadata": {},
   "outputs": [],
   "source": [
    "example_df['col_str3'] = example_df['col_str2'].apply(format_str, fmt='~~{}~~')"
   ]
  },
  {
   "cell_type": "code",
   "execution_count": null,
   "metadata": {},
   "outputs": [],
   "source": [
    "example_df[['col_str2', 'col_str3']]"
   ]
  },
  {
   "cell_type": "markdown",
   "metadata": {},
   "source": [
    "Outra maneira de fazer isso, é usar o conceito de `nested functions` (funções aninhadas):"
   ]
  },
  {
   "cell_type": "code",
   "execution_count": null,
   "metadata": {},
   "outputs": [],
   "source": [
    "def format_str_v2(fmt='**{}**'):\n",
    "    def _format_str(text):\n",
    "        return fmt.format(text)\n",
    "    return _format_str"
   ]
  },
  {
   "cell_type": "code",
   "execution_count": null,
   "metadata": {},
   "outputs": [],
   "source": [
    "example_df['col_str3'] = example_df['col_str2'].apply(format_str_v2(fmt='^^{}^^'))"
   ]
  },
  {
   "cell_type": "code",
   "execution_count": null,
   "metadata": {},
   "outputs": [],
   "source": [
    "example_df[['col_str2', 'col_str3']]"
   ]
  },
  {
   "cell_type": "markdown",
   "metadata": {},
   "source": [
    "Imagine agora que temos um dataframe muito grande..."
   ]
  },
  {
   "cell_type": "code",
   "execution_count": null,
   "metadata": {},
   "outputs": [],
   "source": [
    "very_big_df = df_generator.get_df(1000000)"
   ]
  },
  {
   "cell_type": "code",
   "execution_count": null,
   "metadata": {},
   "outputs": [],
   "source": [
    "%timeit very_big_df['double_col_int'] = very_big_df['col_int'].apply(lambda num: 2*num)"
   ]
  },
  {
   "cell_type": "code",
   "execution_count": null,
   "metadata": {},
   "outputs": [],
   "source": [
    "%timeit very_big_df['double_col_int_v2'] = 2*very_big_df['col_int']"
   ]
  },
  {
   "cell_type": "markdown",
   "metadata": {},
   "source": [
    "**apply + swifter**\n",
    "\n",
    "[swifter](https://github.com/jmcarpenter2/swifter) é uma biblioteca que serve para aplicar funções a dataframes. A ideia é que ele vai otimizar o tempo de processamento, por procurar a melhor maneira de aplicar sua função (de forma paralela, de forma vetorizada etc.). Por enquanto, ela funciona bem para operações numéricas."
   ]
  },
  {
   "cell_type": "code",
   "execution_count": null,
   "metadata": {},
   "outputs": [],
   "source": [
    "import swifter"
   ]
  },
  {
   "cell_type": "code",
   "execution_count": null,
   "metadata": {},
   "outputs": [],
   "source": [
    "%timeit very_big_df['double_col_int_v3'] = very_big_df['col_int'].swifter.apply(lambda num: 2*num)"
   ]
  },
  {
   "cell_type": "code",
   "execution_count": null,
   "metadata": {},
   "outputs": [],
   "source": []
  }
 ],
 "metadata": {
  "kernelspec": {
   "display_name": "Python 3",
   "language": "python",
   "name": "python3"
  },
  "language_info": {
   "codemirror_mode": {
    "name": "ipython",
    "version": 3
   },
   "file_extension": ".py",
   "mimetype": "text/x-python",
   "name": "python",
   "nbconvert_exporter": "python",
   "pygments_lexer": "ipython3",
   "version": "3.7.0"
  }
 },
 "nbformat": 4,
 "nbformat_minor": 2
}
