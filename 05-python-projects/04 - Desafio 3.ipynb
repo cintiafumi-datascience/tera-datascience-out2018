{
 "cells": [
  {
   "cell_type": "markdown",
   "metadata": {},
   "source": [
    "# Aula \\#5 - Desafio em Grupo & Checkpoint \\#1 - Desafio: vinhos populares\n",
    "\n",
    "Nesse desafio, vamos usar um dataset **modificado** a partir de um dos datasets sobre `wine reviews` do [Kaggle](https://www.kaggle.com/zynicide/wine-reviews).\n",
    "\n",
    "Caso queira reproduzir os passos para chegar ao \"mesmo\" dataset, você pode usar o dataset original `winemag-data-130k-v2.csv` e executar as seguintes linhas:\n",
    "```python\n",
    "df = pd.read_csv('data/datasets/winemag-data-130k-v2.csv', sep=',', encoding='utf-8')\n",
    "\n",
    "df = df[['country', 'description', 'points', 'price', 'taster_name', 'taster_twitter_handle', 'title']]\n",
    "\n",
    "df = df.drop_duplicates().reset_index(drop=True).rename(columns={'points': 'rating'})\n",
    "\n",
    "df = df[(df['price'].notnull())&(df['rating'].notnull())]\n",
    "\n",
    "df = df.sample(n=100000)\n",
    "\n",
    "df.reset_index(drop=True, inplace=True)\n",
    "```\n",
    "\n",
    "Note que não será exatamente o mesmo dataset devido ao uso do método [sample](https://pandas.pydata.org/pandas-docs/stable/generated/pandas.DataFrame.sample.html)."
   ]
  },
  {
   "cell_type": "code",
   "execution_count": null,
   "metadata": {},
   "outputs": [],
   "source": [
    "import doctest\n",
    "import matplotlib.pyplot as plt\n",
    "import numpy as np\n",
    "import pandas as pd\n",
    "from wordcloud import WordCloud\n",
    "\n",
    "from utils.hints import give_me_a_hint"
   ]
  },
  {
   "cell_type": "code",
   "execution_count": null,
   "metadata": {},
   "outputs": [],
   "source": [
    "pd.set_option('display.max_colwidth', -1)"
   ]
  },
  {
   "cell_type": "markdown",
   "metadata": {},
   "source": [
    "### Leitura do dataset"
   ]
  },
  {
   "cell_type": "code",
   "execution_count": null,
   "metadata": {},
   "outputs": [],
   "source": [
    "df = pd.read_csv('data/datasets/kaggle_wine_reviews.csv', sep=',', encoding='utf-8')"
   ]
  },
  {
   "cell_type": "code",
   "execution_count": null,
   "metadata": {},
   "outputs": [],
   "source": [
    "df.head(n=5)"
   ]
  },
  {
   "cell_type": "markdown",
   "metadata": {},
   "source": [
    "## Quais as palavras mais comuns na coluna _description_?"
   ]
  },
  {
   "cell_type": "markdown",
   "metadata": {},
   "source": [
    "Vamos criar uma função que retorne as palavras mais frequentes. O argumento que ela recebe é uma lista dessas palavras.\n",
    "\n",
    "Note que a função deve ser genérica para receber outro tipo de objetos, como números, por exemplo.\n",
    "\n",
    "Atenção: a função abaixo já está documentada, de forma que seu código deve obedecer ao formato de saída especificado na documentação."
   ]
  },
  {
   "cell_type": "code",
   "execution_count": null,
   "metadata": {},
   "outputs": [],
   "source": [
    "# give_me_a_hint('most_frequent_function')"
   ]
  },
  {
   "cell_type": "code",
   "execution_count": null,
   "metadata": {},
   "outputs": [],
   "source": [
    "def get_most_frequent(objs_list, n=10):\n",
    "    \"\"\"Get the `n` most frequent objects from `objs_list`\n",
    "    \n",
    "    Args:\n",
    "        - objs_list (list<str>/list<int>/list<obj>)\n",
    "        - n (int)\n",
    "        \n",
    "    Returns:\n",
    "        - list<tuple(str, int)>\n",
    "        \n",
    "    >>> get_most_frequent(['a', 'b', 'a', 'a'], n=2)\n",
    "    [('a', 3), ('b', 1)]\n",
    "    \"\"\"\n",
    "    return ###"
   ]
  },
  {
   "cell_type": "markdown",
   "metadata": {},
   "source": [
    "Ao executar a célula abaixo, deve-se obter a seguinte saída:\n",
    "\n",
    "```bash\n",
    "Finding tests in NoName\n",
    "Trying:\n",
    "    get_most_frequent(['a', 'b', 'a', 'a'], n=2)\n",
    "Expecting:\n",
    "    [('a', 3), ('b', 1)]\n",
    "ok\n",
    "```"
   ]
  },
  {
   "cell_type": "code",
   "execution_count": null,
   "metadata": {},
   "outputs": [],
   "source": [
    "doctest.run_docstring_examples(get_most_frequent, globals(), verbose=True)"
   ]
  },
  {
   "cell_type": "markdown",
   "metadata": {},
   "source": [
    "Para encontrar as palavras mais comuns nos reviews, é necessário que tenhamos a lista de todas as palavras que aparecem lá.\n",
    "\n",
    "Já vimos antes como separar um texto em palavras. Mas nesse caso, cada linha conterá uma string.\n",
    "\n",
    "Como obter uma única lista contendo todas as palavras?"
   ]
  },
  {
   "cell_type": "markdown",
   "metadata": {},
   "source": [
    "Uma maneira é percorrer a lista de strings e executar o que já havíamos feito anteriormente no outro notebook para obter a lista de palavras. Para cada texto, teremos uma lista, e podemos construir a lista única conforme obtemos cada uma dessas listas. Lembre-se de normalizar as palavras para que elas fiquem com o mesmo _case_ (todas minúsculas ou todas maiúsculas. Lembre-se dessa escolha, pois deveremos manter o mesmo `case` em outras tarefas também, ok?)"
   ]
  },
  {
   "cell_type": "code",
   "execution_count": null,
   "metadata": {},
   "outputs": [],
   "source": [
    "words_list = []\n",
    "for text in ###:\n",
    "    words_list ###"
   ]
  },
  {
   "cell_type": "code",
   "execution_count": null,
   "metadata": {},
   "outputs": [],
   "source": [
    "get_most_frequent(words_list)"
   ]
  },
  {
   "cell_type": "markdown",
   "metadata": {},
   "source": [
    "Se tudo estiver certo, você deve ter reparado que na lista acima aparecem muitas palavras que carregam pouco significado, como artigos e preposições.\n",
    "\n",
    "Por coincidência (ou não :p), temos uma lista com algumas dessas palavras disponível no diretório `data/resources` em um arquivo chamado `en_stopwords.txt`. Sua próxima tarefa envolve remover da lista `words_list` todas as palavras que estão nessa lista de stopwords."
   ]
  },
  {
   "cell_type": "markdown",
   "metadata": {},
   "source": [
    "Carregue a lista do arquivo `data/resources/en_stopwords.txt` na variável `stopwords`"
   ]
  },
  {
   "cell_type": "code",
   "execution_count": null,
   "metadata": {},
   "outputs": [],
   "source": [
    "stopwords = ###"
   ]
  },
  {
   "cell_type": "markdown",
   "metadata": {},
   "source": [
    "Após a leitura, a célula abaixo deve retornar `True`."
   ]
  },
  {
   "cell_type": "code",
   "execution_count": null,
   "metadata": {},
   "outputs": [],
   "source": [
    "' -- '.join(stopwords[:10]) == 'a -- about -- above -- after -- again -- against -- all -- am -- an -- and'"
   ]
  },
  {
   "cell_type": "markdown",
   "metadata": {},
   "source": [
    "Lembre-se de que se você escolheu colocar as palavras de `word_list` em letra minúscula/maiúscula, você deve converter as palavras de `stopwords` para o mesmo case."
   ]
  },
  {
   "cell_type": "code",
   "execution_count": null,
   "metadata": {},
   "outputs": [],
   "source": [
    "###"
   ]
  },
  {
   "cell_type": "markdown",
   "metadata": {},
   "source": [
    "Crie a função que remove stopwords de uma lista de palavras"
   ]
  },
  {
   "cell_type": "code",
   "execution_count": null,
   "metadata": {},
   "outputs": [],
   "source": [
    "def remove_stopwords(words_list, stopwords):\n",
    "    ###"
   ]
  },
  {
   "cell_type": "code",
   "execution_count": null,
   "metadata": {},
   "outputs": [],
   "source": [
    "%%time\n",
    "words_list = remove_stopwords_from_text(words_list, stopwords)"
   ]
  },
  {
   "cell_type": "code",
   "execution_count": null,
   "metadata": {},
   "outputs": [],
   "source": [
    "get_most_frequent(words_list)"
   ]
  },
  {
   "cell_type": "markdown",
   "metadata": {},
   "source": [
    "**Bônus**: Remova stopwords e a pontuação das palavras\n",
    "\n",
    "Você deve ter reparado que na lista acima, havia uma palavra com pontuação. Isso acontece já que houve remoção de pontuação em nosso pré-processamento.\n",
    "\n",
    "A ideia desse exercício bônus é você fazê-lo somente se já terminou os demais. Não executar as próximas células, não afeta substancialmente o desenvolvimento das outras tarefas"
   ]
  },
  {
   "cell_type": "code",
   "execution_count": null,
   "metadata": {},
   "outputs": [],
   "source": [
    "# give_me_a_hint('remove_stopwords_and_punctuation')"
   ]
  },
  {
   "cell_type": "code",
   "execution_count": null,
   "metadata": {},
   "outputs": [],
   "source": [
    "def remove_stopwords_and_punctuation(words_list, stopwords):\n",
    "    ###"
   ]
  },
  {
   "cell_type": "markdown",
   "metadata": {},
   "source": [
    "Note que abaixo estamos usando a função mágica `%%time` que nos permite visualizar o tempo de execução da célula"
   ]
  },
  {
   "cell_type": "code",
   "execution_count": null,
   "metadata": {},
   "outputs": [],
   "source": [
    "%%time\n",
    "words_list = remove_stopwords_and_punctuation(words_list, stopwords)"
   ]
  },
  {
   "cell_type": "code",
   "execution_count": null,
   "metadata": {},
   "outputs": [],
   "source": [
    "get_most_frequent(words_list)"
   ]
  },
  {
   "cell_type": "markdown",
   "metadata": {},
   "source": [
    "**Continue aqui para pular o bônus**"
   ]
  },
  {
   "cell_type": "markdown",
   "metadata": {},
   "source": [
    "Você já ouviu falar em uma nuvem de palavras?\n",
    "\n",
    "Vamos usar a função abaixo para plotar a famosa nuvem de palavras. Note que ela recebe como argumento uma `string`.\n",
    "\n",
    "Como construir uma string a partir de uma lista de strings?"
   ]
  },
  {
   "cell_type": "code",
   "execution_count": null,
   "metadata": {},
   "outputs": [],
   "source": [
    "def plot_circular_word_cloud(text):\n",
    "    \"\"\"Plot word cloud with the frequent words inside text\n",
    "    Args:\n",
    "    - text (str)\n",
    "    \"\"\"\n",
    "    x, y = np.ogrid[:400, :400]\n",
    "\n",
    "    mask = (x - 200) ** 2 + (y - 200) ** 2 > 210 ** 2\n",
    "    mask = 255 * mask.astype(int)\n",
    "\n",
    "    wc = WordCloud(background_color=\"white\", mask=mask)\n",
    "    wc.generate(text)\n",
    "\n",
    "    plt.figure(figsize=(4, 4), dpi=100)\n",
    "    plt.axis(\"off\")\n",
    "    plt.imshow(wc, interpolation=\"bilinear\")\n",
    "    plt.show()"
   ]
  },
  {
   "cell_type": "markdown",
   "metadata": {},
   "source": [
    "Crie a variável `text` a partir da lista de strings `words_list`"
   ]
  },
  {
   "cell_type": "code",
   "execution_count": null,
   "metadata": {},
   "outputs": [],
   "source": [
    "# give_me_a_hint('text_from_list_strings')"
   ]
  },
  {
   "cell_type": "code",
   "execution_count": null,
   "metadata": {},
   "outputs": [],
   "source": [
    "text = ###"
   ]
  },
  {
   "cell_type": "markdown",
   "metadata": {},
   "source": [
    "Aprecie agora sua arte!\n",
    "\n",
    "(Como estamos processando muito texto, a execução pode demorar um pouco. Se quiser saber quanto, adicione a função mágica `%%time` para medir o tempo de execução)"
   ]
  },
  {
   "cell_type": "code",
   "execution_count": null,
   "metadata": {},
   "outputs": [],
   "source": [
    "plot_circular_word_cloud(text)"
   ]
  },
  {
   "cell_type": "markdown",
   "metadata": {},
   "source": [
    "## Normalizando a coluna _rating_ para que os pontos fiquem de zero a um\n",
    "\n",
    "Pergunta-chave:\n",
    "* Qual a amplitude dos valores na coluna _rating_? (ou seja, qual o mínimo e qual o máximo?)"
   ]
  },
  {
   "cell_type": "code",
   "execution_count": null,
   "metadata": {},
   "outputs": [],
   "source": [
    "min_rating = ###"
   ]
  },
  {
   "cell_type": "code",
   "execution_count": null,
   "metadata": {},
   "outputs": [],
   "source": [
    "max_rating = ###"
   ]
  },
  {
   "cell_type": "code",
   "execution_count": null,
   "metadata": {},
   "outputs": [],
   "source": [
    "min_rating, max_rating"
   ]
  },
  {
   "cell_type": "markdown",
   "metadata": {},
   "source": [
    "Crie a coluna `normalized_rating` com o rating entre zero e um"
   ]
  },
  {
   "cell_type": "code",
   "execution_count": null,
   "metadata": {},
   "outputs": [],
   "source": [
    "# give_me_a_hint('rating_normalizer')"
   ]
  },
  {
   "cell_type": "code",
   "execution_count": null,
   "metadata": {},
   "outputs": [],
   "source": [
    "df['normalized_rating'] = ###"
   ]
  },
  {
   "cell_type": "markdown",
   "metadata": {},
   "source": [
    "Lembre-se de checar se o mínimo e máximo de `normalized_rating` é 0 e 1, respectivamente"
   ]
  },
  {
   "cell_type": "code",
   "execution_count": null,
   "metadata": {},
   "outputs": [],
   "source": [
    "###"
   ]
  },
  {
   "cell_type": "markdown",
   "metadata": {},
   "source": [
    "## De que países são os vinhos com melhor e pior _rating_?\n",
    "\n",
    "Exiba o país e a quantidade de vinhos com essas avaliações"
   ]
  },
  {
   "cell_type": "code",
   "execution_count": null,
   "metadata": {},
   "outputs": [],
   "source": [
    "# give_me_a_hint('best_words_rating')"
   ]
  },
  {
   "cell_type": "markdown",
   "metadata": {},
   "source": [
    "**Melhores**"
   ]
  },
  {
   "cell_type": "code",
   "execution_count": null,
   "metadata": {},
   "outputs": [],
   "source": [
    "###"
   ]
  },
  {
   "cell_type": "markdown",
   "metadata": {},
   "source": [
    "**Piores**"
   ]
  },
  {
   "cell_type": "code",
   "execution_count": null,
   "metadata": {},
   "outputs": [],
   "source": [
    "###"
   ]
  },
  {
   "cell_type": "markdown",
   "metadata": {},
   "source": [
    "## Se você chegou até aqui, salve seu dataset df para um arquivo csv com um nome e em uma pasta que você consiga lembrar posteriormente\n",
    "\n",
    "Utilize as teclas `Shift + Tab` para ver os argumentos de `to_csv`\n",
    "\n",
    "Uma configuração que particularmente gosto de usar, é usar o argumento `index=False` para que não seja criada uma coluna nova para o índice no arquivo salvo (mas lembre-se que em alguns casos os índices são importantes, cabe a você, como _data scientist_, fazer essa decisão)"
   ]
  },
  {
   "cell_type": "code",
   "execution_count": null,
   "metadata": {},
   "outputs": [],
   "source": [
    "df.to_csv()"
   ]
  },
  {
   "cell_type": "markdown",
   "metadata": {},
   "source": [
    "## Bônus: encontre a região a partir da coluna _title_\n",
    "\n",
    "Crie uma coluna `region` que conterá a região de que vem o vinho. Para a maior parte das linhas, essa informação está entre parêntesis dentro da coluna `title` e você deve pensar em uma maneira de extraí-la.\n",
    "\n",
    "Note que nem todos os títulos contêm essa informação. Quando a informação não existe, o campo deve informar `not found`. Há casos também que o nome entre parêntesis não é uma região válida. Você deve tratar esses casos com a ajuda do arquivo `data/datasets/valid_wine_regions.txt` que tem uma lista de regiões válidas."
   ]
  },
  {
   "cell_type": "code",
   "execution_count": null,
   "metadata": {},
   "outputs": [],
   "source": [
    "# give_me_a_hint('region_from_title')"
   ]
  },
  {
   "cell_type": "code",
   "execution_count": null,
   "metadata": {},
   "outputs": [],
   "source": [
    "df['region'] = ###"
   ]
  },
  {
   "cell_type": "markdown",
   "metadata": {},
   "source": [
    "Leia o arquivo `data/datasets/valid_wine_regions.txt` e transforme o conteúdo dele em uma lista. Use essa lista para:\n",
    "\n",
    "1. manter as regiões que estão na lista; e\n",
    "2. substituir as que não estão na lista por `not found`."
   ]
  },
  {
   "cell_type": "code",
   "execution_count": null,
   "metadata": {},
   "outputs": [],
   "source": [
    "wine_regions = ###"
   ]
  },
  {
   "cell_type": "markdown",
   "metadata": {},
   "source": [
    "Se a leitura ocorreu corretamente, a seguinte célula deverá exibir `True` ao ser executada"
   ]
  },
  {
   "cell_type": "code",
   "execution_count": null,
   "metadata": {},
   "outputs": [],
   "source": [
    "' -- '.join(wine_regions[:10]) == 'Crozes-Hermitage -- Tavel -- Cerasuolo di Vittoria -- Puglia -- Calabria -- Quarts de Chaume -- Chambolle-Musigny -- Brda -- Chianti Montalbano -- Beneventano'"
   ]
  },
  {
   "cell_type": "markdown",
   "metadata": {},
   "source": [
    "Substitua agora as regiões que não estão em `wine_regions` por `not found`"
   ]
  },
  {
   "cell_type": "code",
   "execution_count": null,
   "metadata": {},
   "outputs": [],
   "source": [
    "# give_me_a_hint('replace_region')"
   ]
  },
  {
   "cell_type": "code",
   "execution_count": null,
   "metadata": {},
   "outputs": [],
   "source": [
    "%%time\n",
    "df.loc[:, 'region'] = ###"
   ]
  },
  {
   "cell_type": "markdown",
   "metadata": {},
   "source": [
    "Dependendo da maneira como você implementou essa substituição, converter a variável `wine_regions` para `set` pode tornar a execução mais rápida.\n",
    "\n",
    "Por que não testar? Lembre-se de re-executar a primeira parte, em que foi construída a coluna `region` a partir da coluna `title`."
   ]
  },
  {
   "cell_type": "code",
   "execution_count": null,
   "metadata": {},
   "outputs": [],
   "source": [
    "df['region'] = #\n",
    "wine_regions = set(wine_regions)"
   ]
  },
  {
   "cell_type": "code",
   "execution_count": null,
   "metadata": {},
   "outputs": [],
   "source": [
    "%%time\n",
    "df.loc[:, 'region'] = ###"
   ]
  },
  {
   "cell_type": "markdown",
   "metadata": {},
   "source": [
    "O resultado que obtive ao procurar as regiões dessa maneira foi tal que não encontrei a região para apenas cerca de 7 mil registros. Você pode testar o seu resultado contra o meu, rodando as duas células abaixo"
   ]
  },
  {
   "cell_type": "code",
   "execution_count": null,
   "metadata": {},
   "outputs": [],
   "source": [
    "def compare_to_instructor(df):\n",
    "    size_not_found = len(df[df['region'] == 'not found'])\n",
    "    if size_not_found == 7163:\n",
    "        print('Exatamente igual ao da instrutora!')\n",
    "    elif size_not_found < 7163:\n",
    "        print('Parece que você encontrou ainda mais regiões!')\n",
    "    else:\n",
    "        print('Parece que você encontrou um pouco menos de regiões do que a instrutora. Se você quiser, pode olhar as dicas para tentar chegar ao mesmo resultado!')"
   ]
  },
  {
   "cell_type": "code",
   "execution_count": null,
   "metadata": {},
   "outputs": [],
   "source": [
    "compare_to_instructor(df)"
   ]
  },
  {
   "cell_type": "markdown",
   "metadata": {},
   "source": [
    "### Regiões com mais vinhos diferentes avaliados (Top 5)\n",
    "\n",
    "Imprima as regiões com com mais vinhos diferentes avaliados. Não queremos que a região `not found` apareça na lista, por isso, o primeiro passo será filtrar os registros de que não temos a região.\n",
    "\n",
    "Formate o resultado para imprimir, de forma que seja impressa, além da região (`region`), o `país` (`country`) e a quantidade de títulos (`title`) diferentes para cada uma das regiões encontradas."
   ]
  },
  {
   "cell_type": "code",
   "execution_count": null,
   "metadata": {},
   "outputs": [],
   "source": [
    "df_with_region = ###"
   ]
  },
  {
   "cell_type": "markdown",
   "metadata": {},
   "source": [
    "Uma maneira de descobrir essas regiões seria a partir do uso de dicionários e da nossa função que retorna os elementos mais frequentes de uma lista.\n",
    "\n",
    "Passo-a-passo:\n",
    "1. Remova do dataframe os títulos duplicados utilizando o método [drop_duplicates](https://pandas.pydata.org/pandas-docs/stable/generated/pandas.DataFrame.drop_duplicates.html)\n",
    "2. Crie um dicionário que tenha como chave a região e como valor o país (a ideia é que seja possível descobrir o país de uma região usando esse dicionário)\n",
    "3. Obtenha a lista de todas as regiões a partir da coluna `region`\n",
    "4. Obtenha a lista e contagem das regiões mais frequentes com a função `get_most_frequent`\n",
    "5. Formate o resultado (obtendo o país usando o dicionário criado no passo 1) para que possamos imprimir `região`, `país` e `contagem`"
   ]
  },
  {
   "cell_type": "code",
   "execution_count": null,
   "metadata": {},
   "outputs": [],
   "source": [
    "no_duplicated_titles_df = ###"
   ]
  },
  {
   "cell_type": "code",
   "execution_count": null,
   "metadata": {},
   "outputs": [],
   "source": [
    "region2country = ###"
   ]
  },
  {
   "cell_type": "code",
   "execution_count": null,
   "metadata": {},
   "outputs": [],
   "source": [
    "regions_list = ###\n",
    "regions_count = ###"
   ]
  },
  {
   "cell_type": "code",
   "execution_count": null,
   "metadata": {},
   "outputs": [],
   "source": [
    "regions_count"
   ]
  },
  {
   "cell_type": "markdown",
   "metadata": {},
   "source": [
    "Formate o resultado para exibir uma linha como:\n",
    "\n",
    "`Region: Napa Valley - Country: US: 3700`"
   ]
  },
  {
   "cell_type": "code",
   "execution_count": null,
   "metadata": {},
   "outputs": [],
   "source": [
    "for region, count in regions_count:\n",
    "    print(###)"
   ]
  },
  {
   "cell_type": "markdown",
   "metadata": {},
   "source": [
    "**Bônus do bônus:** Outra maneira de obter o mesmo resultado seria fazendo uma agregação no dataframe e selecionando a coluna `title` e contando os títulos distintos dela, de forma que o dataframe obtido seria:\n",
    "\n",
    "<img src=\"data/dataset_top5.jpeg\"/>\n",
    "\n",
    "Você consegue obter esse dataframe?"
   ]
  },
  {
   "cell_type": "code",
   "execution_count": null,
   "metadata": {},
   "outputs": [],
   "source": [
    "###"
   ]
  }
 ],
 "metadata": {
  "kernelspec": {
   "display_name": "Python 3",
   "language": "python",
   "name": "python3"
  },
  "language_info": {
   "codemirror_mode": {
    "name": "ipython",
    "version": 3
   },
   "file_extension": ".py",
   "mimetype": "text/x-python",
   "name": "python",
   "nbconvert_exporter": "python",
   "pygments_lexer": "ipython3",
   "version": "3.7.0"
  }
 },
 "nbformat": 4,
 "nbformat_minor": 2
}
