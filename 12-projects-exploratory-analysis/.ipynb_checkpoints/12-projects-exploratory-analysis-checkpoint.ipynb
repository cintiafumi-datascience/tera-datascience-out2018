{
 "cells": [
  {
   "cell_type": "markdown",
   "metadata": {},
   "source": [
    "# Challenge\n",
    "> Brazilian E-Commerce Public Dataset by Olist\n",
    "Welcome! This is a Brazilian ecommerce public dataset of orders made at Olist Store. The dataset has information of 100k orders from 2016 to 2018 made at multiple marketplaces in Brazil. Its 21 supportive features allows viewing an order from multiple dimensions: from order status, price and freight performance to customer location, product attributes and finally reviews written by customers.\n",
    "We also released a geolocation dataset that relates Brazilian zip codes to lat/lng coordinates and a dataset with the payment methods chosen at each order.\n",
    "This is real commercial data, it has been anonymised, and references to the companies and partners in the review text have been replaced with the names of Game of Thrones great houses.\n",
    "\n",
    "Link: https://www.kaggle.com/olistbr/brazilian-ecommerce/home"
   ]
  },
  {
   "cell_type": "code",
   "execution_count": 11,
   "metadata": {},
   "outputs": [
    {
     "name": "stdout",
     "output_type": "stream",
     "text": [
      "Requirement already satisfied: kaggle in /home/cintia/anaconda3/envs/tera-out2018/lib/python3.6/site-packages\n",
      "Requirement already satisfied: six>=1.10 in /home/cintia/.local/lib/python3.6/site-packages (from kaggle)\n",
      "Requirement already satisfied: python-dateutil in /home/cintia/.local/lib/python3.6/site-packages (from kaggle)\n",
      "Requirement already satisfied: urllib3<1.23.0,>=1.15 in /home/cintia/anaconda3/envs/tera-out2018/lib/python3.6/site-packages (from kaggle)\n",
      "Requirement already satisfied: requests in /home/cintia/anaconda3/envs/tera-out2018/lib/python3.6/site-packages (from kaggle)\n",
      "Requirement already satisfied: certifi in /home/cintia/anaconda3/envs/tera-out2018/lib/python3.6/site-packages (from kaggle)\n",
      "Requirement already satisfied: python-slugify in /home/cintia/anaconda3/envs/tera-out2018/lib/python3.6/site-packages (from kaggle)\n",
      "Requirement already satisfied: tqdm in /home/cintia/.local/lib/python3.6/site-packages (from kaggle)\n",
      "Requirement already satisfied: chardet<3.1.0,>=3.0.2 in /home/cintia/anaconda3/envs/tera-out2018/lib/python3.6/site-packages (from requests->kaggle)\n",
      "Requirement already satisfied: idna<2.7,>=2.5 in /home/cintia/anaconda3/envs/tera-out2018/lib/python3.6/site-packages (from requests->kaggle)\n",
      "Requirement already satisfied: Unidecode>=0.04.16 in /home/cintia/anaconda3/envs/tera-out2018/lib/python3.6/site-packages (from python-slugify->kaggle)\n",
      "\u001b[33mYou are using pip version 9.0.3, however version 18.1 is available.\n",
      "You should consider upgrading via the 'pip install --upgrade pip' command.\u001b[0m\n",
      "Warning: Your Kaggle API key is readable by otherusers on this system! To fix this, you can run'chmod 600 /home/cintia/.kaggle/kaggle.json'\n",
      "Downloading brazilian-ecommerce.zip to /home/cintia/workspace/tera-datascience-out2018/12-projects-exploratory-analysis\n",
      " 98%|█████████████████████████████████████▍| 30.0M/30.5M [00:05<00:00, 5.78MB/s]\n",
      "100%|██████████████████████████████████████| 30.5M/30.5M [00:05<00:00, 5.81MB/s]\n",
      "Warning: Your Kaggle API key is readable by otherusers on this system! To fix this, you can run'chmod 600 /home/cintia/.kaggle/kaggle.json'\n",
      "usage: kaggle datasets [-h]\n",
      "                       {list,files,download,create,version,init,metadata,status}\n",
      "                       ...\n",
      "kaggle datasets: error: argument command: invalid choice: '[-h]' (choose from 'list', 'files', 'download', 'create', 'version', 'init', 'metadata', 'status')\n"
     ]
    }
   ],
   "source": [
    "!pip install kaggle\n",
    "!kaggle datasets download -d olistbr/brazilian-ecommerce\n",
    "# export KAGGLE_USERNAME=tbuzze\n",
    "!export KAGGLE_KEY=b\n",
    "!kaggle datasets [-h]"
   ]
  },
  {
   "cell_type": "code",
   "execution_count": 3,
   "metadata": {},
   "outputs": [
    {
     "name": "stdout",
     "output_type": "stream",
     "text": [
      "Collecting zip\n",
      "  Downloading https://files.pythonhosted.org/packages/dd/31/1c0dc71cd947a5c48f18b0ff9d8fd3a0da0bad9fa63c36dfd9715676926d/zip-0.0.2.tar.gz\n",
      "Collecting Flask-Admin>=1.0.4 (from zip)\n",
      "  Downloading https://files.pythonhosted.org/packages/ef/2a/c3f081310e22443ee3bd69b09ee710d208285e4c4b44a5812fe2d8465a92/Flask-Admin-1.5.2.tar.gz (1.6MB)\n",
      "\u001b[K    100% |████████████████████████████████| 1.6MB 760kB/s ta 0:00:011\n",
      "\u001b[?25hCollecting Flask-Bootstrap>=2.2.2-1 (from zip)\n",
      "  Downloading https://files.pythonhosted.org/packages/88/53/958ce7c2aa26280b7fd7f3eecbf13053f1302ee2acb1db58ef32e1c23c2a/Flask-Bootstrap-3.3.7.1.tar.gz (456kB)\n",
      "\u001b[K    100% |████████████████████████████████| 460kB 2.0MB/s eta 0:00:01    65% |████████████████████▉           | 296kB 7.6MB/s eta 0:00:01\n",
      "\u001b[?25hCollecting Flask-Cache>=0.10.1 (from zip)\n",
      "  Downloading https://files.pythonhosted.org/packages/91/c4/f71095437bd4b691c63f240e72a20c57e2c216085cbc271f79665885d3da/Flask-Cache-0.13.1.tar.gz (45kB)\n",
      "\u001b[K    100% |████████████████████████████████| 51kB 11.2MB/s ta 0:00:01\n",
      "\u001b[?25hCollecting Flask-FlatPages>=0.3 (from zip)\n",
      "  Downloading https://files.pythonhosted.org/packages/90/e5/a5f0b2a64fcf34981ccc01f850a2dbb1f7950b7a976b28a932a4071edddb/Flask_FlatPages-0.7.0-py2.py3-none-any.whl\n",
      "Collecting Flask-Gravatar>=0.2.4 (from zip)\n",
      "  Downloading https://files.pythonhosted.org/packages/58/4a/b20260e8d383d0037f2791dd8a3f3ea729ca9f02d7638677a34a236a8702/Flask_Gravatar-0.5.0-py2.py3-none-any.whl\n",
      "Collecting Flask-Login>=0.1.3 (from zip)\n",
      "  Downloading https://files.pythonhosted.org/packages/c1/ff/bd9a4d2d81bf0c07d9e53e8cd3d675c56553719bbefd372df69bf1b3c1e4/Flask-Login-0.4.1.tar.gz\n",
      "Collecting Flask-Mail>=0.7.4 (from zip)\n",
      "  Downloading https://files.pythonhosted.org/packages/05/2f/6a545452040c2556559779db87148d2a85e78a26f90326647b51dc5e81e9/Flask-Mail-0.9.1.tar.gz (45kB)\n",
      "\u001b[K    100% |████████████████████████████████| 51kB 6.8MB/s eta 0:00:01\n",
      "\u001b[?25hCollecting Flask-PyMongo>=0.2.1 (from zip)\n",
      "  Downloading https://files.pythonhosted.org/packages/ce/67/1d9c6d6c713aa78f465bdfda071aef58cba26e3fbdb033c9c5b2f234fa38/Flask_PyMongo-2.1.0-py2.py3-none-any.whl\n",
      "Collecting Flask-Restless>=0.9.1 (from zip)\n",
      "  Downloading https://files.pythonhosted.org/packages/ae/ad/14eee74ef110f2bd8641de98675037f037dd06d614f7c435671be66a55c7/Flask-Restless-0.17.0.tar.gz (42kB)\n",
      "\u001b[K    100% |████████████████████████████████| 51kB 5.4MB/s eta 0:00:01\n",
      "\u001b[?25hCollecting Flask-SQLAlchemy>=0.16 (from zip)\n",
      "  Downloading https://files.pythonhosted.org/packages/a1/44/294fb7f6bf49cc7224417cd0637018db9fee0729b4fe166e43e2bbb1f1c8/Flask_SQLAlchemy-2.3.2-py2.py3-none-any.whl\n",
      "Collecting Flask-Themes>=0.1.3 (from zip)\n",
      "  Downloading https://files.pythonhosted.org/packages/1a/12/5be3cc2a56c63277177a7e3db4a8f346b9f68a6641277bb3029d401688e3/Flask-Themes-0.1.3.tar.gz\n",
      "Collecting Flask-Uploads>=0.1.3 (from zip)\n",
      "  Downloading https://files.pythonhosted.org/packages/c9/a8/2c8e9ec04267d94b7852a374cebeb9a32d60f8cba83818af960e64fafbec/Flask-Uploads-0.2.1.tar.gz\n",
      "Collecting Flask-WTF>=0.8.2 (from zip)\n",
      "  Downloading https://files.pythonhosted.org/packages/60/3a/58c629472d10539ae5167dc7c1fecfa95dd7d0b7864623931e3776438a24/Flask_WTF-0.14.2-py2.py3-none-any.whl\n",
      "Collecting Flask>=0.9 (from zip)\n",
      "  Downloading https://files.pythonhosted.org/packages/7f/e7/08578774ed4536d3242b14dacb4696386634607af824ea997202cd0edb4b/Flask-1.0.2-py2.py3-none-any.whl (91kB)\n",
      "\u001b[K    100% |████████████████████████████████| 92kB 4.2MB/s ta 0:00:011\n",
      "\u001b[?25hCollecting frozen-flask (from zip)\n",
      "  Downloading https://files.pythonhosted.org/packages/94/f7/d04d4ee76a9ceb4c1dc1846e86d8784b72e38179fd5f468b61e77bb52296/Frozen_Flask-0.15-py2.py3-none-any.whl\n",
      "Requirement already satisfied: Jinja2>=2.6 in /home/cintia/anaconda3/envs/tera-out2018/lib/python3.6/site-packages (from zip)\n",
      "Requirement already satisfied: Markdown>=2.2.1 in /home/cintia/anaconda3/envs/tera-out2018/lib/python3.6/site-packages (from zip)\n",
      "Requirement already satisfied: PyYAML>=3.11 in /home/cintia/.local/lib/python3.6/site-packages (from zip)\n",
      "Collecting SQLAlchemy>=0.8.0b2 (from zip)\n",
      "  Downloading https://files.pythonhosted.org/packages/25/c9/b0552098cee325425a61efdf380c51b5c721e459081c85bbb860f501c091/SQLAlchemy-1.2.12.tar.gz (5.6MB)\n",
      "\u001b[K    100% |████████████████████████████████| 5.6MB 229kB/s eta 0:00:01\n",
      "\u001b[?25hCollecting Sphinx>=1.3.1 (from zip)\n",
      "  Downloading https://files.pythonhosted.org/packages/35/e0/e9e83b244eaa382ba21896dda6172617e47aff0be225eb72782cca105d3c/Sphinx-1.8.1-py2.py3-none-any.whl (3.1MB)\n",
      "\u001b[K    100% |████████████████████████████████| 3.1MB 393kB/s ta 0:00:011    20% |██████▍                         | 624kB 6.4MB/s eta 0:00:01\n",
      "\u001b[?25hCollecting WTForms>=1.0.3 (from zip)\n",
      "  Downloading https://files.pythonhosted.org/packages/9f/c8/dac5dce9908df1d9d48ec0e26e2a250839fa36ea2c602cc4f85ccfeb5c65/WTForms-2.2.1-py2.py3-none-any.whl (166kB)\n",
      "\u001b[K    100% |████████████████████████████████| 174kB 5.1MB/s eta 0:00:01\n",
      "\u001b[?25hRequirement already satisfied: Werkzeug>=0.8.3 in /home/cintia/anaconda3/envs/tera-out2018/lib/python3.6/site-packages (from zip)\n",
      "Collecting argparse>=1.2.1 (from zip)\n",
      "  Downloading https://files.pythonhosted.org/packages/f2/94/3af39d34be01a24a6e65433d19e107099374224905f1e0cc6bbe1fd22a2f/argparse-1.4.0-py2.py3-none-any.whl\n",
      "Collecting blinker>=1.2 (from zip)\n",
      "  Downloading https://files.pythonhosted.org/packages/1b/51/e2a9f3b757eb802f61dc1f2b09c8c99f6eb01cf06416c0671253536517b6/blinker-1.4.tar.gz (111kB)\n",
      "\u001b[K    100% |████████████████████████████████| 112kB 4.0MB/s ta 0:00:01\n",
      "\u001b[?25hCollecting bumpversion>=0.5.3 (from zip)\n",
      "  Downloading https://files.pythonhosted.org/packages/ad/34/49c914829066558ebd405a56647d3ee26856282b8b8c4cd2c0c8de40ff8e/bumpversion-0.5.3-py2.py3-none-any.whl\n",
      "Requirement already satisfied: click>=6.3 in /home/cintia/.local/lib/python3.6/site-packages (from zip)\n",
      "Collecting colorama>=0.3.7 (from zip)\n",
      "  Downloading https://files.pythonhosted.org/packages/0a/93/6e8289231675d561d476d656c2ee3a868c1cca207e16c118d4503b25e2bf/colorama-0.4.0-py2.py3-none-any.whl\n",
      "Collecting coverage>=4.0 (from zip)\n",
      "  Downloading https://files.pythonhosted.org/packages/3d/a0/b12090c40e0b8196b973962ec71c1c541a6c04af58ba5ad85683b3de251a/coverage-4.5.1-cp36-cp36m-manylinux1_x86_64.whl (202kB)\n",
      "\u001b[K    100% |████████████████████████████████| 204kB 4.1MB/s ta 0:00:011\n",
      "\u001b[?25hRequirement already satisfied: cryptography>=1.0.1 in /home/cintia/anaconda3/envs/tera-out2018/lib/python3.6/site-packages (from zip)\n",
      "Collecting flake8>=2.4.1 (from zip)\n",
      "  Downloading https://files.pythonhosted.org/packages/34/a6/49e2849a0e5464e1b5d621f63bc8453066f0f367bb3b744a33fca0bc1ddd/flake8-3.6.0-py2.py3-none-any.whl (68kB)\n",
      "\u001b[K    100% |████████████████████████████████| 71kB 7.9MB/s eta 0:00:01\n",
      "\u001b[?25hCollecting networkx>=1.11 (from zip)\n",
      "  Downloading https://files.pythonhosted.org/packages/f3/f4/7e20ef40b118478191cec0b58c3192f822cace858c19505c7670961b76b2/networkx-2.2.zip (1.7MB)\n",
      "\u001b[K    100% |████████████████████████████████| 1.7MB 689kB/s ta 0:00:011\n",
      "\u001b[?25hCollecting pymongo>=2.5.1 (from zip)\n",
      "  Downloading https://files.pythonhosted.org/packages/b1/45/5440555b901a8416196fbf2499c4678ef74de8080c007104107a8cfdda20/pymongo-3.7.2-cp36-cp36m-manylinux1_x86_64.whl (408kB)\n",
      "\u001b[K    100% |████████████████████████████████| 409kB 1.6MB/s ta 0:00:011\n",
      "\u001b[?25hCollecting pytest>=2.8.3 (from zip)\n",
      "  Downloading https://files.pythonhosted.org/packages/02/75/d041ed00994fbac4c5183e6f4bf6c906506bef8da7a57ef3fc825f171020/pytest-3.9.3-py2.py3-none-any.whl (214kB)\n",
      "\u001b[K    100% |████████████████████████████████| 215kB 3.4MB/s eta 0:00:01\n",
      "\u001b[?25hRequirement already satisfied: python-dateutil>=1.5 in /home/cintia/.local/lib/python3.6/site-packages (from zip)\n",
      "Requirement already satisfied: six>=1.10.0 in /home/cintia/.local/lib/python3.6/site-packages (from zip)\n",
      "Collecting tox>=2.1.1 (from zip)\n",
      "  Downloading https://files.pythonhosted.org/packages/8f/c3/64bade66e6188a0dc02689392d5c782a9eb6648b54ddc2db034aa495b6a2/tox-3.5.2-py2.py3-none-any.whl (52kB)\n",
      "\u001b[K    100% |████████████████████████████████| 61kB 7.0MB/s eta 0:00:01\n",
      "\u001b[?25hCollecting watchdog>=0.8.3 (from zip)\n",
      "  Downloading https://files.pythonhosted.org/packages/bb/e3/5a55d48a29300160779f0a0d2776d17c1b762a2039b36de528b093b87d5b/watchdog-0.9.0.tar.gz (85kB)\n"
     ]
    },
    {
     "name": "stdout",
     "output_type": "stream",
     "text": [
      "\u001b[K    100% |████████████████████████████████| 92kB 5.0MB/s ta 0:00:011\n",
      "\u001b[?25hRequirement already satisfied: wheel>=0.23.0 in /home/cintia/anaconda3/envs/tera-out2018/lib/python3.6/site-packages (from zip)\n",
      "Collecting wsgiref>=0.1.2 (from zip)\n",
      "  Downloading https://files.pythonhosted.org/packages/41/9e/309259ce8dff8c596e8c26df86dbc4e848b9249fd36797fd60be456f03fc/wsgiref-0.1.2.zip\n",
      "    Complete output from command python setup.py egg_info:\n",
      "    Traceback (most recent call last):\n",
      "      File \"<string>\", line 1, in <module>\n",
      "      File \"/tmp/pip-build-3754uw5c/wsgiref/setup.py\", line 5, in <module>\n",
      "        import ez_setup\n",
      "      File \"/tmp/pip-build-3754uw5c/wsgiref/ez_setup/__init__.py\", line 170\n",
      "        print \"Setuptools version\",version,\"or greater has been installed.\"\n",
      "                                 ^\n",
      "    SyntaxError: Missing parentheses in call to 'print'. Did you mean print(\"Setuptools version\",version,\"or greater has been installed.\")?\n",
      "    \n",
      "    ----------------------------------------\n",
      "\u001b[31mCommand \"python setup.py egg_info\" failed with error code 1 in /tmp/pip-build-3754uw5c/wsgiref/\u001b[0m\n",
      "\u001b[33mYou are using pip version 9.0.3, however version 18.1 is available.\n",
      "You should consider upgrading via the 'pip install --upgrade pip' command.\u001b[0m\n"
     ]
    }
   ],
   "source": [
    "!pip install zip"
   ]
  },
  {
   "cell_type": "code",
   "execution_count": 7,
   "metadata": {},
   "outputs": [],
   "source": [
    "#-- importando biblioteca para leitura do arquivo zip\n",
    "import zipfile"
   ]
  },
  {
   "cell_type": "code",
   "execution_count": 8,
   "metadata": {},
   "outputs": [],
   "source": [
    "#!pip install os-win"
   ]
  },
  {
   "cell_type": "code",
   "execution_count": 9,
   "metadata": {},
   "outputs": [
    {
     "data": {
      "text/plain": [
       "['Img',\n",
       " '.ipynb_checkpoints',\n",
       " '12-projects-exploratory-analysis.ipynb',\n",
       " 'kaggle.json',\n",
       " 'README.md']"
      ]
     },
     "execution_count": 9,
     "metadata": {},
     "output_type": "execute_result"
    }
   ],
   "source": [
    "#-- verificando os arquivocs que foram extraídos do zip\n",
    "import os\n",
    "arr = os.listdir()\n",
    "arr"
   ]
  },
  {
   "cell_type": "code",
   "execution_count": 10,
   "metadata": {},
   "outputs": [
    {
     "ename": "FileNotFoundError",
     "evalue": "[Errno 2] No such file or directory: 'brazilian-ecommerce.zip'",
     "output_type": "error",
     "traceback": [
      "\u001b[0;31m---------------------------------------------------------------------------\u001b[0m",
      "\u001b[0;31mFileNotFoundError\u001b[0m                         Traceback (most recent call last)",
      "\u001b[0;32m<ipython-input-10-f94621f1d737>\u001b[0m in \u001b[0;36m<module>\u001b[0;34m\u001b[0m\n\u001b[1;32m      1\u001b[0m \u001b[0;31m#-- extraindo os arquivos do arquivo zip\u001b[0m\u001b[0;34m\u001b[0m\u001b[0;34m\u001b[0m\u001b[0m\n\u001b[0;32m----> 2\u001b[0;31m \u001b[0;32mwith\u001b[0m \u001b[0mzipfile\u001b[0m\u001b[0;34m.\u001b[0m\u001b[0mZipFile\u001b[0m\u001b[0;34m(\u001b[0m\u001b[0;34m'brazilian-ecommerce.zip'\u001b[0m\u001b[0;34m,\u001b[0m \u001b[0;34m'r'\u001b[0m\u001b[0;34m)\u001b[0m \u001b[0;32mas\u001b[0m \u001b[0mmyzip\u001b[0m\u001b[0;34m:\u001b[0m\u001b[0;34m\u001b[0m\u001b[0m\n\u001b[0m\u001b[1;32m      3\u001b[0m     \u001b[0mmyzip\u001b[0m\u001b[0;34m.\u001b[0m\u001b[0mextractall\u001b[0m\u001b[0;34m(\u001b[0m\u001b[0;34m)\u001b[0m\u001b[0;34m\u001b[0m\u001b[0m\n",
      "\u001b[0;32m~/anaconda3/envs/tera-out2018/lib/python3.6/zipfile.py\u001b[0m in \u001b[0;36m__init__\u001b[0;34m(self, file, mode, compression, allowZip64)\u001b[0m\n\u001b[1;32m   1088\u001b[0m             \u001b[0;32mwhile\u001b[0m \u001b[0;32mTrue\u001b[0m\u001b[0;34m:\u001b[0m\u001b[0;34m\u001b[0m\u001b[0m\n\u001b[1;32m   1089\u001b[0m                 \u001b[0;32mtry\u001b[0m\u001b[0;34m:\u001b[0m\u001b[0;34m\u001b[0m\u001b[0m\n\u001b[0;32m-> 1090\u001b[0;31m                     \u001b[0mself\u001b[0m\u001b[0;34m.\u001b[0m\u001b[0mfp\u001b[0m \u001b[0;34m=\u001b[0m \u001b[0mio\u001b[0m\u001b[0;34m.\u001b[0m\u001b[0mopen\u001b[0m\u001b[0;34m(\u001b[0m\u001b[0mfile\u001b[0m\u001b[0;34m,\u001b[0m \u001b[0mfilemode\u001b[0m\u001b[0;34m)\u001b[0m\u001b[0;34m\u001b[0m\u001b[0m\n\u001b[0m\u001b[1;32m   1091\u001b[0m                 \u001b[0;32mexcept\u001b[0m \u001b[0mOSError\u001b[0m\u001b[0;34m:\u001b[0m\u001b[0;34m\u001b[0m\u001b[0m\n\u001b[1;32m   1092\u001b[0m                     \u001b[0;32mif\u001b[0m \u001b[0mfilemode\u001b[0m \u001b[0;32min\u001b[0m \u001b[0mmodeDict\u001b[0m\u001b[0;34m:\u001b[0m\u001b[0;34m\u001b[0m\u001b[0m\n",
      "\u001b[0;31mFileNotFoundError\u001b[0m: [Errno 2] No such file or directory: 'brazilian-ecommerce.zip'"
     ]
    }
   ],
   "source": [
    "#-- extraindo os arquivos do arquivo zip\n",
    "with zipfile.ZipFile('brazilian-ecommerce.zip', 'r') as myzip:\n",
    "    myzip.extractall()"
   ]
  },
  {
   "cell_type": "code",
   "execution_count": 12,
   "metadata": {},
   "outputs": [
    {
     "data": {
      "text/plain": [
       "['product_category_name_translation.csv',\n",
       " 'olist_classified_public_dataset.csv',\n",
       " 'brazilian-ecommerce.zip',\n",
       " 'product_measures_olist_public_dataset_.csv',\n",
       " 'Img',\n",
       " 'geolocation_olist_public_dataset.csv',\n",
       " 'payments_olist_public_dataset.csv',\n",
       " '.ipynb_checkpoints',\n",
       " '12-projects-exploratory-analysis.ipynb',\n",
       " 'olist_public_dataset_v2_customers.csv',\n",
       " 'kaggle.json',\n",
       " 'olist_public_dataset_v2.csv',\n",
       " 'README.md',\n",
       " 'sellers_olist_public_dataset_.csv']"
      ]
     },
     "execution_count": 12,
     "metadata": {},
     "output_type": "execute_result"
    }
   ],
   "source": [
    "#-- verificando os arquivocs que foram extraídos do zip\n",
    "arr = os.listdir()\n",
    "arr"
   ]
  },
  {
   "cell_type": "markdown",
   "metadata": {},
   "source": [
    "# 1- Carregar as Bibliotecas\n",
    "\n",
    "> Numpy, pandas, plotly, matplotlib..."
   ]
  },
  {
   "cell_type": "code",
   "execution_count": 13,
   "metadata": {},
   "outputs": [],
   "source": [
    "import numpy as np\n",
    "import pandas as pd\n",
    "import plotly\n",
    "import matplotlib.pyplot as plt"
   ]
  },
  {
   "cell_type": "markdown",
   "metadata": {},
   "source": [
    "# 2- Verificar e Interpretar as variáveis\n",
    "\n",
    "> Head, dtypes, describe...\n",
    "\n",
    "<br>\n",
    "<center>\n",
    "<img src=\"https://media1.tenor.com/images/e4848131a1af20a7e1de5e0443afe472/tenor.gif?itemid=4960555\" alt=\"drawing\" width=\"500px\"></center>\n"
   ]
  },
  {
   "cell_type": "code",
   "execution_count": 17,
   "metadata": {},
   "outputs": [
    {
     "data": {
      "text/html": [
       "<div>\n",
       "<style scoped>\n",
       "    .dataframe tbody tr th:only-of-type {\n",
       "        vertical-align: middle;\n",
       "    }\n",
       "\n",
       "    .dataframe tbody tr th {\n",
       "        vertical-align: top;\n",
       "    }\n",
       "\n",
       "    .dataframe thead th {\n",
       "        text-align: right;\n",
       "    }\n",
       "</style>\n",
       "<table border=\"1\" class=\"dataframe\">\n",
       "  <thead>\n",
       "    <tr style=\"text-align: right;\">\n",
       "      <th></th>\n",
       "      <th>zip_code_prefix</th>\n",
       "      <th>city</th>\n",
       "      <th>state</th>\n",
       "      <th>lat</th>\n",
       "      <th>lng</th>\n",
       "    </tr>\n",
       "  </thead>\n",
       "  <tbody>\n",
       "    <tr>\n",
       "      <th>0</th>\n",
       "      <td>10</td>\n",
       "      <td>sao paulo</td>\n",
       "      <td>sp</td>\n",
       "      <td>-23.547807</td>\n",
       "      <td>-46.636122</td>\n",
       "    </tr>\n",
       "    <tr>\n",
       "      <th>1</th>\n",
       "      <td>10</td>\n",
       "      <td>sao paulo</td>\n",
       "      <td>sp</td>\n",
       "      <td>-23.546081</td>\n",
       "      <td>-46.644820</td>\n",
       "    </tr>\n",
       "    <tr>\n",
       "      <th>2</th>\n",
       "      <td>10</td>\n",
       "      <td>sao paulo</td>\n",
       "      <td>sp</td>\n",
       "      <td>-23.540984</td>\n",
       "      <td>-46.642569</td>\n",
       "    </tr>\n",
       "    <tr>\n",
       "      <th>3</th>\n",
       "      <td>10</td>\n",
       "      <td>sao paulo</td>\n",
       "      <td>sp</td>\n",
       "      <td>-23.546758</td>\n",
       "      <td>-46.645771</td>\n",
       "    </tr>\n",
       "    <tr>\n",
       "      <th>4</th>\n",
       "      <td>10</td>\n",
       "      <td>sao paulo</td>\n",
       "      <td>sp</td>\n",
       "      <td>-23.546362</td>\n",
       "      <td>-46.643073</td>\n",
       "    </tr>\n",
       "  </tbody>\n",
       "</table>\n",
       "</div>"
      ],
      "text/plain": [
       "   zip_code_prefix       city state        lat        lng\n",
       "0               10  sao paulo    sp -23.547807 -46.636122\n",
       "1               10  sao paulo    sp -23.546081 -46.644820\n",
       "2               10  sao paulo    sp -23.540984 -46.642569\n",
       "3               10  sao paulo    sp -23.546758 -46.645771\n",
       "4               10  sao paulo    sp -23.546362 -46.643073"
      ]
     },
     "execution_count": 17,
     "metadata": {},
     "output_type": "execute_result"
    }
   ],
   "source": [
    "geo = pd.read_csv('geolocation_olist_public_dataset.csv')\n",
    "geo.head()"
   ]
  },
  {
   "cell_type": "code",
   "execution_count": 19,
   "metadata": {},
   "outputs": [
    {
     "data": {
      "text/plain": [
       "(323016, 5)"
      ]
     },
     "execution_count": 19,
     "metadata": {},
     "output_type": "execute_result"
    }
   ],
   "source": [
    "geo.shape"
   ]
  },
  {
   "cell_type": "code",
   "execution_count": 18,
   "metadata": {},
   "outputs": [
    {
     "data": {
      "text/html": [
       "<div>\n",
       "<style scoped>\n",
       "    .dataframe tbody tr th:only-of-type {\n",
       "        vertical-align: middle;\n",
       "    }\n",
       "\n",
       "    .dataframe tbody tr th {\n",
       "        vertical-align: top;\n",
       "    }\n",
       "\n",
       "    .dataframe thead th {\n",
       "        text-align: right;\n",
       "    }\n",
       "</style>\n",
       "<table border=\"1\" class=\"dataframe\">\n",
       "  <thead>\n",
       "    <tr style=\"text-align: right;\">\n",
       "      <th></th>\n",
       "      <th>Unnamed: 0</th>\n",
       "      <th>id</th>\n",
       "      <th>order_status</th>\n",
       "      <th>order_products_value</th>\n",
       "      <th>order_freight_value</th>\n",
       "      <th>order_items_qty</th>\n",
       "      <th>order_sellers_qty</th>\n",
       "      <th>order_purchase_timestamp</th>\n",
       "      <th>order_aproved_at</th>\n",
       "      <th>order_estimated_delivery_date</th>\n",
       "      <th>...</th>\n",
       "      <th>votes_delayed</th>\n",
       "      <th>votes_low_quality</th>\n",
       "      <th>votes_return</th>\n",
       "      <th>votes_not_as_anounced</th>\n",
       "      <th>votes_partial_delivery</th>\n",
       "      <th>votes_other_delivery</th>\n",
       "      <th>votes_other_order</th>\n",
       "      <th>votes_satisfied</th>\n",
       "      <th>most_voted_subclass</th>\n",
       "      <th>most_voted_class</th>\n",
       "    </tr>\n",
       "  </thead>\n",
       "  <tbody>\n",
       "    <tr>\n",
       "      <th>0</th>\n",
       "      <td>0</td>\n",
       "      <td>1</td>\n",
       "      <td>delivered</td>\n",
       "      <td>89.99</td>\n",
       "      <td>14.38</td>\n",
       "      <td>1</td>\n",
       "      <td>1</td>\n",
       "      <td>2017-08-30 11:41:01.000000</td>\n",
       "      <td>2017-08-30 11:55:08.970352</td>\n",
       "      <td>2017-09-21 00:00:00.000000</td>\n",
       "      <td>...</td>\n",
       "      <td>0</td>\n",
       "      <td>0</td>\n",
       "      <td>0</td>\n",
       "      <td>0</td>\n",
       "      <td>0</td>\n",
       "      <td>0</td>\n",
       "      <td>0</td>\n",
       "      <td>3</td>\n",
       "      <td>satisfeito</td>\n",
       "      <td>satisfeito_com_pedido</td>\n",
       "    </tr>\n",
       "    <tr>\n",
       "      <th>1</th>\n",
       "      <td>1</td>\n",
       "      <td>2</td>\n",
       "      <td>delivered</td>\n",
       "      <td>69.00</td>\n",
       "      <td>15.23</td>\n",
       "      <td>1</td>\n",
       "      <td>1</td>\n",
       "      <td>2017-09-26 09:13:36.000000</td>\n",
       "      <td>2017-09-26 09:28:10.922048</td>\n",
       "      <td>2017-10-24 00:00:00.000000</td>\n",
       "      <td>...</td>\n",
       "      <td>0</td>\n",
       "      <td>0</td>\n",
       "      <td>0</td>\n",
       "      <td>0</td>\n",
       "      <td>0</td>\n",
       "      <td>0</td>\n",
       "      <td>0</td>\n",
       "      <td>0</td>\n",
       "      <td>antes_prazo</td>\n",
       "      <td>satisfeito_com_pedido</td>\n",
       "    </tr>\n",
       "    <tr>\n",
       "      <th>2</th>\n",
       "      <td>2</td>\n",
       "      <td>3</td>\n",
       "      <td>delivered</td>\n",
       "      <td>99.80</td>\n",
       "      <td>15.86</td>\n",
       "      <td>2</td>\n",
       "      <td>4</td>\n",
       "      <td>2018-01-15 15:50:42.000000</td>\n",
       "      <td>2018-01-17 07:29:56.419769</td>\n",
       "      <td>2018-02-05 00:00:00.000000</td>\n",
       "      <td>...</td>\n",
       "      <td>0</td>\n",
       "      <td>0</td>\n",
       "      <td>0</td>\n",
       "      <td>0</td>\n",
       "      <td>3</td>\n",
       "      <td>0</td>\n",
       "      <td>0</td>\n",
       "      <td>0</td>\n",
       "      <td>entrega_parcial</td>\n",
       "      <td>problemas_de_entrega</td>\n",
       "    </tr>\n",
       "    <tr>\n",
       "      <th>3</th>\n",
       "      <td>3</td>\n",
       "      <td>4</td>\n",
       "      <td>delivered</td>\n",
       "      <td>87.00</td>\n",
       "      <td>12.74</td>\n",
       "      <td>1</td>\n",
       "      <td>1</td>\n",
       "      <td>2018-02-04 11:16:42.000000</td>\n",
       "      <td>2018-02-06 05:31:50.990164</td>\n",
       "      <td>2018-03-13 00:00:00.000000</td>\n",
       "      <td>...</td>\n",
       "      <td>3</td>\n",
       "      <td>0</td>\n",
       "      <td>0</td>\n",
       "      <td>0</td>\n",
       "      <td>0</td>\n",
       "      <td>0</td>\n",
       "      <td>0</td>\n",
       "      <td>0</td>\n",
       "      <td>atrasado</td>\n",
       "      <td>problemas_de_entrega</td>\n",
       "    </tr>\n",
       "    <tr>\n",
       "      <th>4</th>\n",
       "      <td>4</td>\n",
       "      <td>5</td>\n",
       "      <td>delivered</td>\n",
       "      <td>99.90</td>\n",
       "      <td>17.95</td>\n",
       "      <td>1</td>\n",
       "      <td>2</td>\n",
       "      <td>2017-12-07 11:58:42.000000</td>\n",
       "      <td>2017-12-08 02:36:49.587515</td>\n",
       "      <td>2018-01-03 00:00:00.000000</td>\n",
       "      <td>...</td>\n",
       "      <td>0</td>\n",
       "      <td>0</td>\n",
       "      <td>0</td>\n",
       "      <td>0</td>\n",
       "      <td>3</td>\n",
       "      <td>0</td>\n",
       "      <td>0</td>\n",
       "      <td>0</td>\n",
       "      <td>entrega_parcial</td>\n",
       "      <td>problemas_de_entrega</td>\n",
       "    </tr>\n",
       "  </tbody>\n",
       "</table>\n",
       "<p>5 rows × 34 columns</p>\n",
       "</div>"
      ],
      "text/plain": [
       "   Unnamed: 0  id order_status  order_products_value  order_freight_value  \\\n",
       "0           0   1    delivered                 89.99                14.38   \n",
       "1           1   2    delivered                 69.00                15.23   \n",
       "2           2   3    delivered                 99.80                15.86   \n",
       "3           3   4    delivered                 87.00                12.74   \n",
       "4           4   5    delivered                 99.90                17.95   \n",
       "\n",
       "   order_items_qty  order_sellers_qty    order_purchase_timestamp  \\\n",
       "0                1                  1  2017-08-30 11:41:01.000000   \n",
       "1                1                  1  2017-09-26 09:13:36.000000   \n",
       "2                2                  4  2018-01-15 15:50:42.000000   \n",
       "3                1                  1  2018-02-04 11:16:42.000000   \n",
       "4                1                  2  2017-12-07 11:58:42.000000   \n",
       "\n",
       "             order_aproved_at order_estimated_delivery_date  \\\n",
       "0  2017-08-30 11:55:08.970352    2017-09-21 00:00:00.000000   \n",
       "1  2017-09-26 09:28:10.922048    2017-10-24 00:00:00.000000   \n",
       "2  2018-01-17 07:29:56.419769    2018-02-05 00:00:00.000000   \n",
       "3  2018-02-06 05:31:50.990164    2018-03-13 00:00:00.000000   \n",
       "4  2017-12-08 02:36:49.587515    2018-01-03 00:00:00.000000   \n",
       "\n",
       "           ...           votes_delayed votes_low_quality votes_return  \\\n",
       "0          ...                       0                 0            0   \n",
       "1          ...                       0                 0            0   \n",
       "2          ...                       0                 0            0   \n",
       "3          ...                       3                 0            0   \n",
       "4          ...                       0                 0            0   \n",
       "\n",
       "   votes_not_as_anounced votes_partial_delivery  votes_other_delivery  \\\n",
       "0                      0                      0                     0   \n",
       "1                      0                      0                     0   \n",
       "2                      0                      3                     0   \n",
       "3                      0                      0                     0   \n",
       "4                      0                      3                     0   \n",
       "\n",
       "   votes_other_order  votes_satisfied  most_voted_subclass  \\\n",
       "0                  0                3           satisfeito   \n",
       "1                  0                0          antes_prazo   \n",
       "2                  0                0      entrega_parcial   \n",
       "3                  0                0             atrasado   \n",
       "4                  0                0      entrega_parcial   \n",
       "\n",
       "        most_voted_class  \n",
       "0  satisfeito_com_pedido  \n",
       "1  satisfeito_com_pedido  \n",
       "2   problemas_de_entrega  \n",
       "3   problemas_de_entrega  \n",
       "4   problemas_de_entrega  \n",
       "\n",
       "[5 rows x 34 columns]"
      ]
     },
     "execution_count": 18,
     "metadata": {},
     "output_type": "execute_result"
    }
   ],
   "source": [
    "classpublic = pd.read_csv('olist_classified_public_dataset.csv')\n",
    "classpublic.head()"
   ]
  },
  {
   "cell_type": "code",
   "execution_count": 20,
   "metadata": {},
   "outputs": [
    {
     "data": {
      "text/plain": [
       "(3584, 34)"
      ]
     },
     "execution_count": 20,
     "metadata": {},
     "output_type": "execute_result"
    }
   ],
   "source": [
    "classpublic.shape"
   ]
  },
  {
   "cell_type": "code",
   "execution_count": 21,
   "metadata": {},
   "outputs": [
    {
     "data": {
      "text/html": [
       "<div>\n",
       "<style scoped>\n",
       "    .dataframe tbody tr th:only-of-type {\n",
       "        vertical-align: middle;\n",
       "    }\n",
       "\n",
       "    .dataframe tbody tr th {\n",
       "        vertical-align: top;\n",
       "    }\n",
       "\n",
       "    .dataframe thead th {\n",
       "        text-align: right;\n",
       "    }\n",
       "</style>\n",
       "<table border=\"1\" class=\"dataframe\">\n",
       "  <thead>\n",
       "    <tr style=\"text-align: right;\">\n",
       "      <th></th>\n",
       "      <th>order_id</th>\n",
       "      <th>product_id</th>\n",
       "      <th>seller_id</th>\n",
       "      <th>seller_zip_code_prefix</th>\n",
       "      <th>seller_city</th>\n",
       "      <th>seller_state</th>\n",
       "    </tr>\n",
       "  </thead>\n",
       "  <tbody>\n",
       "    <tr>\n",
       "      <th>0</th>\n",
       "      <td>0faabac07131235fc5d9d711471cb4db</td>\n",
       "      <td>40b09f33e646d488df2ca6fec4082d50</td>\n",
       "      <td>3d871de0142ce09b7081e2b9d1733cb1</td>\n",
       "      <td>132</td>\n",
       "      <td>campo limpo paulista</td>\n",
       "      <td>SP</td>\n",
       "    </tr>\n",
       "    <tr>\n",
       "      <th>1</th>\n",
       "      <td>970f41d57d6e21afa7b8c701b09acb95</td>\n",
       "      <td>d1c427060a0f73f6b889a5c7c61f2ac4</td>\n",
       "      <td>a1043bafd471dff536d0c462352beb48</td>\n",
       "      <td>371</td>\n",
       "      <td>ilicinea</td>\n",
       "      <td>MG</td>\n",
       "    </tr>\n",
       "    <tr>\n",
       "      <th>2</th>\n",
       "      <td>b674ed44cc3f6a869249421debebe104</td>\n",
       "      <td>bd7cd34fc6d02e730221b11edc354aae</td>\n",
       "      <td>46dc3b2cc0980fb8ec44634e21d2718e</td>\n",
       "      <td>222</td>\n",
       "      <td>rio de janeiro</td>\n",
       "      <td>RJ</td>\n",
       "    </tr>\n",
       "    <tr>\n",
       "      <th>3</th>\n",
       "      <td>cbe9eae36605cf2bd005c6bc1ae5f864</td>\n",
       "      <td>0e95d6eef2bedaf4ecf3c33f78199059</td>\n",
       "      <td>dc4a0fc896dc34b0d5bfec8438291c80</td>\n",
       "      <td>149</td>\n",
       "      <td>ibitinga</td>\n",
       "      <td>SP</td>\n",
       "    </tr>\n",
       "    <tr>\n",
       "      <th>4</th>\n",
       "      <td>f562f8a4adf5a459176f7170d0da220d</td>\n",
       "      <td>9a3a44b7cc16f2592b2110e4205edf97</td>\n",
       "      <td>5a8e7d5003a1f221f9e1d6e411de7c23</td>\n",
       "      <td>130</td>\n",
       "      <td>campinas</td>\n",
       "      <td>SP</td>\n",
       "    </tr>\n",
       "  </tbody>\n",
       "</table>\n",
       "</div>"
      ],
      "text/plain": [
       "                           order_id                        product_id  \\\n",
       "0  0faabac07131235fc5d9d711471cb4db  40b09f33e646d488df2ca6fec4082d50   \n",
       "1  970f41d57d6e21afa7b8c701b09acb95  d1c427060a0f73f6b889a5c7c61f2ac4   \n",
       "2  b674ed44cc3f6a869249421debebe104  bd7cd34fc6d02e730221b11edc354aae   \n",
       "3  cbe9eae36605cf2bd005c6bc1ae5f864  0e95d6eef2bedaf4ecf3c33f78199059   \n",
       "4  f562f8a4adf5a459176f7170d0da220d  9a3a44b7cc16f2592b2110e4205edf97   \n",
       "\n",
       "                          seller_id  seller_zip_code_prefix  \\\n",
       "0  3d871de0142ce09b7081e2b9d1733cb1                     132   \n",
       "1  a1043bafd471dff536d0c462352beb48                     371   \n",
       "2  46dc3b2cc0980fb8ec44634e21d2718e                     222   \n",
       "3  dc4a0fc896dc34b0d5bfec8438291c80                     149   \n",
       "4  5a8e7d5003a1f221f9e1d6e411de7c23                     130   \n",
       "\n",
       "            seller_city seller_state  \n",
       "0  campo limpo paulista           SP  \n",
       "1              ilicinea           MG  \n",
       "2        rio de janeiro           RJ  \n",
       "3              ibitinga           SP  \n",
       "4              campinas           SP  "
      ]
     },
     "execution_count": 21,
     "metadata": {},
     "output_type": "execute_result"
    }
   ],
   "source": [
    "seller = pd.read_csv('sellers_olist_public_dataset_.csv')\n",
    "seller.head()"
   ]
  },
  {
   "cell_type": "code",
   "execution_count": 22,
   "metadata": {},
   "outputs": [
    {
     "data": {
      "text/plain": [
       "(98981, 6)"
      ]
     },
     "execution_count": 22,
     "metadata": {},
     "output_type": "execute_result"
    }
   ],
   "source": [
    "seller.shape"
   ]
  },
  {
   "cell_type": "code",
   "execution_count": null,
   "metadata": {},
   "outputs": [],
   "source": []
  },
  {
   "cell_type": "markdown",
   "metadata": {},
   "source": [
    "# 3- Definir a Hipótese\n",
    "\n",
    "![Explo](img/what-if.jpg \"Variables specification\")"
   ]
  },
  {
   "cell_type": "code",
   "execution_count": null,
   "metadata": {},
   "outputs": [],
   "source": []
  },
  {
   "cell_type": "code",
   "execution_count": null,
   "metadata": {},
   "outputs": [],
   "source": []
  },
  {
   "cell_type": "code",
   "execution_count": null,
   "metadata": {},
   "outputs": [],
   "source": []
  },
  {
   "cell_type": "markdown",
   "metadata": {},
   "source": [
    "# 4- Corrigir os ruídos e Organizar o Dataset\n",
    "\n",
    "> Drop, fillna, NumericalFeaturesImputer...\n",
    "\n",
    "<br>\n",
    "<center>\n",
    "<img src=\"http://media.tumblr.com/tumblr_medmv9n8JL1ro2d43.gif\" alt=\"drawing\" width=\"500px\"></center>"
   ]
  },
  {
   "cell_type": "code",
   "execution_count": null,
   "metadata": {},
   "outputs": [],
   "source": []
  },
  {
   "cell_type": "code",
   "execution_count": null,
   "metadata": {},
   "outputs": [],
   "source": []
  },
  {
   "cell_type": "code",
   "execution_count": null,
   "metadata": {},
   "outputs": [],
   "source": []
  },
  {
   "cell_type": "code",
   "execution_count": null,
   "metadata": {},
   "outputs": [],
   "source": []
  },
  {
   "cell_type": "markdown",
   "metadata": {},
   "source": [
    "# 5- Avaliar a Hipótese\n",
    "\n",
    "> Gráficos ou testes de hipóteses\n",
    "\n",
    "<br>\n",
    "<center>\n",
    "<img src=\"https://media1.tenor.com/images/c109257362ef9924a11c64fd1b051f43/tenor.gif?itemid=5205898\" alt=\"drawing\" width=\"500px\"></center>"
   ]
  },
  {
   "cell_type": "code",
   "execution_count": null,
   "metadata": {},
   "outputs": [],
   "source": []
  },
  {
   "cell_type": "code",
   "execution_count": null,
   "metadata": {},
   "outputs": [],
   "source": []
  },
  {
   "cell_type": "code",
   "execution_count": null,
   "metadata": {},
   "outputs": [],
   "source": []
  },
  {
   "cell_type": "code",
   "execution_count": null,
   "metadata": {},
   "outputs": [],
   "source": []
  },
  {
   "cell_type": "markdown",
   "metadata": {},
   "source": [
    "# 6- Preparar e Apresentar os Resultados\n",
    "\n",
    "<br>\n",
    "<center>\n",
    "<img src=\"https://i.imgur.com/CKyA2sd.gif\" alt=\"drawing\" width=\"500px\"></center>"
   ]
  },
  {
   "cell_type": "code",
   "execution_count": null,
   "metadata": {},
   "outputs": [],
   "source": []
  },
  {
   "cell_type": "code",
   "execution_count": null,
   "metadata": {},
   "outputs": [],
   "source": []
  },
  {
   "cell_type": "code",
   "execution_count": null,
   "metadata": {},
   "outputs": [],
   "source": []
  },
  {
   "cell_type": "code",
   "execution_count": null,
   "metadata": {},
   "outputs": [],
   "source": []
  }
 ],
 "metadata": {
  "kernelspec": {
   "display_name": "Python 3",
   "language": "python",
   "name": "python3"
  },
  "language_info": {
   "codemirror_mode": {
    "name": "ipython",
    "version": 3
   },
   "file_extension": ".py",
   "mimetype": "text/x-python",
   "name": "python",
   "nbconvert_exporter": "python",
   "pygments_lexer": "ipython3",
   "version": "3.6.5"
  }
 },
 "nbformat": 4,
 "nbformat_minor": 2
}
