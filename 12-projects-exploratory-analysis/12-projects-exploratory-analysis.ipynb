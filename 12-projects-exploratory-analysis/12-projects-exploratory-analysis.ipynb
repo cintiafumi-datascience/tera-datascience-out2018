{
 "cells": [
  {
   "cell_type": "markdown",
   "metadata": {},
   "source": [
    "# Challenge\n",
    "> Brazilian E-Commerce Public Dataset by Olist\n",
    "Welcome! This is a Brazilian ecommerce public dataset of orders made at Olist Store. The dataset has information of 100k orders from 2016 to 2018 made at multiple marketplaces in Brazil. Its 21 supportive features allows viewing an order from multiple dimensions: from order status, price and freight performance to customer location, product attributes and finally reviews written by customers.\n",
    "We also released a geolocation dataset that relates Brazilian zip codes to lat/lng coordinates and a dataset with the payment methods chosen at each order.\n",
    "This is real commercial data, it has been anonymised, and references to the companies and partners in the review text have been replaced with the names of Game of Thrones great houses.\n",
    "\n",
    "Link: https://www.kaggle.com/olistbr/brazilian-ecommerce/home"
   ]
  },
  {
   "cell_type": "code",
   "execution_count": null,
   "metadata": {},
   "outputs": [],
   "source": [
    "!pip install kaggle\n",
    "!kaggle datasets download -d olistbr/brazilian-ecommerce\n",
    "# export KAGGLE_USERNAME=tbuzze\n",
    "!export KAGGLE_KEY=b\n",
    "!kaggle datasets [-h]"
   ]
  },
  {
   "cell_type": "code",
   "execution_count": null,
   "metadata": {},
   "outputs": [],
   "source": [
    "!pip install zip"
   ]
  },
  {
   "cell_type": "code",
   "execution_count": null,
   "metadata": {},
   "outputs": [],
   "source": [
    "#-- importando biblioteca para leitura do arquivo zip\n",
    "import zipfile"
   ]
  },
  {
   "cell_type": "code",
   "execution_count": null,
   "metadata": {},
   "outputs": [],
   "source": [
    "#!pip install os-win"
   ]
  },
  {
   "cell_type": "code",
   "execution_count": null,
   "metadata": {},
   "outputs": [],
   "source": [
    "#-- verificando os arquivocs que foram extraídos do zip\n",
    "import os\n",
    "arr = os.listdir()\n",
    "arr"
   ]
  },
  {
   "cell_type": "code",
   "execution_count": null,
   "metadata": {},
   "outputs": [],
   "source": [
    "#-- extraindo os arquivos do arquivo zip\n",
    "with zipfile.ZipFile('brazilian-ecommerce.zip', 'r') as myzip:\n",
    "    myzip.extractall()"
   ]
  },
  {
   "cell_type": "code",
   "execution_count": null,
   "metadata": {},
   "outputs": [],
   "source": [
    "#-- verificando os arquivocs que foram extraídos do zip\n",
    "arr = os.listdir()\n",
    "arr"
   ]
  },
  {
   "cell_type": "markdown",
   "metadata": {},
   "source": [
    "# 1- Carregar as Bibliotecas\n",
    "\n",
    "> Numpy, pandas, plotly, matplotlib..."
   ]
  },
  {
   "cell_type": "code",
   "execution_count": 1,
   "metadata": {},
   "outputs": [],
   "source": [
    "import numpy as np\n",
    "import pandas as pd\n",
    "import plotly\n",
    "import matplotlib.pyplot as plt"
   ]
  },
  {
   "cell_type": "markdown",
   "metadata": {},
   "source": [
    "# 2- Verificar e Interpretar as variáveis\n",
    "\n",
    "> Head, dtypes, describe...\n",
    "\n",
    "<br>\n",
    "<center>\n",
    "<img src=\"https://media1.tenor.com/images/e4848131a1af20a7e1de5e0443afe472/tenor.gif?itemid=4960555\" alt=\"drawing\" width=\"500px\"></center>\n"
   ]
  },
  {
   "cell_type": "code",
   "execution_count": null,
   "metadata": {},
   "outputs": [],
   "source": [
    "geo = pd.read_csv('geolocation_olist_public_dataset.csv')\n",
    "geo.head()"
   ]
  },
  {
   "cell_type": "code",
   "execution_count": null,
   "metadata": {},
   "outputs": [],
   "source": [
    "geo.shape"
   ]
  },
  {
   "cell_type": "code",
   "execution_count": null,
   "metadata": {},
   "outputs": [],
   "source": [
    "classpublic = pd.read_csv('olist_classified_public_dataset.csv')\n",
    "classpublic.head()"
   ]
  },
  {
   "cell_type": "code",
   "execution_count": null,
   "metadata": {},
   "outputs": [],
   "source": [
    "classpublic.shape"
   ]
  },
  {
   "cell_type": "code",
   "execution_count": null,
   "metadata": {},
   "outputs": [],
   "source": [
    "seller = pd.read_csv('sellers_olist_public_dataset_.csv')\n",
    "seller.head()"
   ]
  },
  {
   "cell_type": "code",
   "execution_count": null,
   "metadata": {},
   "outputs": [],
   "source": [
    "seller.shape"
   ]
  },
  {
   "cell_type": "code",
   "execution_count": null,
   "metadata": {},
   "outputs": [],
   "source": [
    "seller.info()"
   ]
  },
  {
   "cell_type": "code",
   "execution_count": 37,
   "metadata": {},
   "outputs": [
    {
     "data": {
      "text/plain": [
       "(97433, 5)"
      ]
     },
     "execution_count": 37,
     "metadata": {},
     "output_type": "execute_result"
    }
   ],
   "source": [
    "payment = pd.read_csv('payments_olist_public_dataset.csv')\n",
    "payment.shape"
   ]
  },
  {
   "cell_type": "code",
   "execution_count": 13,
   "metadata": {},
   "outputs": [
    {
     "data": {
      "text/html": [
       "<div>\n",
       "<style scoped>\n",
       "    .dataframe tbody tr th:only-of-type {\n",
       "        vertical-align: middle;\n",
       "    }\n",
       "\n",
       "    .dataframe tbody tr th {\n",
       "        vertical-align: top;\n",
       "    }\n",
       "\n",
       "    .dataframe thead th {\n",
       "        text-align: right;\n",
       "    }\n",
       "</style>\n",
       "<table border=\"1\" class=\"dataframe\">\n",
       "  <thead>\n",
       "    <tr style=\"text-align: right;\">\n",
       "      <th></th>\n",
       "      <th>order_id</th>\n",
       "      <th>installments</th>\n",
       "      <th>sequential</th>\n",
       "      <th>payment_type</th>\n",
       "      <th>value</th>\n",
       "    </tr>\n",
       "  </thead>\n",
       "  <tbody>\n",
       "    <tr>\n",
       "      <th>0</th>\n",
       "      <td>25e8ea4e93396b6fa0d3dd708e76c1bd</td>\n",
       "      <td>1</td>\n",
       "      <td>1</td>\n",
       "      <td>credit_card</td>\n",
       "      <td>65.71</td>\n",
       "    </tr>\n",
       "    <tr>\n",
       "      <th>1</th>\n",
       "      <td>ba78997921bbcdc1373bb41e913ab953</td>\n",
       "      <td>8</td>\n",
       "      <td>1</td>\n",
       "      <td>credit_card</td>\n",
       "      <td>107.78</td>\n",
       "    </tr>\n",
       "    <tr>\n",
       "      <th>2</th>\n",
       "      <td>42fdf880ba16b47b59251dd489d4441a</td>\n",
       "      <td>2</td>\n",
       "      <td>1</td>\n",
       "      <td>credit_card</td>\n",
       "      <td>128.45</td>\n",
       "    </tr>\n",
       "    <tr>\n",
       "      <th>3</th>\n",
       "      <td>771ee386b001f06208a7419e4fc1bbd7</td>\n",
       "      <td>1</td>\n",
       "      <td>1</td>\n",
       "      <td>credit_card</td>\n",
       "      <td>81.16</td>\n",
       "    </tr>\n",
       "    <tr>\n",
       "      <th>4</th>\n",
       "      <td>62fe0bd75deb58982ebf8e53a128a301</td>\n",
       "      <td>1</td>\n",
       "      <td>1</td>\n",
       "      <td>credit_card</td>\n",
       "      <td>15.82</td>\n",
       "    </tr>\n",
       "  </tbody>\n",
       "</table>\n",
       "</div>"
      ],
      "text/plain": [
       "                           order_id  installments  sequential payment_type  \\\n",
       "0  25e8ea4e93396b6fa0d3dd708e76c1bd             1           1  credit_card   \n",
       "1  ba78997921bbcdc1373bb41e913ab953             8           1  credit_card   \n",
       "2  42fdf880ba16b47b59251dd489d4441a             2           1  credit_card   \n",
       "3  771ee386b001f06208a7419e4fc1bbd7             1           1  credit_card   \n",
       "4  62fe0bd75deb58982ebf8e53a128a301             1           1  credit_card   \n",
       "\n",
       "    value  \n",
       "0   65.71  \n",
       "1  107.78  \n",
       "2  128.45  \n",
       "3   81.16  \n",
       "4   15.82  "
      ]
     },
     "execution_count": 13,
     "metadata": {},
     "output_type": "execute_result"
    }
   ],
   "source": [
    "payment.head()"
   ]
  },
  {
   "cell_type": "code",
   "execution_count": 14,
   "metadata": {},
   "outputs": [],
   "source": [
    "from plotly.offline import init_notebook_mode, iplot"
   ]
  },
  {
   "cell_type": "code",
   "execution_count": null,
   "metadata": {},
   "outputs": [],
   "source": []
  },
  {
   "cell_type": "code",
   "execution_count": 38,
   "metadata": {},
   "outputs": [
    {
     "data": {
      "text/plain": [
       "credit_card    71676\n",
       "boleto         18845\n",
       "voucher         5635\n",
       "debit_card      1277\n",
       "Name: payment_type, dtype: int64"
      ]
     },
     "execution_count": 38,
     "metadata": {},
     "output_type": "execute_result"
    }
   ],
   "source": [
    "payment['payment_type'].value_counts()"
   ]
  },
  {
   "cell_type": "code",
   "execution_count": 39,
   "metadata": {},
   "outputs": [],
   "source": [
    "import seaborn as sns"
   ]
  },
  {
   "cell_type": "code",
   "execution_count": 40,
   "metadata": {},
   "outputs": [
    {
     "data": {
      "image/png": "[encoded data removed]",
      "text/plain": [
       "<Figure size 432x288 with 1 Axes>"
      ]
     },
     "metadata": {
      "needs_background": "light"
     },
     "output_type": "display_data"
    }
   ],
   "source": [
    "_ = sns.countplot(x='payment_type', data=payment)"
   ]
  },
  {
   "cell_type": "code",
   "execution_count": 41,
   "metadata": {},
   "outputs": [],
   "source": [
    "import scipy.stats as stats"
   ]
  },
  {
   "cell_type": "code",
   "execution_count": 42,
   "metadata": {},
   "outputs": [
    {
     "data": {
      "text/html": [
       "<div>\n",
       "<style scoped>\n",
       "    .dataframe tbody tr th:only-of-type {\n",
       "        vertical-align: middle;\n",
       "    }\n",
       "\n",
       "    .dataframe tbody tr th {\n",
       "        vertical-align: top;\n",
       "    }\n",
       "\n",
       "    .dataframe thead th {\n",
       "        text-align: right;\n",
       "    }\n",
       "</style>\n",
       "<table border=\"1\" class=\"dataframe\">\n",
       "  <thead>\n",
       "    <tr style=\"text-align: right;\">\n",
       "      <th></th>\n",
       "      <th>installments</th>\n",
       "      <th>sequential</th>\n",
       "      <th>value</th>\n",
       "    </tr>\n",
       "  </thead>\n",
       "  <tbody>\n",
       "    <tr>\n",
       "      <th>installments</th>\n",
       "      <td>1.000000</td>\n",
       "      <td>-0.087903</td>\n",
       "      <td>0.320565</td>\n",
       "    </tr>\n",
       "    <tr>\n",
       "      <th>sequential</th>\n",
       "      <td>-0.087903</td>\n",
       "      <td>1.000000</td>\n",
       "      <td>-0.073580</td>\n",
       "    </tr>\n",
       "    <tr>\n",
       "      <th>value</th>\n",
       "      <td>0.320565</td>\n",
       "      <td>-0.073580</td>\n",
       "      <td>1.000000</td>\n",
       "    </tr>\n",
       "  </tbody>\n",
       "</table>\n",
       "</div>"
      ],
      "text/plain": [
       "              installments  sequential     value\n",
       "installments      1.000000   -0.087903  0.320565\n",
       "sequential       -0.087903    1.000000 -0.073580\n",
       "value             0.320565   -0.073580  1.000000"
      ]
     },
     "execution_count": 42,
     "metadata": {},
     "output_type": "execute_result"
    }
   ],
   "source": [
    "payment.corr()"
   ]
  },
  {
   "cell_type": "code",
   "execution_count": 21,
   "metadata": {},
   "outputs": [],
   "source": [
    "#result['Cliente '+ str(y)] = result['Cliente '+ str(y)].replace('X', 1)\n",
    "pay_type = payment['payment_type']"
   ]
  },
  {
   "cell_type": "code",
   "execution_count": 23,
   "metadata": {},
   "outputs": [],
   "source": [
    "payment['payment_type'] = payment['payment_type'].replace('credit_card', 1)\n",
    "payment['payment_type'] = payment['payment_type'].replace('boleto', 2)\n",
    "payment['payment_type'] = payment['payment_type'].replace('voucher', 3)\n",
    "payment['payment_type'] = payment['payment_type'].replace('debit_card', 4)"
   ]
  },
  {
   "cell_type": "code",
   "execution_count": 24,
   "metadata": {},
   "outputs": [
    {
     "data": {
      "text/html": [
       "<div>\n",
       "<style scoped>\n",
       "    .dataframe tbody tr th:only-of-type {\n",
       "        vertical-align: middle;\n",
       "    }\n",
       "\n",
       "    .dataframe tbody tr th {\n",
       "        vertical-align: top;\n",
       "    }\n",
       "\n",
       "    .dataframe thead th {\n",
       "        text-align: right;\n",
       "    }\n",
       "</style>\n",
       "<table border=\"1\" class=\"dataframe\">\n",
       "  <thead>\n",
       "    <tr style=\"text-align: right;\">\n",
       "      <th></th>\n",
       "      <th>installments</th>\n",
       "      <th>sequential</th>\n",
       "      <th>payment_type</th>\n",
       "      <th>value</th>\n",
       "    </tr>\n",
       "  </thead>\n",
       "  <tbody>\n",
       "    <tr>\n",
       "      <th>installments</th>\n",
       "      <td>1.000000</td>\n",
       "      <td>-0.087903</td>\n",
       "      <td>-0.374946</td>\n",
       "      <td>0.320565</td>\n",
       "    </tr>\n",
       "    <tr>\n",
       "      <th>sequential</th>\n",
       "      <td>-0.087903</td>\n",
       "      <td>1.000000</td>\n",
       "      <td>0.322561</td>\n",
       "      <td>-0.073580</td>\n",
       "    </tr>\n",
       "    <tr>\n",
       "      <th>payment_type</th>\n",
       "      <td>-0.374946</td>\n",
       "      <td>0.322561</td>\n",
       "      <td>1.000000</td>\n",
       "      <td>-0.095352</td>\n",
       "    </tr>\n",
       "    <tr>\n",
       "      <th>value</th>\n",
       "      <td>0.320565</td>\n",
       "      <td>-0.073580</td>\n",
       "      <td>-0.095352</td>\n",
       "      <td>1.000000</td>\n",
       "    </tr>\n",
       "  </tbody>\n",
       "</table>\n",
       "</div>"
      ],
      "text/plain": [
       "              installments  sequential  payment_type     value\n",
       "installments      1.000000   -0.087903     -0.374946  0.320565\n",
       "sequential       -0.087903    1.000000      0.322561 -0.073580\n",
       "payment_type     -0.374946    0.322561      1.000000 -0.095352\n",
       "value             0.320565   -0.073580     -0.095352  1.000000"
      ]
     },
     "execution_count": 24,
     "metadata": {},
     "output_type": "execute_result"
    }
   ],
   "source": [
    "payment.corr()"
   ]
  },
  {
   "cell_type": "code",
   "execution_count": 71,
   "metadata": {},
   "outputs": [
    {
     "data": {
      "text/html": [
       "<div>\n",
       "<style scoped>\n",
       "    .dataframe tbody tr th:only-of-type {\n",
       "        vertical-align: middle;\n",
       "    }\n",
       "\n",
       "    .dataframe tbody tr th {\n",
       "        vertical-align: top;\n",
       "    }\n",
       "\n",
       "    .dataframe thead th {\n",
       "        text-align: right;\n",
       "    }\n",
       "</style>\n",
       "<table border=\"1\" class=\"dataframe\">\n",
       "  <thead>\n",
       "    <tr style=\"text-align: right;\">\n",
       "      <th></th>\n",
       "      <th>order_id</th>\n",
       "      <th>installments</th>\n",
       "      <th>sequential</th>\n",
       "      <th>payment_type</th>\n",
       "      <th>value</th>\n",
       "    </tr>\n",
       "  </thead>\n",
       "  <tbody>\n",
       "    <tr>\n",
       "      <th>0</th>\n",
       "      <td>25e8ea4e93396b6fa0d3dd708e76c1bd</td>\n",
       "      <td>1</td>\n",
       "      <td>1</td>\n",
       "      <td>credit_card</td>\n",
       "      <td>65.71</td>\n",
       "    </tr>\n",
       "    <tr>\n",
       "      <th>1</th>\n",
       "      <td>ba78997921bbcdc1373bb41e913ab953</td>\n",
       "      <td>8</td>\n",
       "      <td>1</td>\n",
       "      <td>credit_card</td>\n",
       "      <td>107.78</td>\n",
       "    </tr>\n",
       "    <tr>\n",
       "      <th>2</th>\n",
       "      <td>42fdf880ba16b47b59251dd489d4441a</td>\n",
       "      <td>2</td>\n",
       "      <td>1</td>\n",
       "      <td>credit_card</td>\n",
       "      <td>128.45</td>\n",
       "    </tr>\n",
       "    <tr>\n",
       "      <th>3</th>\n",
       "      <td>771ee386b001f06208a7419e4fc1bbd7</td>\n",
       "      <td>1</td>\n",
       "      <td>1</td>\n",
       "      <td>credit_card</td>\n",
       "      <td>81.16</td>\n",
       "    </tr>\n",
       "    <tr>\n",
       "      <th>4</th>\n",
       "      <td>62fe0bd75deb58982ebf8e53a128a301</td>\n",
       "      <td>1</td>\n",
       "      <td>1</td>\n",
       "      <td>credit_card</td>\n",
       "      <td>15.82</td>\n",
       "    </tr>\n",
       "  </tbody>\n",
       "</table>\n",
       "</div>"
      ],
      "text/plain": [
       "                           order_id  installments  sequential payment_type  \\\n",
       "0  25e8ea4e93396b6fa0d3dd708e76c1bd             1           1  credit_card   \n",
       "1  ba78997921bbcdc1373bb41e913ab953             8           1  credit_card   \n",
       "2  42fdf880ba16b47b59251dd489d4441a             2           1  credit_card   \n",
       "3  771ee386b001f06208a7419e4fc1bbd7             1           1  credit_card   \n",
       "4  62fe0bd75deb58982ebf8e53a128a301             1           1  credit_card   \n",
       "\n",
       "    value  \n",
       "0   65.71  \n",
       "1  107.78  \n",
       "2  128.45  \n",
       "3   81.16  \n",
       "4   15.82  "
      ]
     },
     "execution_count": 71,
     "metadata": {},
     "output_type": "execute_result"
    }
   ],
   "source": [
    "payment.head()"
   ]
  },
  {
   "cell_type": "code",
   "execution_count": 72,
   "metadata": {},
   "outputs": [
    {
     "data": {
      "text/html": [
       "<div>\n",
       "<style scoped>\n",
       "    .dataframe tbody tr th:only-of-type {\n",
       "        vertical-align: middle;\n",
       "    }\n",
       "\n",
       "    .dataframe tbody tr th {\n",
       "        vertical-align: top;\n",
       "    }\n",
       "\n",
       "    .dataframe thead th {\n",
       "        text-align: right;\n",
       "    }\n",
       "</style>\n",
       "<table border=\"1\" class=\"dataframe\">\n",
       "  <thead>\n",
       "    <tr style=\"text-align: right;\">\n",
       "      <th></th>\n",
       "      <th>order_id</th>\n",
       "      <th>order_status</th>\n",
       "      <th>order_products_value</th>\n",
       "      <th>order_freight_value</th>\n",
       "      <th>order_items_qty</th>\n",
       "      <th>order_sellers_qty</th>\n",
       "      <th>order_purchase_timestamp</th>\n",
       "      <th>order_aproved_at</th>\n",
       "      <th>order_estimated_delivery_date</th>\n",
       "      <th>order_delivered_customer_date</th>\n",
       "      <th>...</th>\n",
       "      <th>product_name_lenght</th>\n",
       "      <th>product_description_lenght</th>\n",
       "      <th>product_photos_qty</th>\n",
       "      <th>product_id</th>\n",
       "      <th>review_id</th>\n",
       "      <th>review_score</th>\n",
       "      <th>review_comment_title</th>\n",
       "      <th>review_comment_message</th>\n",
       "      <th>review_creation_date</th>\n",
       "      <th>review_answer_timestamp</th>\n",
       "    </tr>\n",
       "  </thead>\n",
       "  <tbody>\n",
       "    <tr>\n",
       "      <th>0</th>\n",
       "      <td>b95df3cef5297e79ef709ba256518f6f</td>\n",
       "      <td>delivered</td>\n",
       "      <td>349.90</td>\n",
       "      <td>13.84</td>\n",
       "      <td>1</td>\n",
       "      <td>1</td>\n",
       "      <td>2017-01-31 17:19:01.000000</td>\n",
       "      <td>2017-02-01 02:41:21.549551</td>\n",
       "      <td>2017-03-15 00:00:00.000000</td>\n",
       "      <td>2017-02-06 11:04:24.154259</td>\n",
       "      <td>...</td>\n",
       "      <td>51</td>\n",
       "      <td>625</td>\n",
       "      <td>1</td>\n",
       "      <td>6cdd53843498f92890544667809f1595</td>\n",
       "      <td>b95df3cef5297e79ef709ba256518f6f</td>\n",
       "      <td>5</td>\n",
       "      <td>NaN</td>\n",
       "      <td>NaN</td>\n",
       "      <td>2017-02-07 00:00:00.000000</td>\n",
       "      <td>2017-02-09 02:37:37+00:00</td>\n",
       "    </tr>\n",
       "    <tr>\n",
       "      <th>1</th>\n",
       "      <td>59af46052a799e80e2f0c665c587731d</td>\n",
       "      <td>delivered</td>\n",
       "      <td>15.00</td>\n",
       "      <td>15.10</td>\n",
       "      <td>1</td>\n",
       "      <td>1</td>\n",
       "      <td>2017-09-09 19:52:54.000000</td>\n",
       "      <td>2017-09-10 20:03:31.535281</td>\n",
       "      <td>2017-10-02 00:00:00.000000</td>\n",
       "      <td>2017-09-13 20:17:41.296915</td>\n",
       "      <td>...</td>\n",
       "      <td>44</td>\n",
       "      <td>1428</td>\n",
       "      <td>2</td>\n",
       "      <td>ae5cad88462eb7b7b61401e31c45618e</td>\n",
       "      <td>59af46052a799e80e2f0c665c587731d</td>\n",
       "      <td>5</td>\n",
       "      <td>NaN</td>\n",
       "      <td>entrega em 2 dias produto c boa qualidade otim...</td>\n",
       "      <td>2017-09-14 00:00:00.000000</td>\n",
       "      <td>2017-09-15 03:43:47+00:00</td>\n",
       "    </tr>\n",
       "    <tr>\n",
       "      <th>2</th>\n",
       "      <td>a3e6136894621db402a772c6bc72a12a</td>\n",
       "      <td>delivered</td>\n",
       "      <td>238.90</td>\n",
       "      <td>18.00</td>\n",
       "      <td>1</td>\n",
       "      <td>1</td>\n",
       "      <td>2017-01-30 17:00:09.000000</td>\n",
       "      <td>2017-01-30 17:31:25.438253</td>\n",
       "      <td>2017-03-07 00:00:00.000000</td>\n",
       "      <td>2017-02-06 15:43:04.758566</td>\n",
       "      <td>...</td>\n",
       "      <td>55</td>\n",
       "      <td>637</td>\n",
       "      <td>1</td>\n",
       "      <td>0c9ff9d8ed9b9bdd825487b3a66e05f5</td>\n",
       "      <td>a3e6136894621db402a772c6bc72a12a</td>\n",
       "      <td>5</td>\n",
       "      <td>NaN</td>\n",
       "      <td>produto veio antes do prazo informado muito ob...</td>\n",
       "      <td>2017-02-07 00:00:00.000000</td>\n",
       "      <td>2017-02-10 14:18:53+00:00</td>\n",
       "    </tr>\n",
       "    <tr>\n",
       "      <th>3</th>\n",
       "      <td>b675ea5a618922f6e679e30531b8957b</td>\n",
       "      <td>delivered</td>\n",
       "      <td>29.99</td>\n",
       "      <td>18.23</td>\n",
       "      <td>1</td>\n",
       "      <td>1</td>\n",
       "      <td>2018-03-11 18:18:36.000000</td>\n",
       "      <td>2018-03-11 18:30:37.931962</td>\n",
       "      <td>2018-04-03 00:00:00.000000</td>\n",
       "      <td>2018-04-03 20:36:43.778451</td>\n",
       "      <td>...</td>\n",
       "      <td>55</td>\n",
       "      <td>617</td>\n",
       "      <td>1</td>\n",
       "      <td>ad0a798e7941f3a5a2fb8139cb62ad78</td>\n",
       "      <td>b675ea5a618922f6e679e30531b8957b</td>\n",
       "      <td>4</td>\n",
       "      <td>NaN</td>\n",
       "      <td>NaN</td>\n",
       "      <td>2018-04-04 00:00:00.000000</td>\n",
       "      <td>2018-04-05 02:52:31+00:00</td>\n",
       "    </tr>\n",
       "    <tr>\n",
       "      <th>4</th>\n",
       "      <td>195a8be6794c487fe6cfbb97b7c61902</td>\n",
       "      <td>delivered</td>\n",
       "      <td>295.99</td>\n",
       "      <td>47.65</td>\n",
       "      <td>1</td>\n",
       "      <td>1</td>\n",
       "      <td>2017-04-20 08:01:08.000000</td>\n",
       "      <td>2017-04-25 08:05:40.405383</td>\n",
       "      <td>2017-05-24 00:00:00.000000</td>\n",
       "      <td>2017-05-04 18:47:45.721758</td>\n",
       "      <td>...</td>\n",
       "      <td>49</td>\n",
       "      <td>558</td>\n",
       "      <td>2</td>\n",
       "      <td>eaf2046d4c87809247a30050ea13df03</td>\n",
       "      <td>195a8be6794c487fe6cfbb97b7c61902</td>\n",
       "      <td>5</td>\n",
       "      <td>NaN</td>\n",
       "      <td>NaN</td>\n",
       "      <td>2017-05-05 00:00:00.000000</td>\n",
       "      <td>2017-05-08 15:20:18+00:00</td>\n",
       "    </tr>\n",
       "  </tbody>\n",
       "</table>\n",
       "<p>5 rows × 25 columns</p>\n",
       "</div>"
      ],
      "text/plain": [
       "                           order_id order_status  order_products_value  \\\n",
       "0  b95df3cef5297e79ef709ba256518f6f    delivered                349.90   \n",
       "1  59af46052a799e80e2f0c665c587731d    delivered                 15.00   \n",
       "2  a3e6136894621db402a772c6bc72a12a    delivered                238.90   \n",
       "3  b675ea5a618922f6e679e30531b8957b    delivered                 29.99   \n",
       "4  195a8be6794c487fe6cfbb97b7c61902    delivered                295.99   \n",
       "\n",
       "   order_freight_value  order_items_qty  order_sellers_qty  \\\n",
       "0                13.84                1                  1   \n",
       "1                15.10                1                  1   \n",
       "2                18.00                1                  1   \n",
       "3                18.23                1                  1   \n",
       "4                47.65                1                  1   \n",
       "\n",
       "     order_purchase_timestamp            order_aproved_at  \\\n",
       "0  2017-01-31 17:19:01.000000  2017-02-01 02:41:21.549551   \n",
       "1  2017-09-09 19:52:54.000000  2017-09-10 20:03:31.535281   \n",
       "2  2017-01-30 17:00:09.000000  2017-01-30 17:31:25.438253   \n",
       "3  2018-03-11 18:18:36.000000  2018-03-11 18:30:37.931962   \n",
       "4  2017-04-20 08:01:08.000000  2017-04-25 08:05:40.405383   \n",
       "\n",
       "  order_estimated_delivery_date order_delivered_customer_date  \\\n",
       "0    2017-03-15 00:00:00.000000    2017-02-06 11:04:24.154259   \n",
       "1    2017-10-02 00:00:00.000000    2017-09-13 20:17:41.296915   \n",
       "2    2017-03-07 00:00:00.000000    2017-02-06 15:43:04.758566   \n",
       "3    2018-04-03 00:00:00.000000    2018-04-03 20:36:43.778451   \n",
       "4    2017-05-24 00:00:00.000000    2017-05-04 18:47:45.721758   \n",
       "\n",
       "             ...             product_name_lenght product_description_lenght  \\\n",
       "0            ...                              51                        625   \n",
       "1            ...                              44                       1428   \n",
       "2            ...                              55                        637   \n",
       "3            ...                              55                        617   \n",
       "4            ...                              49                        558   \n",
       "\n",
       "  product_photos_qty                        product_id  \\\n",
       "0                  1  6cdd53843498f92890544667809f1595   \n",
       "1                  2  ae5cad88462eb7b7b61401e31c45618e   \n",
       "2                  1  0c9ff9d8ed9b9bdd825487b3a66e05f5   \n",
       "3                  1  ad0a798e7941f3a5a2fb8139cb62ad78   \n",
       "4                  2  eaf2046d4c87809247a30050ea13df03   \n",
       "\n",
       "                          review_id  review_score  review_comment_title  \\\n",
       "0  b95df3cef5297e79ef709ba256518f6f             5                   NaN   \n",
       "1  59af46052a799e80e2f0c665c587731d             5                   NaN   \n",
       "2  a3e6136894621db402a772c6bc72a12a             5                   NaN   \n",
       "3  b675ea5a618922f6e679e30531b8957b             4                   NaN   \n",
       "4  195a8be6794c487fe6cfbb97b7c61902             5                   NaN   \n",
       "\n",
       "                              review_comment_message  \\\n",
       "0                                                NaN   \n",
       "1  entrega em 2 dias produto c boa qualidade otim...   \n",
       "2  produto veio antes do prazo informado muito ob...   \n",
       "3                                                NaN   \n",
       "4                                                NaN   \n",
       "\n",
       "         review_creation_date    review_answer_timestamp  \n",
       "0  2017-02-07 00:00:00.000000  2017-02-09 02:37:37+00:00  \n",
       "1  2017-09-14 00:00:00.000000  2017-09-15 03:43:47+00:00  \n",
       "2  2017-02-07 00:00:00.000000  2017-02-10 14:18:53+00:00  \n",
       "3  2018-04-04 00:00:00.000000  2018-04-05 02:52:31+00:00  \n",
       "4  2017-05-05 00:00:00.000000  2017-05-08 15:20:18+00:00  \n",
       "\n",
       "[5 rows x 25 columns]"
      ]
     },
     "execution_count": 72,
     "metadata": {},
     "output_type": "execute_result"
    }
   ],
   "source": [
    "public = pd.read_csv('olist_public_dataset_v2.csv')\n",
    "public.head()"
   ]
  },
  {
   "cell_type": "code",
   "execution_count": null,
   "metadata": {},
   "outputs": [],
   "source": []
  },
  {
   "cell_type": "code",
   "execution_count": 77,
   "metadata": {},
   "outputs": [
    {
     "data": {
      "text/plain": [
       "cama_mesa_banho                       0.10435\n",
       "beleza_saude                          0.07939\n",
       "esporte_lazer                         0.07832\n",
       "moveis_decoracao                      0.07728\n",
       "relogios_presentes                    0.07130\n",
       "informatica_acessorios                0.06329\n",
       "utilidades_domesticas                 0.06230\n",
       "ferramentas_jardim                    0.04570\n",
       "cool_stuff                            0.04315\n",
       "brinquedos                            0.04114\n",
       "perfumaria                            0.03823\n",
       "automotivo                            0.03244\n",
       "telefonia                             0.03108\n",
       "fashion_bolsas_e_acessorios           0.02809\n",
       "bebes                                 0.02364\n",
       "papelaria                             0.01945\n",
       "pet_shop                              0.01909\n",
       "eletronicos                           0.01687\n",
       "moveis_escritorio                     0.01685\n",
       "consoles_games                        0.01098\n",
       "malas_acessorios                      0.01059\n",
       "eletrodomesticos                      0.00930\n",
       "eletroportateis                       0.00666\n",
       "casa_conforto                         0.00572\n",
       "instrumentos_musicais                 0.00566\n",
       "market_place                          0.00507\n",
       "livros_interesse_geral                0.00436\n",
       "moveis_sala                           0.00382\n",
       "fashion_calcados                      0.00375\n",
       "construcao_ferramentas_construcao     0.00335\n",
       "                                       ...   \n",
       "casa_construcao                       0.00126\n",
       "agro_industria_e_comercio             0.00118\n",
       "livros_tecnicos                       0.00113\n",
       "tablets_impressao_imagem              0.00107\n",
       "artigos_de_natal                      0.00106\n",
       "bebidas                               0.00100\n",
       "construcao_ferramentas_seguranca      0.00094\n",
       "construcao_ferramentas_iluminacao     0.00092\n",
       "artes                                 0.00088\n",
       "industria_comercio_e_negocios         0.00083\n",
       "sinalizacao_e_seguranca               0.00076\n",
       "dvds_blu_ray                          0.00066\n",
       "fashion_roupa_feminina                0.00059\n",
       "moveis_quarto                         0.00059\n",
       "fashion_esporte                       0.00043\n",
       "casa_conforto_2                       0.00030\n",
       "moveis_colchao_e_estofado             0.00027\n",
       "la_cuisine                            0.00023\n",
       "livros_importados                     0.00023\n",
       "portateis_casa_forno_e_cafe           0.00022\n",
       "musica                                0.00020\n",
       "artigos_de_festas                     0.00017\n",
       "fashion_roupa_infanto_juvenil         0.00016\n",
       "fraldas_higiene                       0.00013\n",
       "cds_dvds_musicais                     0.00012\n",
       "construcao_ferramentas_ferramentas    0.00011\n",
       "flores                                0.00010\n",
       "cine_foto                             0.00008\n",
       "artes_e_artesanato                    0.00007\n",
       "seguros_e_servicos                    0.00002\n",
       "Name: product_category_name, Length: 71, dtype: float64"
      ]
     },
     "execution_count": 77,
     "metadata": {},
     "output_type": "execute_result"
    }
   ],
   "source": [
    "public['product_category_name'].value_counts() / len(public)"
   ]
  },
  {
   "cell_type": "code",
   "execution_count": 78,
   "metadata": {},
   "outputs": [
    {
     "data": {
      "text/plain": [
       "SP    41020\n",
       "RJ    13486\n",
       "MG    11977\n",
       "RS     5586\n",
       "PR     5027\n",
       "SC     3747\n",
       "BA     3459\n",
       "DF     2051\n",
       "ES     2040\n",
       "GO     2011\n",
       "PE     1638\n",
       "CE     1327\n",
       "PA     1023\n",
       "MT      922\n",
       "MA      763\n",
       "MS      725\n",
       "PB      542\n",
       "RN      519\n",
       "PI      454\n",
       "AL      440\n",
       "SE      339\n",
       "RO      287\n",
       "TO      261\n",
       "AM      156\n",
       "AC       86\n",
       "AP       68\n",
       "RR       46\n",
       "Name: customer_state, dtype: int64"
      ]
     },
     "execution_count": 78,
     "metadata": {},
     "output_type": "execute_result"
    }
   ],
   "source": [
    "public['customer_state'].value_counts()"
   ]
  },
  {
   "cell_type": "code",
   "execution_count": 81,
   "metadata": {},
   "outputs": [
    {
     "data": {
      "text/html": [
       "<div>\n",
       "<style scoped>\n",
       "    .dataframe tbody tr th:only-of-type {\n",
       "        vertical-align: middle;\n",
       "    }\n",
       "\n",
       "    .dataframe tbody tr th {\n",
       "        vertical-align: top;\n",
       "    }\n",
       "\n",
       "    .dataframe thead th {\n",
       "        text-align: right;\n",
       "    }\n",
       "</style>\n",
       "<table border=\"1\" class=\"dataframe\">\n",
       "  <thead>\n",
       "    <tr style=\"text-align: right;\">\n",
       "      <th></th>\n",
       "      <th>order_id</th>\n",
       "      <th>installments</th>\n",
       "      <th>sequential</th>\n",
       "      <th>payment_type</th>\n",
       "      <th>value</th>\n",
       "      <th>order_status</th>\n",
       "      <th>order_products_value</th>\n",
       "      <th>order_freight_value</th>\n",
       "      <th>order_items_qty</th>\n",
       "      <th>order_sellers_qty</th>\n",
       "      <th>...</th>\n",
       "      <th>product_name_lenght</th>\n",
       "      <th>product_description_lenght</th>\n",
       "      <th>product_photos_qty</th>\n",
       "      <th>product_id</th>\n",
       "      <th>review_id</th>\n",
       "      <th>review_score</th>\n",
       "      <th>review_comment_title</th>\n",
       "      <th>review_comment_message</th>\n",
       "      <th>review_creation_date</th>\n",
       "      <th>review_answer_timestamp</th>\n",
       "    </tr>\n",
       "  </thead>\n",
       "  <tbody>\n",
       "    <tr>\n",
       "      <th>0</th>\n",
       "      <td>25e8ea4e93396b6fa0d3dd708e76c1bd</td>\n",
       "      <td>1.0</td>\n",
       "      <td>1.0</td>\n",
       "      <td>credit_card</td>\n",
       "      <td>65.71</td>\n",
       "      <td>delivered</td>\n",
       "      <td>56.99</td>\n",
       "      <td>8.72</td>\n",
       "      <td>1</td>\n",
       "      <td>1</td>\n",
       "      <td>...</td>\n",
       "      <td>54</td>\n",
       "      <td>1536</td>\n",
       "      <td>2</td>\n",
       "      <td>2028bf1b01cafb2d2b1901fca4083222</td>\n",
       "      <td>25e8ea4e93396b6fa0d3dd708e76c1bd</td>\n",
       "      <td>5</td>\n",
       "      <td>NaN</td>\n",
       "      <td>aprovada</td>\n",
       "      <td>2017-12-19 00:00:00.000000</td>\n",
       "      <td>2017-12-22 19:55:30+00:00</td>\n",
       "    </tr>\n",
       "    <tr>\n",
       "      <th>1</th>\n",
       "      <td>ba78997921bbcdc1373bb41e913ab953</td>\n",
       "      <td>8.0</td>\n",
       "      <td>1.0</td>\n",
       "      <td>credit_card</td>\n",
       "      <td>107.78</td>\n",
       "      <td>delivered</td>\n",
       "      <td>89.90</td>\n",
       "      <td>17.88</td>\n",
       "      <td>1</td>\n",
       "      <td>1</td>\n",
       "      <td>...</td>\n",
       "      <td>60</td>\n",
       "      <td>188</td>\n",
       "      <td>1</td>\n",
       "      <td>548e5bfe28edceab6b51fa707cc9556f</td>\n",
       "      <td>ba78997921bbcdc1373bb41e913ab953</td>\n",
       "      <td>5</td>\n",
       "      <td>NaN</td>\n",
       "      <td>NaN</td>\n",
       "      <td>2017-12-21 00:00:00.000000</td>\n",
       "      <td>2017-12-21 23:42:31+00:00</td>\n",
       "    </tr>\n",
       "    <tr>\n",
       "      <th>2</th>\n",
       "      <td>42fdf880ba16b47b59251dd489d4441a</td>\n",
       "      <td>2.0</td>\n",
       "      <td>1.0</td>\n",
       "      <td>credit_card</td>\n",
       "      <td>128.45</td>\n",
       "      <td>delivered</td>\n",
       "      <td>113.57</td>\n",
       "      <td>14.88</td>\n",
       "      <td>1</td>\n",
       "      <td>1</td>\n",
       "      <td>...</td>\n",
       "      <td>57</td>\n",
       "      <td>242</td>\n",
       "      <td>1</td>\n",
       "      <td>386486367c1f9d4f587a8864ccb6902b</td>\n",
       "      <td>42fdf880ba16b47b59251dd489d4441a</td>\n",
       "      <td>5</td>\n",
       "      <td>NaN</td>\n",
       "      <td>NaN</td>\n",
       "      <td>2018-06-02 00:00:00.000000</td>\n",
       "      <td>2018-06-05 18:19:55+00:00</td>\n",
       "    </tr>\n",
       "    <tr>\n",
       "      <th>3</th>\n",
       "      <td>771ee386b001f06208a7419e4fc1bbd7</td>\n",
       "      <td>1.0</td>\n",
       "      <td>1.0</td>\n",
       "      <td>credit_card</td>\n",
       "      <td>81.16</td>\n",
       "      <td>delivered</td>\n",
       "      <td>59.90</td>\n",
       "      <td>21.26</td>\n",
       "      <td>1</td>\n",
       "      <td>1</td>\n",
       "      <td>...</td>\n",
       "      <td>41</td>\n",
       "      <td>799</td>\n",
       "      <td>1</td>\n",
       "      <td>42a2c92a0979a949ca4ea89ec5c7b934</td>\n",
       "      <td>771ee386b001f06208a7419e4fc1bbd7</td>\n",
       "      <td>5</td>\n",
       "      <td>NaN</td>\n",
       "      <td>fiquei muito satisfeita chegou bom rápido</td>\n",
       "      <td>2017-07-04 00:00:00.000000</td>\n",
       "      <td>2017-07-05 03:12:17+00:00</td>\n",
       "    </tr>\n",
       "    <tr>\n",
       "      <th>4</th>\n",
       "      <td>62fe0bd75deb58982ebf8e53a128a301</td>\n",
       "      <td>1.0</td>\n",
       "      <td>1.0</td>\n",
       "      <td>credit_card</td>\n",
       "      <td>15.82</td>\n",
       "      <td>delivered</td>\n",
       "      <td>249.90</td>\n",
       "      <td>15.92</td>\n",
       "      <td>1</td>\n",
       "      <td>1</td>\n",
       "      <td>...</td>\n",
       "      <td>38</td>\n",
       "      <td>617</td>\n",
       "      <td>2</td>\n",
       "      <td>05bb531648459f3fb15bda0cdbf21322</td>\n",
       "      <td>62fe0bd75deb58982ebf8e53a128a301</td>\n",
       "      <td>5</td>\n",
       "      <td>NaN</td>\n",
       "      <td>produto excelente boa fixação muito bom mesmo ...</td>\n",
       "      <td>2017-02-18 00:00:00.000000</td>\n",
       "      <td>2017-02-19 03:12:25+00:00</td>\n",
       "    </tr>\n",
       "  </tbody>\n",
       "</table>\n",
       "<p>5 rows × 29 columns</p>\n",
       "</div>"
      ],
      "text/plain": [
       "                           order_id  installments  sequential payment_type  \\\n",
       "0  25e8ea4e93396b6fa0d3dd708e76c1bd           1.0         1.0  credit_card   \n",
       "1  ba78997921bbcdc1373bb41e913ab953           8.0         1.0  credit_card   \n",
       "2  42fdf880ba16b47b59251dd489d4441a           2.0         1.0  credit_card   \n",
       "3  771ee386b001f06208a7419e4fc1bbd7           1.0         1.0  credit_card   \n",
       "4  62fe0bd75deb58982ebf8e53a128a301           1.0         1.0  credit_card   \n",
       "\n",
       "    value order_status  order_products_value  order_freight_value  \\\n",
       "0   65.71    delivered                 56.99                 8.72   \n",
       "1  107.78    delivered                 89.90                17.88   \n",
       "2  128.45    delivered                113.57                14.88   \n",
       "3   81.16    delivered                 59.90                21.26   \n",
       "4   15.82    delivered                249.90                15.92   \n",
       "\n",
       "   order_items_qty  order_sellers_qty            ...              \\\n",
       "0                1                  1            ...               \n",
       "1                1                  1            ...               \n",
       "2                1                  1            ...               \n",
       "3                1                  1            ...               \n",
       "4                1                  1            ...               \n",
       "\n",
       "  product_name_lenght product_description_lenght product_photos_qty  \\\n",
       "0                  54                       1536                  2   \n",
       "1                  60                        188                  1   \n",
       "2                  57                        242                  1   \n",
       "3                  41                        799                  1   \n",
       "4                  38                        617                  2   \n",
       "\n",
       "                         product_id                         review_id  \\\n",
       "0  2028bf1b01cafb2d2b1901fca4083222  25e8ea4e93396b6fa0d3dd708e76c1bd   \n",
       "1  548e5bfe28edceab6b51fa707cc9556f  ba78997921bbcdc1373bb41e913ab953   \n",
       "2  386486367c1f9d4f587a8864ccb6902b  42fdf880ba16b47b59251dd489d4441a   \n",
       "3  42a2c92a0979a949ca4ea89ec5c7b934  771ee386b001f06208a7419e4fc1bbd7   \n",
       "4  05bb531648459f3fb15bda0cdbf21322  62fe0bd75deb58982ebf8e53a128a301   \n",
       "\n",
       "  review_score review_comment_title  \\\n",
       "0            5                  NaN   \n",
       "1            5                  NaN   \n",
       "2            5                  NaN   \n",
       "3            5                  NaN   \n",
       "4            5                  NaN   \n",
       "\n",
       "                              review_comment_message  \\\n",
       "0                                           aprovada   \n",
       "1                                                NaN   \n",
       "2                                                NaN   \n",
       "3          fiquei muito satisfeita chegou bom rápido   \n",
       "4  produto excelente boa fixação muito bom mesmo ...   \n",
       "\n",
       "         review_creation_date    review_answer_timestamp  \n",
       "0  2017-12-19 00:00:00.000000  2017-12-22 19:55:30+00:00  \n",
       "1  2017-12-21 00:00:00.000000  2017-12-21 23:42:31+00:00  \n",
       "2  2018-06-02 00:00:00.000000  2018-06-05 18:19:55+00:00  \n",
       "3  2017-07-04 00:00:00.000000  2017-07-05 03:12:17+00:00  \n",
       "4  2017-02-18 00:00:00.000000  2017-02-19 03:12:25+00:00  \n",
       "\n",
       "[5 rows x 29 columns]"
      ]
     },
     "execution_count": 81,
     "metadata": {},
     "output_type": "execute_result"
    }
   ],
   "source": [
    "result = pd.merge(payment, public, left_on='order_id', right_on='order_id', how='right')\n",
    "result.head()"
   ]
  },
  {
   "cell_type": "code",
   "execution_count": 82,
   "metadata": {},
   "outputs": [
    {
     "data": {
      "text/plain": [
       "(104433, 29)"
      ]
     },
     "execution_count": 82,
     "metadata": {},
     "output_type": "execute_result"
    }
   ],
   "source": [
    "result.shape"
   ]
  },
  {
   "cell_type": "code",
   "execution_count": 79,
   "metadata": {},
   "outputs": [
    {
     "data": {
      "text/plain": [
       "(100000, 25)"
      ]
     },
     "execution_count": 79,
     "metadata": {},
     "output_type": "execute_result"
    }
   ],
   "source": [
    "public.shape"
   ]
  },
  {
   "cell_type": "code",
   "execution_count": 80,
   "metadata": {},
   "outputs": [
    {
     "data": {
      "text/plain": [
       "(97433, 5)"
      ]
     },
     "execution_count": 80,
     "metadata": {},
     "output_type": "execute_result"
    }
   ],
   "source": [
    "payment.shape"
   ]
  },
  {
   "cell_type": "code",
   "execution_count": 83,
   "metadata": {},
   "outputs": [
    {
     "data": {
      "text/plain": [
       "7000"
      ]
     },
     "execution_count": 83,
     "metadata": {},
     "output_type": "execute_result"
    }
   ],
   "source": [
    "result['payment_type'].isnull().sum()"
   ]
  },
  {
   "cell_type": "code",
   "execution_count": 88,
   "metadata": {},
   "outputs": [
    {
     "data": {
      "text/plain": [
       "(6746, 29)"
      ]
     },
     "execution_count": 88,
     "metadata": {},
     "output_type": "execute_result"
    }
   ],
   "source": [
    "#-- dropando o restante de vazios\n",
    "result_no = result.dropna()\n",
    "result_no.head()\n",
    "result_no.shape"
   ]
  },
  {
   "cell_type": "code",
   "execution_count": 97,
   "metadata": {},
   "outputs": [],
   "source": []
  },
  {
   "cell_type": "code",
   "execution_count": null,
   "metadata": {},
   "outputs": [],
   "source": []
  },
  {
   "cell_type": "code",
   "execution_count": 132,
   "metadata": {},
   "outputs": [
    {
     "data": {
      "text/html": [
       "<div>\n",
       "<style scoped>\n",
       "    .dataframe tbody tr th:only-of-type {\n",
       "        vertical-align: middle;\n",
       "    }\n",
       "\n",
       "    .dataframe tbody tr th {\n",
       "        vertical-align: top;\n",
       "    }\n",
       "\n",
       "    .dataframe thead th {\n",
       "        text-align: right;\n",
       "    }\n",
       "</style>\n",
       "<table border=\"1\" class=\"dataframe\">\n",
       "  <thead>\n",
       "    <tr style=\"text-align: right;\">\n",
       "      <th></th>\n",
       "      <th>order_id</th>\n",
       "      <th>installments</th>\n",
       "      <th>sequential</th>\n",
       "      <th>payment_type</th>\n",
       "      <th>value</th>\n",
       "      <th>order_status</th>\n",
       "      <th>order_products_value</th>\n",
       "      <th>order_freight_value</th>\n",
       "      <th>order_items_qty</th>\n",
       "      <th>order_sellers_qty</th>\n",
       "      <th>...</th>\n",
       "      <th>product_name_lenght</th>\n",
       "      <th>product_description_lenght</th>\n",
       "      <th>product_photos_qty</th>\n",
       "      <th>product_id</th>\n",
       "      <th>review_id</th>\n",
       "      <th>review_score</th>\n",
       "      <th>review_comment_title</th>\n",
       "      <th>review_comment_message</th>\n",
       "      <th>review_creation_date</th>\n",
       "      <th>review_answer_timestamp</th>\n",
       "    </tr>\n",
       "  </thead>\n",
       "  <tbody>\n",
       "    <tr>\n",
       "      <th>10</th>\n",
       "      <td>616105c9352a9668c38303ad44e056cd</td>\n",
       "      <td>1.0</td>\n",
       "      <td>1.0</td>\n",
       "      <td>credit_card</td>\n",
       "      <td>75.78</td>\n",
       "      <td>delivered</td>\n",
       "      <td>39.3</td>\n",
       "      <td>36.48</td>\n",
       "      <td>2</td>\n",
       "      <td>1</td>\n",
       "      <td>...</td>\n",
       "      <td>52</td>\n",
       "      <td>390</td>\n",
       "      <td>1</td>\n",
       "      <td>5d66715cc928aadd0074f61332698593</td>\n",
       "      <td>616105c9352a9668c38303ad44e056cd</td>\n",
       "      <td>2</td>\n",
       "      <td>Regular</td>\n",
       "      <td>comprei 2 produtos chegou apenas 1 aguardo ret...</td>\n",
       "      <td>2018-06-22 00:00:00.000000</td>\n",
       "      <td>2018-06-22 17:58:29+00:00</td>\n",
       "    </tr>\n",
       "    <tr>\n",
       "      <th>19</th>\n",
       "      <td>31c887ace04e353762156ec1cf3df71b</td>\n",
       "      <td>7.0</td>\n",
       "      <td>1.0</td>\n",
       "      <td>credit_card</td>\n",
       "      <td>730.73</td>\n",
       "      <td>delivered</td>\n",
       "      <td>689.0</td>\n",
       "      <td>41.73</td>\n",
       "      <td>1</td>\n",
       "      <td>1</td>\n",
       "      <td>...</td>\n",
       "      <td>46</td>\n",
       "      <td>287</td>\n",
       "      <td>1</td>\n",
       "      <td>e1c0f330f39bc1f10c9bce770664c920</td>\n",
       "      <td>31c887ace04e353762156ec1cf3df71b</td>\n",
       "      <td>5</td>\n",
       "      <td>Muito bom</td>\n",
       "      <td>apenas uma crítica construtiva a nota fiscal l...</td>\n",
       "      <td>2018-08-17 00:00:00.000000</td>\n",
       "      <td>2018-08-22 16:29:25+00:00</td>\n",
       "    </tr>\n",
       "    <tr>\n",
       "      <th>22</th>\n",
       "      <td>4d680edbaa7d3d9bed69532957368a03</td>\n",
       "      <td>10.0</td>\n",
       "      <td>1.0</td>\n",
       "      <td>credit_card</td>\n",
       "      <td>353.09</td>\n",
       "      <td>delivered</td>\n",
       "      <td>167.0</td>\n",
       "      <td>13.22</td>\n",
       "      <td>1</td>\n",
       "      <td>2</td>\n",
       "      <td>...</td>\n",
       "      <td>48</td>\n",
       "      <td>409</td>\n",
       "      <td>4</td>\n",
       "      <td>0ec96e6d31a1493b0475805c9ae1a0a2</td>\n",
       "      <td>4d680edbaa7d3d9bed69532957368a03</td>\n",
       "      <td>1</td>\n",
       "      <td>Pedido não entregue</td>\n",
       "      <td>se não me derem uma posição quanto o meu pedid...</td>\n",
       "      <td>2018-08-28 00:00:00.000000</td>\n",
       "      <td>2018-08-30 14:07:07+00:00</td>\n",
       "    </tr>\n",
       "    <tr>\n",
       "      <th>37</th>\n",
       "      <td>18786e2a92bcd94ae9218f173ffe8f72</td>\n",
       "      <td>8.0</td>\n",
       "      <td>1.0</td>\n",
       "      <td>credit_card</td>\n",
       "      <td>340.07</td>\n",
       "      <td>delivered</td>\n",
       "      <td>330.0</td>\n",
       "      <td>10.07</td>\n",
       "      <td>1</td>\n",
       "      <td>1</td>\n",
       "      <td>...</td>\n",
       "      <td>60</td>\n",
       "      <td>2644</td>\n",
       "      <td>6</td>\n",
       "      <td>bb50f2e236e5eea0100680137654686c</td>\n",
       "      <td>18786e2a92bcd94ae9218f173ffe8f72</td>\n",
       "      <td>5</td>\n",
       "      <td>super recomendo</td>\n",
       "      <td>entrega rápida produto conforme descrito</td>\n",
       "      <td>2018-05-20 00:00:00.000000</td>\n",
       "      <td>2018-05-22 00:06:45+00:00</td>\n",
       "    </tr>\n",
       "    <tr>\n",
       "      <th>52</th>\n",
       "      <td>3745fa961ec2b1d9870ca79abbf4811a</td>\n",
       "      <td>2.0</td>\n",
       "      <td>1.0</td>\n",
       "      <td>credit_card</td>\n",
       "      <td>84.58</td>\n",
       "      <td>delivered</td>\n",
       "      <td>69.0</td>\n",
       "      <td>15.58</td>\n",
       "      <td>1</td>\n",
       "      <td>1</td>\n",
       "      <td>...</td>\n",
       "      <td>55</td>\n",
       "      <td>151</td>\n",
       "      <td>6</td>\n",
       "      <td>44d097d59e8430f88a67517cd0c4f865</td>\n",
       "      <td>3745fa961ec2b1d9870ca79abbf4811a</td>\n",
       "      <td>2</td>\n",
       "      <td>Carteira de couro marrom</td>\n",
       "      <td>o produto veio com defeito espero que não demo...</td>\n",
       "      <td>2018-08-29 00:00:00.000000</td>\n",
       "      <td>2018-09-01 01:29:09+00:00</td>\n",
       "    </tr>\n",
       "  </tbody>\n",
       "</table>\n",
       "<p>5 rows × 29 columns</p>\n",
       "</div>"
      ],
      "text/plain": [
       "                            order_id  installments  sequential payment_type  \\\n",
       "10  616105c9352a9668c38303ad44e056cd           1.0         1.0  credit_card   \n",
       "19  31c887ace04e353762156ec1cf3df71b           7.0         1.0  credit_card   \n",
       "22  4d680edbaa7d3d9bed69532957368a03          10.0         1.0  credit_card   \n",
       "37  18786e2a92bcd94ae9218f173ffe8f72           8.0         1.0  credit_card   \n",
       "52  3745fa961ec2b1d9870ca79abbf4811a           2.0         1.0  credit_card   \n",
       "\n",
       "     value order_status  order_products_value  order_freight_value  \\\n",
       "10   75.78    delivered                  39.3                36.48   \n",
       "19  730.73    delivered                 689.0                41.73   \n",
       "22  353.09    delivered                 167.0                13.22   \n",
       "37  340.07    delivered                 330.0                10.07   \n",
       "52   84.58    delivered                  69.0                15.58   \n",
       "\n",
       "    order_items_qty  order_sellers_qty            ...              \\\n",
       "10                2                  1            ...               \n",
       "19                1                  1            ...               \n",
       "22                1                  2            ...               \n",
       "37                1                  1            ...               \n",
       "52                1                  1            ...               \n",
       "\n",
       "   product_name_lenght product_description_lenght product_photos_qty  \\\n",
       "10                  52                        390                  1   \n",
       "19                  46                        287                  1   \n",
       "22                  48                        409                  4   \n",
       "37                  60                       2644                  6   \n",
       "52                  55                        151                  6   \n",
       "\n",
       "                          product_id                         review_id  \\\n",
       "10  5d66715cc928aadd0074f61332698593  616105c9352a9668c38303ad44e056cd   \n",
       "19  e1c0f330f39bc1f10c9bce770664c920  31c887ace04e353762156ec1cf3df71b   \n",
       "22  0ec96e6d31a1493b0475805c9ae1a0a2  4d680edbaa7d3d9bed69532957368a03   \n",
       "37  bb50f2e236e5eea0100680137654686c  18786e2a92bcd94ae9218f173ffe8f72   \n",
       "52  44d097d59e8430f88a67517cd0c4f865  3745fa961ec2b1d9870ca79abbf4811a   \n",
       "\n",
       "   review_score       review_comment_title  \\\n",
       "10            2                    Regular   \n",
       "19            5                  Muito bom   \n",
       "22            1       Pedido não entregue    \n",
       "37            5            super recomendo   \n",
       "52            2  Carteira de couro marrom    \n",
       "\n",
       "                               review_comment_message  \\\n",
       "10  comprei 2 produtos chegou apenas 1 aguardo ret...   \n",
       "19  apenas uma crítica construtiva a nota fiscal l...   \n",
       "22  se não me derem uma posição quanto o meu pedid...   \n",
       "37           entrega rápida produto conforme descrito   \n",
       "52  o produto veio com defeito espero que não demo...   \n",
       "\n",
       "          review_creation_date    review_answer_timestamp  \n",
       "10  2018-06-22 00:00:00.000000  2018-06-22 17:58:29+00:00  \n",
       "19  2018-08-17 00:00:00.000000  2018-08-22 16:29:25+00:00  \n",
       "22  2018-08-28 00:00:00.000000  2018-08-30 14:07:07+00:00  \n",
       "37  2018-05-20 00:00:00.000000  2018-05-22 00:06:45+00:00  \n",
       "52  2018-08-29 00:00:00.000000  2018-09-01 01:29:09+00:00  \n",
       "\n",
       "[5 rows x 29 columns]"
      ]
     },
     "execution_count": 132,
     "metadata": {},
     "output_type": "execute_result"
    }
   ],
   "source": [
    "res_cred = result_no[result_no.payment_type == 'credit_card']\n",
    "res_cred.head()"
   ]
  },
  {
   "cell_type": "code",
   "execution_count": null,
   "metadata": {},
   "outputs": [],
   "source": []
  },
  {
   "cell_type": "code",
   "execution_count": null,
   "metadata": {},
   "outputs": [],
   "source": []
  },
  {
   "cell_type": "code",
   "execution_count": 133,
   "metadata": {},
   "outputs": [
    {
     "data": {
      "text/plain": [
       "<matplotlib.axes._subplots.AxesSubplot at 0x7fe428ab9fd0>"
      ]
     },
     "execution_count": 133,
     "metadata": {},
     "output_type": "execute_result"
    },
    {
     "data": {
      "image/png": "[encoded data removed]",
      "text/plain": [
       "<Figure size 432x288 with 1 Axes>"
      ]
     },
     "metadata": {
      "needs_background": "light"
     },
     "output_type": "display_data"
    }
   ],
   "source": [
    "sns.countplot(res_cred['customer_state'], order = res_cred['customer_state'].value_counts().index)"
   ]
  },
  {
   "cell_type": "code",
   "execution_count": 134,
   "metadata": {},
   "outputs": [],
   "source": [
    "res_bol = result_no[result_no.payment_type == 'boleto']"
   ]
  },
  {
   "cell_type": "code",
   "execution_count": 135,
   "metadata": {},
   "outputs": [
    {
     "data": {
      "text/plain": [
       "<matplotlib.axes._subplots.AxesSubplot at 0x7fe428b11198>"
      ]
     },
     "execution_count": 135,
     "metadata": {},
     "output_type": "execute_result"
    },
    {
     "data": {
      "image/png": "[encoded data removed]",
      "text/plain": [
       "<Figure size 432x288 with 1 Axes>"
      ]
     },
     "metadata": {
      "needs_background": "light"
     },
     "output_type": "display_data"
    }
   ],
   "source": [
    "sns.countplot(res_bol['customer_state'], order = res_bol['customer_state'].value_counts().index)"
   ]
  },
  {
   "cell_type": "code",
   "execution_count": 136,
   "metadata": {},
   "outputs": [
    {
     "ename": "ValueError",
     "evalue": "The truth value of a Series is ambiguous. Use a.empty, a.bool(), a.item(), a.any() or a.all().",
     "output_type": "error",
     "traceback": [
      "\u001b[0;31m---------------------------------------------------------------------------\u001b[0m",
      "\u001b[0;31mValueError\u001b[0m                                Traceback (most recent call last)",
      "\u001b[0;32m<ipython-input-136-bf3702cc772d>\u001b[0m in \u001b[0;36m<module>\u001b[0;34m\u001b[0m\n\u001b[1;32m      3\u001b[0m \u001b[0ma2\u001b[0m \u001b[0;34m=\u001b[0m \u001b[0mresult_no\u001b[0m\u001b[0;34m[\u001b[0m\u001b[0;34m'customer_state'\u001b[0m\u001b[0;34m]\u001b[0m\u001b[0;34m[\u001b[0m\u001b[0mresult_no\u001b[0m\u001b[0;34m[\u001b[0m\u001b[0;34m'payment_type'\u001b[0m\u001b[0;34m]\u001b[0m \u001b[0;34m==\u001b[0m \u001b[0;34m'boleto'\u001b[0m\u001b[0;34m]\u001b[0m\u001b[0;34m.\u001b[0m\u001b[0mvalue_counts\u001b[0m\u001b[0;34m(\u001b[0m\u001b[0;34m)\u001b[0m\u001b[0;34m\u001b[0m\u001b[0m\n\u001b[1;32m      4\u001b[0m \u001b[0;34m\u001b[0m\u001b[0m\n\u001b[0;32m----> 5\u001b[0;31m \u001b[0mchi2_stat\u001b[0m\u001b[0;34m,\u001b[0m \u001b[0mp_val\u001b[0m\u001b[0;34m,\u001b[0m \u001b[0mdof\u001b[0m\u001b[0;34m,\u001b[0m \u001b[0mex\u001b[0m \u001b[0;34m=\u001b[0m \u001b[0mstats\u001b[0m\u001b[0;34m.\u001b[0m\u001b[0mchi2_contingency\u001b[0m\u001b[0;34m(\u001b[0m\u001b[0mnp\u001b[0m\u001b[0;34m.\u001b[0m\u001b[0marray\u001b[0m\u001b[0;34m(\u001b[0m\u001b[0;34m[\u001b[0m\u001b[0ma1\u001b[0m \u001b[0;34m,\u001b[0m \u001b[0ma2\u001b[0m\u001b[0;34m]\u001b[0m\u001b[0;34m)\u001b[0m\u001b[0;34m)\u001b[0m\u001b[0;34m\u001b[0m\u001b[0m\n\u001b[0m\u001b[1;32m      6\u001b[0m \u001b[0mprint\u001b[0m\u001b[0;34m(\u001b[0m\u001b[0;34m\"===Chi2 Stat===\"\u001b[0m\u001b[0;34m)\u001b[0m\u001b[0;34m\u001b[0m\u001b[0m\n\u001b[1;32m      7\u001b[0m \u001b[0mprint\u001b[0m\u001b[0;34m(\u001b[0m\u001b[0mchi2_stat\u001b[0m\u001b[0;34m)\u001b[0m\u001b[0;34m\u001b[0m\u001b[0m\n",
      "\u001b[0;32m~/anaconda3/envs/tera-out2018/lib/python3.6/site-packages/scipy/stats/contingency.py\u001b[0m in \u001b[0;36mchi2_contingency\u001b[0;34m(observed, correction, lambda_)\u001b[0m\n\u001b[1;32m    240\u001b[0m     \"\"\"\n\u001b[1;32m    241\u001b[0m     \u001b[0mobserved\u001b[0m \u001b[0;34m=\u001b[0m \u001b[0mnp\u001b[0m\u001b[0;34m.\u001b[0m\u001b[0masarray\u001b[0m\u001b[0;34m(\u001b[0m\u001b[0mobserved\u001b[0m\u001b[0;34m)\u001b[0m\u001b[0;34m\u001b[0m\u001b[0m\n\u001b[0;32m--> 242\u001b[0;31m     \u001b[0;32mif\u001b[0m \u001b[0mnp\u001b[0m\u001b[0;34m.\u001b[0m\u001b[0many\u001b[0m\u001b[0;34m(\u001b[0m\u001b[0mobserved\u001b[0m \u001b[0;34m<\u001b[0m \u001b[0;36m0\u001b[0m\u001b[0;34m)\u001b[0m\u001b[0;34m:\u001b[0m\u001b[0;34m\u001b[0m\u001b[0m\n\u001b[0m\u001b[1;32m    243\u001b[0m         \u001b[0;32mraise\u001b[0m \u001b[0mValueError\u001b[0m\u001b[0;34m(\u001b[0m\u001b[0;34m\"All values in `observed` must be nonnegative.\"\u001b[0m\u001b[0;34m)\u001b[0m\u001b[0;34m\u001b[0m\u001b[0m\n\u001b[1;32m    244\u001b[0m     \u001b[0;32mif\u001b[0m \u001b[0mobserved\u001b[0m\u001b[0;34m.\u001b[0m\u001b[0msize\u001b[0m \u001b[0;34m==\u001b[0m \u001b[0;36m0\u001b[0m\u001b[0;34m:\u001b[0m\u001b[0;34m\u001b[0m\u001b[0m\n",
      "\u001b[0;32m~/.local/lib/python3.6/site-packages/pandas/core/generic.py\u001b[0m in \u001b[0;36m__nonzero__\u001b[0;34m(self)\u001b[0m\n\u001b[1;32m   1574\u001b[0m         raise ValueError(\"The truth value of a {0} is ambiguous. \"\n\u001b[1;32m   1575\u001b[0m                          \u001b[0;34m\"Use a.empty, a.bool(), a.item(), a.any() or a.all().\"\u001b[0m\u001b[0;34m\u001b[0m\u001b[0m\n\u001b[0;32m-> 1576\u001b[0;31m                          .format(self.__class__.__name__))\n\u001b[0m\u001b[1;32m   1577\u001b[0m \u001b[0;34m\u001b[0m\u001b[0m\n\u001b[1;32m   1578\u001b[0m     \u001b[0m__bool__\u001b[0m \u001b[0;34m=\u001b[0m \u001b[0m__nonzero__\u001b[0m\u001b[0;34m\u001b[0m\u001b[0m\n",
      "\u001b[0;31mValueError\u001b[0m: The truth value of a Series is ambiguous. Use a.empty, a.bool(), a.item(), a.any() or a.all()."
     ]
    }
   ],
   "source": [
    "#-- teste do qui quadrado\n",
    "a1 = result_no['customer_state'][result_no['payment_type'] == 'credit_card'].value_counts()\n",
    "a2 = result_no['customer_state'][result_no['payment_type'] == 'boleto'].value_counts()\n",
    "\n",
    "chi2_stat, p_val, dof, ex = stats.chi2_contingency(np.array([a1 , a2]))\n",
    "print(\"===Chi2 Stat===\")\n",
    "print(chi2_stat)\n",
    "print(\"\\n\")\n",
    "print(\"===Degrees of Freedom===\")\n",
    "print(dof)\n",
    "print(\"\\n\")\n",
    "print(\"===P-Value===\")\n",
    "print(p_val)\n",
    "print(\"\\n\")"
   ]
  },
  {
   "cell_type": "code",
   "execution_count": null,
   "metadata": {},
   "outputs": [],
   "source": []
  },
  {
   "cell_type": "code",
   "execution_count": null,
   "metadata": {},
   "outputs": [],
   "source": []
  },
  {
   "cell_type": "code",
   "execution_count": null,
   "metadata": {},
   "outputs": [],
   "source": []
  },
  {
   "cell_type": "code",
   "execution_count": null,
   "metadata": {},
   "outputs": [],
   "source": []
  },
  {
   "cell_type": "code",
   "execution_count": null,
   "metadata": {},
   "outputs": [],
   "source": []
  },
  {
   "cell_type": "code",
   "execution_count": null,
   "metadata": {},
   "outputs": [],
   "source": []
  },
  {
   "cell_type": "code",
   "execution_count": 54,
   "metadata": {},
   "outputs": [
    {
     "data": {
      "text/plain": [
       "(0, 500)"
      ]
     },
     "execution_count": 54,
     "metadata": {},
     "output_type": "execute_result"
    },
    {
     "data": {
      "image/png": "[encoded data removed]",
      "text/plain": [
       "<Figure size 432x288 with 1 Axes>"
      ]
     },
     "metadata": {
      "needs_background": "light"
     },
     "output_type": "display_data"
    }
   ],
   "source": [
    "_ = sns.boxplot(x=payment['payment_type'], y=payment['value'])\n",
    "plt.ylim([0,500])"
   ]
  },
  {
   "cell_type": "code",
   "execution_count": null,
   "metadata": {},
   "outputs": [],
   "source": []
  },
  {
   "cell_type": "code",
   "execution_count": 50,
   "metadata": {},
   "outputs": [
    {
     "data": {
      "text/plain": [
       "3"
      ]
     },
     "execution_count": 50,
     "metadata": {},
     "output_type": "execute_result"
    }
   ],
   "source": [
    "sum(payment.value == 0)"
   ]
  },
  {
   "cell_type": "code",
   "execution_count": 55,
   "metadata": {},
   "outputs": [
    {
     "name": "stderr",
     "output_type": "stream",
     "text": [
      "/home/cintia/anaconda3/envs/tera-out2018/lib/python3.6/site-packages/scipy/stats/morestats.py:1309: UserWarning:\n",
      "\n",
      "p-value may not be accurate for N > 5000.\n",
      "\n"
     ]
    },
    {
     "data": {
      "text/plain": [
       "(0.48680007457733154, 0.0)"
      ]
     },
     "execution_count": 55,
     "metadata": {},
     "output_type": "execute_result"
    }
   ],
   "source": [
    "stats.shapiro(payment['value'][payment['payment_type'] == 'credit_card'])"
   ]
  },
  {
   "cell_type": "code",
   "execution_count": 56,
   "metadata": {},
   "outputs": [
    {
     "data": {
      "text/plain": [
       "(0.3798255920410156, 0.0)"
      ]
     },
     "execution_count": 56,
     "metadata": {},
     "output_type": "execute_result"
    }
   ],
   "source": [
    "stats.shapiro(payment['value'][payment['payment_type'] == 'boleto'])"
   ]
  },
  {
   "cell_type": "code",
   "execution_count": 57,
   "metadata": {},
   "outputs": [
    {
     "data": {
      "text/plain": [
       "(0.5839502811431885, 0.0)"
      ]
     },
     "execution_count": 57,
     "metadata": {},
     "output_type": "execute_result"
    }
   ],
   "source": [
    "stats.shapiro(payment['value'][payment['payment_type'] == 'voucher'])"
   ]
  },
  {
   "cell_type": "code",
   "execution_count": 58,
   "metadata": {},
   "outputs": [
    {
     "data": {
      "text/plain": [
       "(0.5792151689529419, 0.0)"
      ]
     },
     "execution_count": 58,
     "metadata": {},
     "output_type": "execute_result"
    }
   ],
   "source": [
    "stats.shapiro(payment['value'][payment['payment_type'] == 'debit_card'])"
   ]
  },
  {
   "cell_type": "code",
   "execution_count": 60,
   "metadata": {},
   "outputs": [
    {
     "data": {
      "text/plain": [
       "Text(0.5,1,'payment_type Igual a credit_card Q-Q Plot')"
      ]
     },
     "execution_count": 60,
     "metadata": {},
     "output_type": "execute_result"
    },
    {
     "data": {
      "image/png": "[encoded data removed]",
      "text/plain": [
       "<Figure size 432x288 with 1 Axes>"
      ]
     },
     "metadata": {
      "needs_background": "light"
     },
     "output_type": "display_data"
    }
   ],
   "source": [
    "stats.probplot(payment['value'][payment['payment_type'] == 'credit_card'], plot= plt)\n",
    "plt.title(\"payment_type Igual a credit_card Q-Q Plot\")"
   ]
  },
  {
   "cell_type": "code",
   "execution_count": 62,
   "metadata": {},
   "outputs": [
    {
     "data": {
      "text/plain": [
       "LeveneResult(statistic=144.6479131240893, pvalue=1.585742901701752e-93)"
      ]
     },
     "execution_count": 62,
     "metadata": {},
     "output_type": "execute_result"
    }
   ],
   "source": [
    "#-- teste de variância\n",
    "stats.levene(payment['value'][payment['payment_type'] == 'credit_card'],\n",
    "            payment['value'][payment['payment_type'] == 'boleto'],\n",
    "            payment['value'][payment['payment_type'] == 'voucher'],\n",
    "            payment['value'][payment['payment_type'] == 'debit_card'])"
   ]
  },
  {
   "cell_type": "code",
   "execution_count": 66,
   "metadata": {},
   "outputs": [
    {
     "data": {
      "text/plain": [
       "F_onewayResult(statistic=60.25344069978495, pvalue=7.070081918835163e-27)"
      ]
     },
     "execution_count": 66,
     "metadata": {},
     "output_type": "execute_result"
    }
   ],
   "source": [
    "stats.f_oneway(payment['value'][payment['payment_type'] == 'credit_card'],\n",
    "            payment['value'][payment['payment_type'] == 'boleto'],\n",
    "            payment['value'][payment['payment_type'] == 'voucher'],\n",
    "            payment['value'][payment['payment_type'] == 'debit_card'])"
   ]
  },
  {
   "cell_type": "code",
   "execution_count": 69,
   "metadata": {},
   "outputs": [
    {
     "data": {
      "text/plain": [
       "Ttest_indResult(statistic=3.045766011807869, pvalue=0.0023238866835768755)"
      ]
     },
     "execution_count": 69,
     "metadata": {},
     "output_type": "execute_result"
    }
   ],
   "source": [
    "stats.ttest_ind(payment['value'][payment['payment_type'] == 'boleto'],\n",
    "            payment['value'][payment['payment_type'] == 'debit_card'])"
   ]
  },
  {
   "cell_type": "code",
   "execution_count": 65,
   "metadata": {},
   "outputs": [
    {
     "data": {
      "text/plain": [
       "KruskalResult(statistic=5754.429058776404, pvalue=0.0)"
      ]
     },
     "execution_count": 65,
     "metadata": {},
     "output_type": "execute_result"
    }
   ],
   "source": [
    "stats.kruskal(payment['value'][payment['payment_type'] == 'credit_card'],\n",
    "            payment['value'][payment['payment_type'] == 'boleto'],\n",
    "            payment['value'][payment['payment_type'] == 'voucher'],\n",
    "            payment['value'][payment['payment_type'] == 'debit_card'])"
   ]
  },
  {
   "cell_type": "code",
   "execution_count": null,
   "metadata": {},
   "outputs": [],
   "source": []
  },
  {
   "cell_type": "code",
   "execution_count": null,
   "metadata": {},
   "outputs": [],
   "source": []
  },
  {
   "cell_type": "code",
   "execution_count": null,
   "metadata": {},
   "outputs": [],
   "source": []
  },
  {
   "cell_type": "markdown",
   "metadata": {},
   "source": [
    "# 3- Definir a Hipótese\n",
    "\n",
    "![Explo](img/what-if.jpg \"Variables specification\")"
   ]
  },
  {
   "cell_type": "markdown",
   "metadata": {},
   "source": [
    "Existe correlação entre valor de compra e tipo de pagamento? Não existe correlação."
   ]
  },
  {
   "cell_type": "markdown",
   "metadata": {},
   "source": [
    "Se os tipos de pagamento tem a mesma média"
   ]
  },
  {
   "cell_type": "code",
   "execution_count": null,
   "metadata": {},
   "outputs": [],
   "source": []
  },
  {
   "cell_type": "markdown",
   "metadata": {},
   "source": [
    "# 4- Corrigir os ruídos e Organizar o Dataset\n",
    "\n",
    "> Drop, fillna, NumericalFeaturesImputer...\n",
    "\n",
    "<br>\n",
    "<center>\n",
    "<img src=\"http://media.tumblr.com/tumblr_medmv9n8JL1ro2d43.gif\" alt=\"drawing\" width=\"500px\"></center>"
   ]
  },
  {
   "cell_type": "code",
   "execution_count": null,
   "metadata": {},
   "outputs": [],
   "source": []
  },
  {
   "cell_type": "code",
   "execution_count": null,
   "metadata": {},
   "outputs": [],
   "source": []
  },
  {
   "cell_type": "code",
   "execution_count": null,
   "metadata": {},
   "outputs": [],
   "source": []
  },
  {
   "cell_type": "code",
   "execution_count": null,
   "metadata": {},
   "outputs": [],
   "source": []
  },
  {
   "cell_type": "markdown",
   "metadata": {},
   "source": [
    "# 5- Avaliar a Hipótese\n",
    "\n",
    "> Gráficos ou testes de hipóteses\n",
    "\n",
    "<br>\n",
    "<center>\n",
    "<img src=\"https://media1.tenor.com/images/c109257362ef9924a11c64fd1b051f43/tenor.gif?itemid=5205898\" alt=\"drawing\" width=\"500px\"></center>"
   ]
  },
  {
   "cell_type": "code",
   "execution_count": null,
   "metadata": {},
   "outputs": [],
   "source": []
  },
  {
   "cell_type": "code",
   "execution_count": null,
   "metadata": {},
   "outputs": [],
   "source": []
  },
  {
   "cell_type": "code",
   "execution_count": null,
   "metadata": {},
   "outputs": [],
   "source": []
  },
  {
   "cell_type": "code",
   "execution_count": null,
   "metadata": {},
   "outputs": [],
   "source": []
  },
  {
   "cell_type": "markdown",
   "metadata": {},
   "source": [
    "# 6- Preparar e Apresentar os Resultados\n",
    "\n",
    "<br>\n",
    "<center>\n",
    "<img src=\"https://i.imgur.com/CKyA2sd.gif\" alt=\"drawing\" width=\"500px\"></center>"
   ]
  },
  {
   "cell_type": "code",
   "execution_count": null,
   "metadata": {},
   "outputs": [],
   "source": []
  },
  {
   "cell_type": "code",
   "execution_count": null,
   "metadata": {},
   "outputs": [],
   "source": []
  },
  {
   "cell_type": "code",
   "execution_count": null,
   "metadata": {},
   "outputs": [],
   "source": []
  },
  {
   "cell_type": "code",
   "execution_count": null,
   "metadata": {},
   "outputs": [],
   "source": []
  }
 ],
 "metadata": {
  "kernelspec": {
   "display_name": "Python 3",
   "language": "python",
   "name": "python3"
  },
  "language_info": {
   "codemirror_mode": {
    "name": "ipython",
    "version": 3
   },
   "file_extension": ".py",
   "mimetype": "text/x-python",
   "name": "python",
   "nbconvert_exporter": "python",
   "pygments_lexer": "ipython3",
   "version": "3.6.5"
  }
 },
 "nbformat": 4,
 "nbformat_minor": 2
}
