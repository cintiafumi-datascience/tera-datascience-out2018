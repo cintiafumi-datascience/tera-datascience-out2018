{
 "cells": [
  {
   "cell_type": "markdown",
   "metadata": {},
   "source": [
    "# Parte 1: Efeitos da Regularização no Treinamento"
   ]
  },
  {
   "cell_type": "markdown",
   "metadata": {},
   "source": [
    "## Objetivos:\n",
    "\n",
    "O objetivo desse desafio é avaliar as diferenças entre os modelos treinados sem regularização e os modelos treinados com regularização do tipo L1 e do tipo L2.\n"
   ]
  },
  {
   "cell_type": "markdown",
   "metadata": {},
   "source": [
    "## conceitos:\n",
    "\n",
    "A regularização é uma família de técnicas utilizadas para limitar o range de valores que os parâmetros do modelo podem atingir durante o treinamento. É utilizada em problemas de otimização para buscar soluções dentro de uma limitação específica imposta ao modelo.\n",
    "\n",
    "A regularização do tipo L1 força que, a cada iteração de treinamento, o valor de todos os parâmetros decaiam **linearmente**. A regressão do tipo L2, por outro lado, força o deacimento **quadrático** de todos os parâmetros. A figura abaixo mostra as funções aplicadas aos parâmetros:\n",
    "\n",
    "![Funções das Regularizações L1 & L2](images/lasso_and_ridge.png)\n",
    "\n",
    "O objetivo de ambas as regularizações é buscar soluções onde a **magnitude dos parâmetros seja a menor possível**.\n"
   ]
  },
  {
   "cell_type": "markdown",
   "metadata": {},
   "source": [
    "___"
   ]
  },
  {
   "cell_type": "markdown",
   "metadata": {},
   "source": [
    "# Imports"
   ]
  },
  {
   "cell_type": "code",
   "execution_count": null,
   "metadata": {
    "collapsed": true
   },
   "outputs": [],
   "source": [
    "%matplotlib inline\n",
    "import matplotlib.pyplot as plt\n",
    "import seaborn as sns"
   ]
  },
  {
   "cell_type": "code",
   "execution_count": null,
   "metadata": {
    "collapsed": true
   },
   "outputs": [],
   "source": [
    "import numpy as np\n",
    "import os\n",
    "import pandas as pd"
   ]
  },
  {
   "cell_type": "code",
   "execution_count": null,
   "metadata": {
    "collapsed": true
   },
   "outputs": [],
   "source": [
    "from sklearn.linear_model import Lasso, LinearRegression, Ridge\n",
    "from sklearn.metrics.regression import mean_squared_error, r2_score\n",
    "from sklearn.preprocessing import StandardScaler"
   ]
  },
  {
   "cell_type": "markdown",
   "metadata": {},
   "source": [
    "# Dataset:"
   ]
  },
  {
   "cell_type": "markdown",
   "metadata": {},
   "source": [
    "## Sobre o Case\n",
    "\n",
    "### Case baseado no dataset do Kaggle: \"California Housing Prices\"\n",
    "\n",
    "Esse desafio é baseado em um dataset aberto do Kaggle ([https://www.kaggle.com](https://www.kaggle.com)) de 2018, de onde é possível estimar o preço de um imóvel pertencente a uma dada região na Califórnia. \n",
    "\n",
    "O dataset original foi extraído do repositório StatLib, que não está mais disponível. Os dados que o compôem foram retirados do Censo realizado na Califórnia em 1990 e modificado para servir como base de treinamento.\n",
    "\n",
    "\n",
    "Link para o dataset no Kaggle: [https://www.kaggle.com/harrywang/housing/data](https://www.kaggle.com/harrywang/housing/data)\n",
    "\n",
    "\n",
    "### Descrição dos Dados Originais:\n",
    "\n",
    "#### Tamanho do Dataset:\n",
    "\n",
    "* `20.640` data points\n",
    "\n",
    "#### Variável dependente:\n",
    "\n",
    "* `median_house_value`:  (float) variável dependente com o valor da mediana do preço de imóvel na região\n",
    "\n",
    "#### Features: \n",
    "\n",
    "* `longitude`/`latitude`: (floats) posição global da região\n",
    "* `housing_median_age`: (float) mediana da idade (em anos) das casas da região\n",
    "* `total_rooms`: (float) total de aposentos da região\n",
    "* `total_bedrooms`: (float) total de quartos da região\n",
    "* `population`: (float) população total da região\n",
    "* `households`: (float) quantidade total de imóveis da região\n",
    "* `median_income`: (float) mediana do salário (por hora) de uma pessoa na região\n",
    "* `ocean_proximity`: (string) categorias relativas à distância do oceano\n",
    "\n",
    "\n",
    "### Modificação dos dados para o Desafio:\n",
    "\n",
    "Para tornar o desafio mais fácil de avaliar, a massa de dados original foi dividida em duas massas, uma para treino e outra para teste, ambas contendo pouco mais de `10.000` elementos. \n",
    "\n",
    "Por motivos didáticos, alguns elementos da massa de treino foram removidos e, sobre os elementos restantes, foi aplicada uma Feature Engineering. Não é necesário se preocupar com o que é uma Feature Engineering agora, será o tema da Aula 20. "
   ]
  },
  {
   "cell_type": "markdown",
   "metadata": {},
   "source": [
    "## Carregando os dados\n"
   ]
  },
  {
   "cell_type": "markdown",
   "metadata": {},
   "source": [
    "### Train Dataset "
   ]
  },
  {
   "cell_type": "code",
   "execution_count": null,
   "metadata": {
    "collapsed": true
   },
   "outputs": [],
   "source": [
    "dataset = pd.read_csv(\"data/feature_engineered_california_housing_train.csv\", sep=\"\\t\", index_col=0)\n",
    "x_train = dataset.drop([\"median_house_value\"], axis=1)\n",
    "y_train = dataset[[\"median_house_value\"]]"
   ]
  },
  {
   "cell_type": "code",
   "execution_count": null,
   "metadata": {
    "collapsed": true
   },
   "outputs": [],
   "source": [
    "print(f\"shape: {x_train.shape}\")\n",
    "x_train.head()"
   ]
  },
  {
   "cell_type": "code",
   "execution_count": null,
   "metadata": {
    "collapsed": true
   },
   "outputs": [],
   "source": [
    "print(f\"shape: {y_train.shape}\")\n",
    "y_train.head()"
   ]
  },
  {
   "cell_type": "markdown",
   "metadata": {},
   "source": [
    "### Test Dataset "
   ]
  },
  {
   "cell_type": "code",
   "execution_count": null,
   "metadata": {
    "collapsed": true
   },
   "outputs": [],
   "source": [
    "dataset = pd.read_csv(\"data/feature_engineered_california_housing_test.csv\", sep=\"\\t\", index_col=0)\n",
    "x_test = dataset.drop([\"median_house_value\"], axis=1)\n",
    "y_test = dataset[[\"median_house_value\"]]"
   ]
  },
  {
   "cell_type": "code",
   "execution_count": null,
   "metadata": {
    "collapsed": true
   },
   "outputs": [],
   "source": [
    "print(f\"shape: {x_test.shape}\")\n",
    "x_test.head()"
   ]
  },
  {
   "cell_type": "code",
   "execution_count": null,
   "metadata": {
    "collapsed": true
   },
   "outputs": [],
   "source": [
    "print(f\"shape: {y_test.shape}\")\n",
    "y_test.head()"
   ]
  },
  {
   "cell_type": "markdown",
   "metadata": {},
   "source": [
    "## Normalizando Features com Z-Score\n",
    "\n",
    "Passo importante quando se treina modelos lineares, por eliminar importâncias artificialmente grandes para features contendo valores muito grandes."
   ]
  },
  {
   "cell_type": "code",
   "execution_count": null,
   "metadata": {
    "collapsed": true
   },
   "outputs": [],
   "source": [
    "columns = x_train.columns"
   ]
  },
  {
   "cell_type": "code",
   "execution_count": null,
   "metadata": {
    "collapsed": true
   },
   "outputs": [],
   "source": [
    "zscore = StandardScaler().fit(x_train.loc[:, columns])"
   ]
  },
  {
   "cell_type": "code",
   "execution_count": null,
   "metadata": {
    "collapsed": true
   },
   "outputs": [],
   "source": [
    "x_train.loc[:, columns] = zscore.transform(x_train.loc[:, columns])\n",
    "x_test.loc[:, columns] = zscore.transform(x_test.loc[:, columns])"
   ]
  },
  {
   "cell_type": "markdown",
   "metadata": {},
   "source": [
    "# Problemas"
   ]
  },
  {
   "cell_type": "markdown",
   "metadata": {},
   "source": [
    "## A) Treinamento e Avaliação de Modelos com e sem Regularização\n",
    "\n",
    "A regularização tem como principal objetivo reduzir a complexidade do modelo criado ao limitar o crescimento dos parâmetros durante o treinamento. Com isso, é interessante notar que modelos com regularização tendem a ter menor diferença entre os desempenhos das métricas de avaliação sobre as massas de treino e de teste, indicando uma melhor generalização do modelo.\n",
    "\n",
    "Nessa seção, três tipos de modelo devem ser treinados: um **sem regularização**, um com **regularização L1** e um com **regularização L2**. O desempenho dos três tipos de modelo deverá ser comparado em termos de ${MSE}$ (_Mean Squared Error_) e da medida ${R^2}$."
   ]
  },
  {
   "cell_type": "markdown",
   "metadata": {},
   "source": [
    "### Modelo s/ Regularização"
   ]
  },
  {
   "cell_type": "markdown",
   "metadata": {},
   "source": [
    "#### Treinamento do modelo\n",
    "\n",
    "Usar [Linear Regression](http://scikit-learn.org/stable/modules/generated/sklearn.linear_model.LinearRegression.html) para treinar um modelo linear sem regularização."
   ]
  },
  {
   "cell_type": "code",
   "execution_count": null,
   "metadata": {
    "collapsed": true
   },
   "outputs": [],
   "source": [
    "\"\"\" Escreva a solução aqui \"\"\""
   ]
  },
  {
   "cell_type": "markdown",
   "metadata": {},
   "source": [
    "#### Avaliação do modelo treinado\n",
    "\n",
    "Avaliar o desempenho do modelo treinado sobre as massas de **treino** de **teste** usando as funções abaixo:\n",
    "\n",
    "* [`mean_squared_error`](http://scikit-learn.org/stable/modules/generated/sklearn.metrics.mean_squared_error.html)\n",
    "* [`r2_score`](http://scikit-learn.org/stable/modules/generated/sklearn.metrics.r2_score.html)"
   ]
  },
  {
   "cell_type": "markdown",
   "metadata": {},
   "source": [
    "##### Sobre a Massa de Treino"
   ]
  },
  {
   "cell_type": "code",
   "execution_count": null,
   "metadata": {
    "collapsed": true
   },
   "outputs": [],
   "source": [
    "\"\"\" Escreva a solução aqui \"\"\""
   ]
  },
  {
   "cell_type": "markdown",
   "metadata": {},
   "source": [
    "##### Sobre a Massa de Teste"
   ]
  },
  {
   "cell_type": "code",
   "execution_count": null,
   "metadata": {
    "collapsed": true
   },
   "outputs": [],
   "source": [
    "\"\"\" Escreva a solução aqui \"\"\""
   ]
  },
  {
   "cell_type": "markdown",
   "metadata": {},
   "source": [
    "### Modelo c/ Regularização L1"
   ]
  },
  {
   "cell_type": "markdown",
   "metadata": {},
   "source": [
    "#### Treinamento do modelo\n",
    "\n",
    "Usar [Lasso Regression](http://scikit-learn.org/stable/modules/generated/sklearn.linear_model.Lasso.html) para treinar um modelo linear com regularização do tipo L1."
   ]
  },
  {
   "cell_type": "code",
   "execution_count": null,
   "metadata": {
    "collapsed": true
   },
   "outputs": [],
   "source": [
    "\"\"\" Escreva a solução aqui \"\"\""
   ]
  },
  {
   "cell_type": "markdown",
   "metadata": {},
   "source": [
    "#### Avaliação do modelo treinado\n",
    "\n",
    "Avaliar o desempenho do modelo treinado sobre as massas de **treino** de **teste** usando as funções abaixo:\n",
    "\n",
    "* [`mean_squared_error`](http://scikit-learn.org/stable/modules/generated/sklearn.metrics.mean_squared_error.html)\n",
    "* [`r2_score`](http://scikit-learn.org/stable/modules/generated/sklearn.metrics.r2_score.html)"
   ]
  },
  {
   "cell_type": "markdown",
   "metadata": {},
   "source": [
    "##### Sobre a Massa de Treino"
   ]
  },
  {
   "cell_type": "code",
   "execution_count": null,
   "metadata": {
    "collapsed": true
   },
   "outputs": [],
   "source": [
    "\"\"\" Escreva a solução aqui \"\"\""
   ]
  },
  {
   "cell_type": "markdown",
   "metadata": {},
   "source": [
    "##### Sobre a Massa de Teste"
   ]
  },
  {
   "cell_type": "code",
   "execution_count": null,
   "metadata": {
    "collapsed": true
   },
   "outputs": [],
   "source": [
    "\"\"\" Escreva a solução aqui \"\"\""
   ]
  },
  {
   "cell_type": "markdown",
   "metadata": {},
   "source": [
    "### Modelo c/ Regularização L2"
   ]
  },
  {
   "cell_type": "markdown",
   "metadata": {},
   "source": [
    "#### Treinamento do modelo\n",
    "\n",
    "Usar [Ridge Regression](http://scikit-learn.org/stable/modules/generated/sklearn.linear_model.Ridge.html) para treinar um modelo linear com regularização do tipo L2."
   ]
  },
  {
   "cell_type": "code",
   "execution_count": null,
   "metadata": {
    "collapsed": true
   },
   "outputs": [],
   "source": [
    "\"\"\" Escreva a solução aqui \"\"\""
   ]
  },
  {
   "cell_type": "markdown",
   "metadata": {},
   "source": [
    "#### Avaliação do modelo treinado\n",
    "\n",
    "Avaliar o desempenho do modelo treinado sobre as massas de **treino** de **teste** usando as funções abaixo:\n",
    "\n",
    "* [`mean_squared_error`](http://scikit-learn.org/stable/modules/generated/sklearn.metrics.mean_squared_error.html)\n",
    "* [`r2_score`](http://scikit-learn.org/stable/modules/generated/sklearn.metrics.r2_score.html)"
   ]
  },
  {
   "cell_type": "markdown",
   "metadata": {},
   "source": [
    "##### Sobre a Massa de Treino"
   ]
  },
  {
   "cell_type": "code",
   "execution_count": null,
   "metadata": {
    "collapsed": true
   },
   "outputs": [],
   "source": [
    "\"\"\" Escreva a solução aqui \"\"\""
   ]
  },
  {
   "cell_type": "markdown",
   "metadata": {},
   "source": [
    "##### Sobre a Massa de Teste"
   ]
  },
  {
   "cell_type": "code",
   "execution_count": null,
   "metadata": {
    "collapsed": true
   },
   "outputs": [],
   "source": [
    "\"\"\" Escreva a solução aqui \"\"\""
   ]
  },
  {
   "cell_type": "markdown",
   "metadata": {},
   "source": [
    "### Comparação dos modelos treinados\n",
    "\n",
    "Criar uma tabela mostrando os valores de ${MSE}$ e de ${R^2}$ para as massas de treino e teste em cada modelo treinado, da forma mostrada abaixo:\n",
    "\n",
    "| Regularização | ${MSE}$ de Treino | ${MSE}$ de Teste | ${R^2}$ de Treino | ${R^2}$ de Teste |\n",
    "|:-------------:|:-----------------:|:----------------:|:-----------------:|:----------------:|\n",
    "| Nenhuma       | x.xx              | x.xx             | x.xx              | x.xx             |\n",
    "| L1            | x.xx              | x.xx             | x.xx              | x.xx             |\n",
    "| L2            | x.xx              | x.xx             | x.xx              | x.xx             |"
   ]
  },
  {
   "cell_type": "code",
   "execution_count": null,
   "metadata": {
    "collapsed": true
   },
   "outputs": [],
   "source": [
    "\"\"\" Escreva a solução aqui \"\"\""
   ]
  },
  {
   "cell_type": "markdown",
   "metadata": {},
   "source": [
    "## B) Efeito do parâmetro ${alpha}$ da regularização sobre o desempenho dos modelos\n",
    "\n",
    "O peso ${alpha}$ dado à regularização influencia o quanto o treinamento dos parâmetros é afetado. ${alpha}$ é sempre um número não negativo (i.e. ${\\geq{0}}$); o caso especial em que ${alpha=0}$ é exatamente a Regressão Linear **sem regularização**.\n",
    "\n",
    "Nessa seção, serão plotados alguns gráficos para avaliar como o ${alpha}$ influencia nas métricas da avaliação de um modelo. A comparação das métricas de avaliação das curvas de treino e de teste será feita variando ${alpha}$ e medindo o ${MSE}$ e o ${R^2}$."
   ]
  },
  {
   "cell_type": "markdown",
   "metadata": {},
   "source": [
    "### Função de Plot"
   ]
  },
  {
   "cell_type": "code",
   "execution_count": null,
   "metadata": {
    "collapsed": true
   },
   "outputs": [],
   "source": [
    "def plot_comparison(alpha_list, mse_tr_list, mse_te_list, r2_tr_list, r2_te_list):\n",
    "    # plotting graphics\n",
    "    fig, (ax_mse, ax_r2) = plt.subplots(2, sharex=True, figsize=(15, 8))\n",
    "\n",
    "    # MSE\n",
    "    mse_df = pd.DataFrame(\n",
    "        index=alpha_list,\n",
    "        columns=[\"train\", \"test\"],\n",
    "        data=list(zip(mse_tr_list, mse_te_list))\n",
    "    )\n",
    "    mse_df.plot(title=\"Comparação de MSE: Treino Vs Teste\", ax=ax_mse)\n",
    "    ax_mse.set(xlabel=\"alpha\", ylabel=\"mean squared error\")\n",
    "\n",
    "    # R2\n",
    "    r2_df = pd.DataFrame(\n",
    "        index=alpha_list,\n",
    "        columns=[\"train\", \"test\"],\n",
    "        data=list(zip(r2_tr_list, r2_te_list))\n",
    "    )\n",
    "    r2_df.plot(title=\"Comparação de R^2: Treino Vs Teste\", ax=ax_r2)\n",
    "    ax_r2.set(xlabel=\"alpha\", ylabel=\"r squared\")"
   ]
  },
  {
   "cell_type": "markdown",
   "metadata": {},
   "source": [
    "### Regularização L1\n",
    "\n",
    "Treinar um modelo para cada valor de *alpha* dado na lista e usar a função de plot para observar a evolução do ${R^2}$ para cada modelo.\n",
    "\n",
    "Em todos os treinamenots, usar os seguintes parâmetros:\n",
    "* `max_iter`: 1000 \n",
    "* `random_state`: 42"
   ]
  },
  {
   "cell_type": "code",
   "execution_count": null,
   "metadata": {
    "collapsed": true
   },
   "outputs": [],
   "source": [
    "# Definição dos valores de alpha\n",
    "alpha_list = np.linspace(0.001, 3000, 100)"
   ]
  },
  {
   "cell_type": "code",
   "execution_count": null,
   "metadata": {
    "collapsed": true
   },
   "outputs": [],
   "source": [
    "# initializing lists\n",
    "mse_tr_list = []\n",
    "mse_te_list = []\n",
    "r2_tr_list = []\n",
    "r2_te_list = []"
   ]
  },
  {
   "cell_type": "code",
   "execution_count": null,
   "metadata": {
    "collapsed": true
   },
   "outputs": [],
   "source": [
    "\"\"\" Complete os espaços com ? \"\"\"\n",
    "for alpha in alpha_list:\n",
    "    # create / train model\n",
    "    model = ?\n",
    "    \n",
    "    # Train Evaluation Metrics\n",
    "    mse_tr = ?\n",
    "    r2_tr = ?\n",
    "    \n",
    "    # Test Evaluation Metrics\n",
    "    mse_te = ?\n",
    "    r2_te = ?\n",
    "    \n",
    "    # append all eval metrics\n",
    "    mse_tr_list.append(mse_tr)\n",
    "    mse_te_list.append(mse_te)\n",
    "    r2_tr_list.append(r2_tr)\n",
    "    r2_te_list.append(r2_te)"
   ]
  },
  {
   "cell_type": "code",
   "execution_count": null,
   "metadata": {
    "collapsed": true
   },
   "outputs": [],
   "source": [
    "plot_comparison(alpha_list, mse_tr_list, mse_te_list, r2_tr_list, r2_te_list)"
   ]
  },
  {
   "cell_type": "markdown",
   "metadata": {},
   "source": [
    "### Regularização L2"
   ]
  },
  {
   "cell_type": "code",
   "execution_count": null,
   "metadata": {
    "collapsed": true
   },
   "outputs": [],
   "source": [
    "# Definição dos valores de alpha\n",
    "alpha_list = np.linspace(0.001, 3000, 100)"
   ]
  },
  {
   "cell_type": "code",
   "execution_count": null,
   "metadata": {
    "collapsed": true
   },
   "outputs": [],
   "source": [
    "# initializing lists\n",
    "mse_tr_list = []\n",
    "mse_te_list = []\n",
    "r2_tr_list = []\n",
    "r2_te_list = []"
   ]
  },
  {
   "cell_type": "code",
   "execution_count": null,
   "metadata": {
    "collapsed": true
   },
   "outputs": [],
   "source": [
    "\"\"\" Complete os espaços com ? \"\"\"\n",
    "for alpha in alpha_list:\n",
    "    # create / train model\n",
    "    model = ?\n",
    "    \n",
    "    # Train Evaluation Metrics\n",
    "    mse_tr = ?\n",
    "    r2_tr = ?\n",
    "    \n",
    "    # Test Evaluation Metrics\n",
    "    mse_te = ?\n",
    "    r2_te = ?\n",
    "    \n",
    "    # append all eval metrics\n",
    "    mse_tr_list.append(mse_tr)\n",
    "    mse_te_list.append(mse_te)\n",
    "    r2_tr_list.append(r2_tr)\n",
    "    r2_te_list.append(r2_te)"
   ]
  },
  {
   "cell_type": "code",
   "execution_count": null,
   "metadata": {
    "collapsed": true
   },
   "outputs": [],
   "source": [
    "plot_comparison(alpha_list, mse_tr_list, mse_te_list, r2_tr_list, r2_te_list)"
   ]
  },
  {
   "cell_type": "markdown",
   "metadata": {},
   "source": [
    "## C)  Avaliação dos Parâmetros\n",
    "\n",
    "A principal característica da regularização é a diminuição gradual da magnitude dos pesos a cada iteração. Essa diminuição controla o tamanho máximo dos parâmetros internos do modelo, impedindo que os mesmos definam espaços de solução muito irregulares, o que pode levar a soluções não genéricas.\n",
    "\n",
    "Nessa seção serão comparados os parâmetros treinados com **regularização L1**. Os valores de ${alpha}$ utilizados serão definidos a partir do estudo realizado no item B."
   ]
  },
  {
   "cell_type": "markdown",
   "metadata": {},
   "source": [
    "### Função Auxiliar\n",
    "\n",
    "A função abaixo treina um dado modelo linear por `max_iter` épocas, armazenando o histórico de cada parâmetro."
   ]
  },
  {
   "cell_type": "code",
   "execution_count": null,
   "metadata": {
    "collapsed": true
   },
   "outputs": [],
   "source": [
    "def train_model(model_class, X, y, max_iter, **kwargs):\n",
    "    \n",
    "    def get_params(model, X, y, iter):        \n",
    "        model.fit(X, y)\n",
    "        return pd.DataFrame(\n",
    "            index=[iter],\n",
    "            columns=X.columns.tolist() + [\"intercept\"],\n",
    "            data=[model.coef_.tolist() + [model.intercept_]]\n",
    "        )\n",
    "    \n",
    "    model = model_class(warm_start=True, max_iter=1, **kwargs)\n",
    "    params = get_params(model, X, y, 0)\n",
    "    for iter in range(1, max_iter):        \n",
    "        params = params.append(get_params(model, X, y, iter))\n",
    "    return params"
   ]
  },
  {
   "cell_type": "markdown",
   "metadata": {},
   "source": [
    "### Dados utilizados\n",
    "\n",
    "Para facilitar a visualização da evolução dos pesos a cada iteração, será utilizada apenas uma amostra das features disponíveis. O número recomendável de features é de até 15; acima disso, fica difícil distinguir as cores de cada feature."
   ]
  },
  {
   "cell_type": "code",
   "execution_count": null,
   "metadata": {
    "collapsed": true
   },
   "outputs": [],
   "source": [
    "features = [\n",
    "    'log_of_total_rooms', \n",
    "    'log_of_total_bedrooms', \n",
    "    'log_of_population',\n",
    "    'log_of_households', \n",
    "    'log_of_median_income',\n",
    "    'total_rooms', \n",
    "    'total_bedrooms', \n",
    "    'population',\n",
    "    'households', \n",
    "    'median_income'\n",
    "]"
   ]
  },
  {
   "cell_type": "code",
   "execution_count": null,
   "metadata": {
    "collapsed": true
   },
   "outputs": [],
   "source": [
    "X = x_train[features]\n",
    "y = y_train"
   ]
  },
  {
   "cell_type": "markdown",
   "metadata": {},
   "source": [
    "### Valor de ${alpha}$ próximo a zero"
   ]
  },
  {
   "cell_type": "code",
   "execution_count": null,
   "metadata": {
    "collapsed": true
   },
   "outputs": [],
   "source": [
    "\"\"\" Escreva a solução aqui \"\"\""
   ]
  },
  {
   "cell_type": "markdown",
   "metadata": {},
   "source": [
    "### Valor de ${alpha}$ mediano"
   ]
  },
  {
   "cell_type": "code",
   "execution_count": null,
   "metadata": {
    "collapsed": true
   },
   "outputs": [],
   "source": [
    "\"\"\" Escreva a solução aqui \"\"\""
   ]
  },
  {
   "cell_type": "markdown",
   "metadata": {},
   "source": [
    "### Valor de ${alpha}$ alto"
   ]
  },
  {
   "cell_type": "code",
   "execution_count": null,
   "metadata": {
    "collapsed": true
   },
   "outputs": [],
   "source": [
    "\"\"\" Escreva a solução aqui \"\"\""
   ]
  }
 ],
 "metadata": {
  "kernelspec": {
   "display_name": "Python 3",
   "language": "python",
   "name": "python3"
  },
  "language_info": {
   "codemirror_mode": {
    "name": "ipython",
    "version": 3
   },
   "file_extension": ".py",
   "mimetype": "text/x-python",
   "name": "python",
   "nbconvert_exporter": "python",
   "pygments_lexer": "ipython3",
   "version": "3.6.2"
  }
 },
 "nbformat": 4,
 "nbformat_minor": 2
}
